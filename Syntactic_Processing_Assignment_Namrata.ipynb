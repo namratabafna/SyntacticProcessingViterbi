{
 "cells": [
  {
   "cell_type": "markdown",
   "metadata": {},
   "source": [
    "## POS Tagging, HMMs, Viterbi\n",
    "\n",
    "Let's learn how to do POS tagging by Viterbi Heuristic using tagged Treebank corpus. Before going through the code, let's first understand the pseudo-code for the same. \n",
    "\n",
    "1. Tagged Treebank corpus is available (Sample data to training and test data set)\n",
    "   - Basic text and structure exploration\n",
    "2. Creating HMM model on the tagged data set.\n",
    "   - Calculating Emission Probabaility: P(observation|state)\n",
    "   - Calculating Transition Probability: P(state2|state1)\n",
    "3. Developing algorithm for Viterbi Heuristic\n",
    "4. Checking accuracy on the test data set\n",
    "\n",
    "\n",
    "## 1. Exploring Treebank Tagged Corpus"
   ]
  },
  {
   "cell_type": "code",
   "execution_count": 1,
   "metadata": {},
   "outputs": [
    {
     "name": "stderr",
     "output_type": "stream",
     "text": [
      "C:\\Users\\namra\\anaconda3\\lib\\site-packages\\numpy\\_distributor_init.py:30: UserWarning: loaded more than 1 DLL from .libs:\n",
      "C:\\Users\\namra\\anaconda3\\lib\\site-packages\\numpy\\.libs\\libopenblas.noijjg62emaszi6nyurl6jbkm4evbgm7.gfortran-win_amd64.dll\n",
      "C:\\Users\\namra\\anaconda3\\lib\\site-packages\\numpy\\.libs\\libopenblas.PYQHXLVVQ7VESDPUVUADXEVJOBGHJPAY.gfortran-win_amd64.dll\n",
      "  warnings.warn(\"loaded more than 1 DLL from .libs:\\n%s\" %\n"
     ]
    }
   ],
   "source": [
    "#Importing libraries\n",
    "import nltk, re, pprint\n",
    "import numpy as np\n",
    "import pandas as pd\n",
    "import requests\n",
    "import matplotlib.pyplot as plt\n",
    "import seaborn as sns\n",
    "import pprint, time\n",
    "import random\n",
    "from sklearn.model_selection import train_test_split\n",
    "from nltk.tokenize import word_tokenize"
   ]
  },
  {
   "cell_type": "code",
   "execution_count": 2,
   "metadata": {},
   "outputs": [],
   "source": [
    "# reading the Treebank tagged sentences\n",
    "wsj = list(nltk.corpus.treebank.tagged_sents(tagset='universal'))"
   ]
  },
  {
   "cell_type": "code",
   "execution_count": 3,
   "metadata": {
    "scrolled": true
   },
   "outputs": [
    {
     "name": "stdout",
     "output_type": "stream",
     "text": [
      "[[('Pierre', 'NOUN'), ('Vinken', 'NOUN'), (',', '.'), ('61', 'NUM'), ('years', 'NOUN'), ('old', 'ADJ'), (',', '.'), ('will', 'VERB'), ('join', 'VERB'), ('the', 'DET'), ('board', 'NOUN'), ('as', 'ADP'), ('a', 'DET'), ('nonexecutive', 'ADJ'), ('director', 'NOUN'), ('Nov.', 'NOUN'), ('29', 'NUM'), ('.', '.')], [('Mr.', 'NOUN'), ('Vinken', 'NOUN'), ('is', 'VERB'), ('chairman', 'NOUN'), ('of', 'ADP'), ('Elsevier', 'NOUN'), ('N.V.', 'NOUN'), (',', '.'), ('the', 'DET'), ('Dutch', 'NOUN'), ('publishing', 'VERB'), ('group', 'NOUN'), ('.', '.')], [('Rudolph', 'NOUN'), ('Agnew', 'NOUN'), (',', '.'), ('55', 'NUM'), ('years', 'NOUN'), ('old', 'ADJ'), ('and', 'CONJ'), ('former', 'ADJ'), ('chairman', 'NOUN'), ('of', 'ADP'), ('Consolidated', 'NOUN'), ('Gold', 'NOUN'), ('Fields', 'NOUN'), ('PLC', 'NOUN'), (',', '.'), ('was', 'VERB'), ('named', 'VERB'), ('*-1', 'X'), ('a', 'DET'), ('nonexecutive', 'ADJ'), ('director', 'NOUN'), ('of', 'ADP'), ('this', 'DET'), ('British', 'ADJ'), ('industrial', 'ADJ'), ('conglomerate', 'NOUN'), ('.', '.')], [('A', 'DET'), ('form', 'NOUN'), ('of', 'ADP'), ('asbestos', 'NOUN'), ('once', 'ADV'), ('used', 'VERB'), ('*', 'X'), ('*', 'X'), ('to', 'PRT'), ('make', 'VERB'), ('Kent', 'NOUN'), ('cigarette', 'NOUN'), ('filters', 'NOUN'), ('has', 'VERB'), ('caused', 'VERB'), ('a', 'DET'), ('high', 'ADJ'), ('percentage', 'NOUN'), ('of', 'ADP'), ('cancer', 'NOUN'), ('deaths', 'NOUN'), ('among', 'ADP'), ('a', 'DET'), ('group', 'NOUN'), ('of', 'ADP'), ('workers', 'NOUN'), ('exposed', 'VERB'), ('*', 'X'), ('to', 'PRT'), ('it', 'PRON'), ('more', 'ADV'), ('than', 'ADP'), ('30', 'NUM'), ('years', 'NOUN'), ('ago', 'ADP'), (',', '.'), ('researchers', 'NOUN'), ('reported', 'VERB'), ('0', 'X'), ('*T*-1', 'X'), ('.', '.')], [('The', 'DET'), ('asbestos', 'NOUN'), ('fiber', 'NOUN'), (',', '.'), ('crocidolite', 'NOUN'), (',', '.'), ('is', 'VERB'), ('unusually', 'ADV'), ('resilient', 'ADJ'), ('once', 'ADP'), ('it', 'PRON'), ('enters', 'VERB'), ('the', 'DET'), ('lungs', 'NOUN'), (',', '.'), ('with', 'ADP'), ('even', 'ADV'), ('brief', 'ADJ'), ('exposures', 'NOUN'), ('to', 'PRT'), ('it', 'PRON'), ('causing', 'VERB'), ('symptoms', 'NOUN'), ('that', 'DET'), ('*T*-1', 'X'), ('show', 'VERB'), ('up', 'PRT'), ('decades', 'NOUN'), ('later', 'ADJ'), (',', '.'), ('researchers', 'NOUN'), ('said', 'VERB'), ('0', 'X'), ('*T*-2', 'X'), ('.', '.')], [('Lorillard', 'NOUN'), ('Inc.', 'NOUN'), (',', '.'), ('the', 'DET'), ('unit', 'NOUN'), ('of', 'ADP'), ('New', 'ADJ'), ('York-based', 'ADJ'), ('Loews', 'NOUN'), ('Corp.', 'NOUN'), ('that', 'DET'), ('*T*-2', 'X'), ('makes', 'VERB'), ('Kent', 'NOUN'), ('cigarettes', 'NOUN'), (',', '.'), ('stopped', 'VERB'), ('using', 'VERB'), ('crocidolite', 'NOUN'), ('in', 'ADP'), ('its', 'PRON'), ('Micronite', 'NOUN'), ('cigarette', 'NOUN'), ('filters', 'NOUN'), ('in', 'ADP'), ('1956', 'NUM'), ('.', '.')], [('Although', 'ADP'), ('preliminary', 'ADJ'), ('findings', 'NOUN'), ('were', 'VERB'), ('reported', 'VERB'), ('*-2', 'X'), ('more', 'ADV'), ('than', 'ADP'), ('a', 'DET'), ('year', 'NOUN'), ('ago', 'ADP'), (',', '.'), ('the', 'DET'), ('latest', 'ADJ'), ('results', 'NOUN'), ('appear', 'VERB'), ('in', 'ADP'), ('today', 'NOUN'), (\"'s\", 'PRT'), ('New', 'NOUN'), ('England', 'NOUN'), ('Journal', 'NOUN'), ('of', 'ADP'), ('Medicine', 'NOUN'), (',', '.'), ('a', 'DET'), ('forum', 'NOUN'), ('likely', 'ADJ'), ('*', 'X'), ('to', 'PRT'), ('bring', 'VERB'), ('new', 'ADJ'), ('attention', 'NOUN'), ('to', 'PRT'), ('the', 'DET'), ('problem', 'NOUN'), ('.', '.')], [('A', 'DET'), ('Lorillard', 'NOUN'), ('spokewoman', 'NOUN'), ('said', 'VERB'), (',', '.'), ('``', '.'), ('This', 'DET'), ('is', 'VERB'), ('an', 'DET'), ('old', 'ADJ'), ('story', 'NOUN'), ('.', '.')], [('We', 'PRON'), (\"'re\", 'VERB'), ('talking', 'VERB'), ('about', 'ADP'), ('years', 'NOUN'), ('ago', 'ADP'), ('before', 'ADP'), ('anyone', 'NOUN'), ('heard', 'VERB'), ('of', 'ADP'), ('asbestos', 'NOUN'), ('having', 'VERB'), ('any', 'DET'), ('questionable', 'ADJ'), ('properties', 'NOUN'), ('.', '.')], [('There', 'DET'), ('is', 'VERB'), ('no', 'DET'), ('asbestos', 'NOUN'), ('in', 'ADP'), ('our', 'PRON'), ('products', 'NOUN'), ('now', 'ADV'), ('.', '.'), (\"''\", '.')], [('Neither', 'DET'), ('Lorillard', 'NOUN'), ('nor', 'CONJ'), ('the', 'DET'), ('researchers', 'NOUN'), ('who', 'PRON'), ('*T*-3', 'X'), ('studied', 'VERB'), ('the', 'DET'), ('workers', 'NOUN'), ('were', 'VERB'), ('aware', 'ADJ'), ('of', 'ADP'), ('any', 'DET'), ('research', 'NOUN'), ('on', 'ADP'), ('smokers', 'NOUN'), ('of', 'ADP'), ('the', 'DET'), ('Kent', 'NOUN'), ('cigarettes', 'NOUN'), ('.', '.')], [('``', '.'), ('We', 'PRON'), ('have', 'VERB'), ('no', 'DET'), ('useful', 'ADJ'), ('information', 'NOUN'), ('on', 'ADP'), ('whether', 'ADP'), ('users', 'NOUN'), ('are', 'VERB'), ('at', 'ADP'), ('risk', 'NOUN'), (',', '.'), (\"''\", '.'), ('said', 'VERB'), ('*T*-1', 'X'), ('James', 'NOUN'), ('A.', 'NOUN'), ('Talcott', 'NOUN'), ('of', 'ADP'), ('Boston', 'NOUN'), (\"'s\", 'PRT'), ('Dana-Farber', 'NOUN'), ('Cancer', 'NOUN'), ('Institute', 'NOUN'), ('.', '.')], [('Dr.', 'NOUN'), ('Talcott', 'NOUN'), ('led', 'VERB'), ('a', 'DET'), ('team', 'NOUN'), ('of', 'ADP'), ('researchers', 'NOUN'), ('from', 'ADP'), ('the', 'DET'), ('National', 'NOUN'), ('Cancer', 'NOUN'), ('Institute', 'NOUN'), ('and', 'CONJ'), ('the', 'DET'), ('medical', 'ADJ'), ('schools', 'NOUN'), ('of', 'ADP'), ('Harvard', 'NOUN'), ('University', 'NOUN'), ('and', 'CONJ'), ('Boston', 'NOUN'), ('University', 'NOUN'), ('.', '.')], [('The', 'DET'), ('Lorillard', 'NOUN'), ('spokeswoman', 'NOUN'), ('said', 'VERB'), ('0', 'X'), ('asbestos', 'NOUN'), ('was', 'VERB'), ('used', 'VERB'), ('*-1', 'X'), ('in', 'ADP'), ('``', '.'), ('very', 'ADV'), ('modest', 'ADJ'), ('amounts', 'NOUN'), (\"''\", '.'), ('in', 'ADP'), ('*', 'X'), ('making', 'VERB'), ('paper', 'NOUN'), ('for', 'ADP'), ('the', 'DET'), ('filters', 'NOUN'), ('in', 'ADP'), ('the', 'DET'), ('early', 'ADJ'), ('1950s', 'NUM'), ('and', 'CONJ'), ('replaced', 'VERB'), ('*-1', 'X'), ('with', 'ADP'), ('a', 'DET'), ('different', 'ADJ'), ('type', 'NOUN'), ('of', 'ADP'), ('filter', 'NOUN'), ('in', 'ADP'), ('1956', 'NUM'), ('.', '.')], [('From', 'ADP'), ('1953', 'NUM'), ('to', 'PRT'), ('1955', 'NUM'), (',', '.'), ('9.8', 'NUM'), ('billion', 'NUM'), ('Kent', 'NOUN'), ('cigarettes', 'NOUN'), ('with', 'ADP'), ('the', 'DET'), ('filters', 'NOUN'), ('were', 'VERB'), ('sold', 'VERB'), ('*-3', 'X'), (',', '.'), ('the', 'DET'), ('company', 'NOUN'), ('said', 'VERB'), ('0', 'X'), ('*T*-1', 'X'), ('.', '.')], [('Among', 'ADP'), ('33', 'NUM'), ('men', 'NOUN'), ('who', 'PRON'), ('*T*-4', 'X'), ('worked', 'VERB'), ('closely', 'ADV'), ('with', 'ADP'), ('the', 'DET'), ('substance', 'NOUN'), (',', '.'), ('28', 'NUM'), ('*ICH*-1', 'X'), ('have', 'VERB'), ('died', 'VERB'), ('--', '.'), ('more', 'ADJ'), ('than', 'ADP'), ('three', 'NUM'), ('times', 'NOUN'), ('the', 'DET'), ('expected', 'VERB'), ('number', 'NOUN'), ('.', '.')], [('Four', 'NUM'), ('of', 'ADP'), ('the', 'DET'), ('five', 'NUM'), ('surviving', 'VERB'), ('workers', 'NOUN'), ('have', 'VERB'), ('asbestos-related', 'ADJ'), ('diseases', 'NOUN'), (',', '.'), ('including', 'VERB'), ('three', 'NUM'), ('with', 'ADP'), ('recently', 'ADV'), ('diagnosed', 'VERB'), ('cancer', 'NOUN'), ('.', '.')], [('The', 'DET'), ('total', 'NOUN'), ('of', 'ADP'), ('18', 'NUM'), ('deaths', 'NOUN'), ('from', 'ADP'), ('malignant', 'ADJ'), ('mesothelioma', 'NOUN'), (',', '.'), ('lung', 'NOUN'), ('cancer', 'NOUN'), ('and', 'CONJ'), ('asbestosis', 'NOUN'), ('was', 'VERB'), ('far', 'ADV'), ('higher', 'ADJ'), ('than', 'ADP'), ('*', 'X'), ('expected', 'VERB'), ('*?*', 'X'), (',', '.'), ('the', 'DET'), ('researchers', 'NOUN'), ('said', 'VERB'), ('0', 'X'), ('*T*-1', 'X'), ('.', '.')], [('``', '.'), ('The', 'DET'), ('morbidity', 'NOUN'), ('rate', 'NOUN'), ('is', 'VERB'), ('a', 'DET'), ('striking', 'ADJ'), ('finding', 'NOUN'), ('among', 'ADP'), ('those', 'DET'), ('of', 'ADP'), ('us', 'PRON'), ('who', 'PRON'), ('*T*-5', 'X'), ('study', 'VERB'), ('asbestos-related', 'ADJ'), ('diseases', 'NOUN'), (',', '.'), (\"''\", '.'), ('said', 'VERB'), ('*T*-1', 'X'), ('Dr.', 'NOUN'), ('Talcott', 'NOUN'), ('.', '.')], [('The', 'DET'), ('percentage', 'NOUN'), ('of', 'ADP'), ('lung', 'NOUN'), ('cancer', 'NOUN'), ('deaths', 'NOUN'), ('among', 'ADP'), ('the', 'DET'), ('workers', 'NOUN'), ('at', 'ADP'), ('the', 'DET'), ('West', 'NOUN'), ('Groton', 'NOUN'), (',', '.'), ('Mass.', 'NOUN'), (',', '.'), ('paper', 'NOUN'), ('factory', 'NOUN'), ('appears', 'VERB'), ('*-1', 'X'), ('to', 'PRT'), ('be', 'VERB'), ('the', 'DET'), ('highest', 'ADJ'), ('for', 'ADP'), ('any', 'DET'), ('asbestos', 'NOUN'), ('workers', 'NOUN'), ('studied', 'VERB'), ('*', 'X'), ('in', 'ADP'), ('Western', 'ADJ'), ('industrialized', 'VERB'), ('countries', 'NOUN'), (',', '.'), ('he', 'PRON'), ('said', 'VERB'), ('0', 'X'), ('*T*-2', 'X'), ('.', '.')], [('The', 'DET'), ('plant', 'NOUN'), (',', '.'), ('which', 'DET'), ('*T*-1', 'X'), ('is', 'VERB'), ('owned', 'VERB'), ('*-4', 'X'), ('by', 'ADP'), ('Hollingsworth', 'NOUN'), ('&', 'CONJ'), ('Vose', 'NOUN'), ('Co.', 'NOUN'), (',', '.'), ('was', 'VERB'), ('under', 'ADP'), ('contract', 'NOUN'), ('*ICH*-2', 'X'), ('with', 'ADP'), ('Lorillard', 'NOUN'), ('*', 'X'), ('to', 'PRT'), ('make', 'VERB'), ('the', 'DET'), ('cigarette', 'NOUN'), ('filters', 'NOUN'), ('.', '.')], [('The', 'DET'), ('finding', 'NOUN'), ('probably', 'ADV'), ('will', 'VERB'), ('support', 'VERB'), ('those', 'DET'), ('who', 'PRON'), ('*T*-6', 'X'), ('argue', 'VERB'), ('that', 'ADP'), ('the', 'DET'), ('U.S.', 'NOUN'), ('should', 'VERB'), ('regulate', 'VERB'), ('the', 'DET'), ('class', 'NOUN'), ('of', 'ADP'), ('asbestos', 'NOUN'), ('including', 'VERB'), ('crocidolite', 'NOUN'), ('more', 'ADV'), ('stringently', 'ADV'), ('than', 'ADP'), ('the', 'DET'), ('common', 'ADJ'), ('kind', 'NOUN'), ('of', 'ADP'), ('asbestos', 'NOUN'), (',', '.'), ('chrysotile', 'NOUN'), (',', '.'), ('found', 'VERB'), ('*', 'X'), ('in', 'ADP'), ('most', 'ADJ'), ('schools', 'NOUN'), ('and', 'CONJ'), ('other', 'ADJ'), ('buildings', 'NOUN'), (',', '.'), ('Dr.', 'NOUN'), ('Talcott', 'NOUN'), ('said', 'VERB'), ('0', 'X'), ('*T*-1', 'X'), ('.', '.')], [('The', 'DET'), ('U.S.', 'NOUN'), ('is', 'VERB'), ('one', 'NUM'), ('of', 'ADP'), ('the', 'DET'), ('few', 'ADJ'), ('industrialized', 'VERB'), ('nations', 'NOUN'), ('that', 'DET'), ('*T*-7', 'X'), ('does', 'VERB'), (\"n't\", 'ADV'), ('have', 'VERB'), ('a', 'DET'), ('higher', 'ADJ'), ('standard', 'NOUN'), ('of', 'ADP'), ('regulation', 'NOUN'), ('for', 'ADP'), ('the', 'DET'), ('smooth', 'ADJ'), (',', '.'), ('needle-like', 'ADJ'), ('fibers', 'NOUN'), ('such', 'ADJ'), ('as', 'ADP'), ('crocidolite', 'NOUN'), ('that', 'DET'), ('*T*-1', 'X'), ('are', 'VERB'), ('classified', 'VERB'), ('*-5', 'X'), ('as', 'ADP'), ('amphobiles', 'NOUN'), (',', '.'), ('according', 'VERB'), ('to', 'PRT'), ('Brooke', 'NOUN'), ('T.', 'NOUN'), ('Mossman', 'NOUN'), (',', '.'), ('a', 'DET'), ('professor', 'NOUN'), ('of', 'ADP'), ('pathlogy', 'NOUN'), ('at', 'ADP'), ('the', 'DET'), ('University', 'NOUN'), ('of', 'ADP'), ('Vermont', 'NOUN'), ('College', 'NOUN'), ('of', 'ADP'), ('Medicine', 'NOUN'), ('.', '.')], [('More', 'ADV'), ('common', 'ADJ'), ('chrysotile', 'NOUN'), ('fibers', 'NOUN'), ('are', 'VERB'), ('curly', 'ADJ'), ('and', 'CONJ'), ('are', 'VERB'), ('more', 'ADV'), ('easily', 'ADV'), ('rejected', 'VERB'), ('*-1', 'X'), ('by', 'ADP'), ('the', 'DET'), ('body', 'NOUN'), (',', '.'), ('Dr.', 'NOUN'), ('Mossman', 'NOUN'), ('explained', 'VERB'), ('0', 'X'), ('*T*-2', 'X'), ('.', '.')], [('In', 'ADP'), ('July', 'NOUN'), (',', '.'), ('the', 'DET'), ('Environmental', 'NOUN'), ('Protection', 'NOUN'), ('Agency', 'NOUN'), ('imposed', 'VERB'), ('a', 'DET'), ('gradual', 'ADJ'), ('ban', 'NOUN'), ('on', 'ADP'), ('virtually', 'ADV'), ('all', 'DET'), ('uses', 'NOUN'), ('of', 'ADP'), ('asbestos', 'NOUN'), ('.', '.')], [('By', 'ADP'), ('1997', 'NUM'), (',', '.'), ('almost', 'ADV'), ('all', 'DET'), ('remaining', 'VERB'), ('uses', 'NOUN'), ('of', 'ADP'), ('cancer-causing', 'ADJ'), ('asbestos', 'NOUN'), ('will', 'VERB'), ('be', 'VERB'), ('outlawed', 'VERB'), ('*-6', 'X'), ('.', '.')], [('About', 'ADP'), ('160', 'NUM'), ('workers', 'NOUN'), ('at', 'ADP'), ('a', 'DET'), ('factory', 'NOUN'), ('that', 'DET'), ('*T*-8', 'X'), ('made', 'VERB'), ('paper', 'NOUN'), ('for', 'ADP'), ('the', 'DET'), ('Kent', 'NOUN'), ('filters', 'NOUN'), ('were', 'VERB'), ('exposed', 'VERB'), ('*-7', 'X'), ('to', 'PRT'), ('asbestos', 'NOUN'), ('in', 'ADP'), ('the', 'DET'), ('1950s', 'NUM'), ('.', '.')], [('Areas', 'NOUN'), ('of', 'ADP'), ('the', 'DET'), ('factory', 'NOUN'), ('*ICH*-2', 'X'), ('were', 'VERB'), ('particularly', 'ADV'), ('dusty', 'ADJ'), ('where', 'ADV'), ('the', 'DET'), ('crocidolite', 'NOUN'), ('was', 'VERB'), ('used', 'VERB'), ('*-8', 'X'), ('*T*-1', 'X'), ('.', '.')], [('Workers', 'NOUN'), ('dumped', 'VERB'), ('large', 'ADJ'), ('burlap', 'NOUN'), ('sacks', 'NOUN'), ('of', 'ADP'), ('the', 'DET'), ('imported', 'VERB'), ('material', 'NOUN'), ('into', 'ADP'), ('a', 'DET'), ('huge', 'ADJ'), ('bin', 'NOUN'), (',', '.'), ('poured', 'VERB'), ('in', 'PRT'), ('cotton', 'NOUN'), ('and', 'CONJ'), ('acetate', 'NOUN'), ('fibers', 'NOUN'), ('and', 'CONJ'), ('mechanically', 'ADV'), ('mixed', 'VERB'), ('the', 'DET'), ('dry', 'ADJ'), ('fibers', 'NOUN'), ('in', 'ADP'), ('a', 'DET'), ('process', 'NOUN'), ('used', 'VERB'), ('*', 'X'), ('*', 'X'), ('to', 'PRT'), ('make', 'VERB'), ('filters', 'NOUN'), ('.', '.')], [('Workers', 'NOUN'), ('described', 'VERB'), ('``', '.'), ('clouds', 'NOUN'), ('of', 'ADP'), ('blue', 'ADJ'), ('dust', 'NOUN'), (\"''\", '.'), ('that', 'DET'), ('*T*-1', 'X'), ('hung', 'VERB'), ('over', 'ADP'), ('parts', 'NOUN'), ('of', 'ADP'), ('the', 'DET'), ('factory', 'NOUN'), (',', '.'), ('even', 'ADV'), ('though', 'ADP'), ('exhaust', 'NOUN'), ('fans', 'NOUN'), ('ventilated', 'VERB'), ('the', 'DET'), ('area', 'NOUN'), ('.', '.')], [('``', '.'), ('There', 'DET'), (\"'s\", 'VERB'), ('no', 'DET'), ('question', 'NOUN'), ('that', 'ADP'), ('some', 'DET'), ('of', 'ADP'), ('those', 'DET'), ('workers', 'NOUN'), ('and', 'CONJ'), ('managers', 'NOUN'), ('contracted', 'VERB'), ('asbestos-related', 'ADJ'), ('diseases', 'NOUN'), (',', '.'), (\"''\", '.'), ('said', 'VERB'), ('*T*-1', 'X'), ('Darrell', 'NOUN'), ('Phillips', 'NOUN'), (',', '.'), ('vice', 'NOUN'), ('president', 'NOUN'), ('of', 'ADP'), ('human', 'ADJ'), ('resources', 'NOUN'), ('for', 'ADP'), ('Hollingsworth', 'NOUN'), ('&', 'CONJ'), ('Vose', 'NOUN'), ('.', '.')], [('``', '.'), ('But', 'CONJ'), ('you', 'PRON'), ('have', 'VERB'), ('*-1', 'X'), ('to', 'PRT'), ('recognize', 'VERB'), ('that', 'ADP'), ('these', 'DET'), ('events', 'NOUN'), ('took', 'VERB'), ('place', 'NOUN'), ('35', 'NUM'), ('years', 'NOUN'), ('ago', 'ADP'), ('.', '.')], [('It', 'PRON'), ('has', 'VERB'), ('no', 'DET'), ('bearing', 'NOUN'), ('on', 'ADP'), ('our', 'PRON'), ('work', 'NOUN'), ('force', 'NOUN'), ('today', 'NOUN'), ('.', '.')], [('Yields', 'NOUN'), ('on', 'ADP'), ('money-market', 'ADJ'), ('mutual', 'ADJ'), ('funds', 'NOUN'), ('continued', 'VERB'), ('*-1', 'X'), ('to', 'PRT'), ('slide', 'VERB'), (',', '.'), ('amid', 'ADP'), ('signs', 'NOUN'), ('that', 'ADP'), ('portfolio', 'NOUN'), ('managers', 'NOUN'), ('expect', 'VERB'), ('further', 'ADJ'), ('declines', 'NOUN'), ('in', 'ADP'), ('interest', 'NOUN'), ('rates', 'NOUN'), ('.', '.')], [('The', 'DET'), ('average', 'ADJ'), ('seven-day', 'ADJ'), ('compound', 'NOUN'), ('yield', 'NOUN'), ('of', 'ADP'), ('the', 'DET'), ('400', 'NUM'), ('taxable', 'ADJ'), ('funds', 'NOUN'), ('tracked', 'VERB'), ('*', 'X'), ('by', 'ADP'), ('IBC', 'NOUN'), (\"'s\", 'PRT'), ('Money', 'NOUN'), ('Fund', 'NOUN'), ('Report', 'NOUN'), ('eased', 'VERB'), ('a', 'DET'), ('fraction', 'NOUN'), ('of', 'ADP'), ('a', 'DET'), ('percentage', 'NOUN'), ('point', 'NOUN'), ('to', 'PRT'), ('8.45', 'NUM'), ('%', 'NOUN'), ('from', 'ADP'), ('8.47', 'NUM'), ('%', 'NOUN'), ('for', 'ADP'), ('the', 'DET'), ('week', 'NOUN'), ('ended', 'VERB'), ('Tuesday', 'NOUN'), ('.', '.')], [('Compound', 'NOUN'), ('yields', 'NOUN'), ('assume', 'VERB'), ('reinvestment', 'NOUN'), ('of', 'ADP'), ('dividends', 'NOUN'), ('and', 'CONJ'), ('that', 'ADP'), ('the', 'DET'), ('current', 'ADJ'), ('yield', 'NOUN'), ('continues', 'VERB'), ('for', 'ADP'), ('a', 'DET'), ('year', 'NOUN'), ('.', '.')], [('Average', 'ADJ'), ('maturity', 'NOUN'), ('of', 'ADP'), ('the', 'DET'), ('funds', 'NOUN'), (\"'\", 'PRT'), ('investments', 'NOUN'), ('lengthened', 'VERB'), ('by', 'ADP'), ('a', 'DET'), ('day', 'NOUN'), ('to', 'PRT'), ('41', 'NUM'), ('days', 'NOUN'), (',', '.'), ('the', 'DET'), ('longest', 'ADJ'), ('since', 'ADP'), ('early', 'ADJ'), ('August', 'NOUN'), (',', '.'), ('according', 'VERB'), ('to', 'PRT'), ('Donoghue', 'NOUN'), (\"'s\", 'PRT'), ('.', '.')], [('Longer', 'ADJ'), ('maturities', 'NOUN'), ('are', 'VERB'), ('thought', 'VERB'), ('*-1', 'X'), ('to', 'PRT'), ('indicate', 'VERB'), ('declining', 'VERB'), ('interest', 'NOUN'), ('rates', 'NOUN'), ('because', 'ADP'), ('they', 'PRON'), ('permit', 'VERB'), ('portfolio', 'NOUN'), ('managers', 'NOUN'), ('to', 'PRT'), ('retain', 'VERB'), ('relatively', 'ADV'), ('higher', 'ADJ'), ('rates', 'NOUN'), ('for', 'ADP'), ('a', 'DET'), ('longer', 'ADJ'), ('period', 'NOUN'), ('.', '.')], [('Shorter', 'ADJ'), ('maturities', 'NOUN'), ('are', 'VERB'), ('considered', 'VERB'), ('*-9', 'X'), ('a', 'DET'), ('sign', 'NOUN'), ('of', 'ADP'), ('rising', 'VERB'), ('rates', 'NOUN'), ('because', 'ADP'), ('portfolio', 'NOUN'), ('managers', 'NOUN'), ('can', 'VERB'), ('capture', 'VERB'), ('higher', 'ADJ'), ('rates', 'NOUN'), ('sooner', 'ADV'), ('.', '.')], [('The', 'DET'), ('average', 'ADJ'), ('maturity', 'NOUN'), ('for', 'ADP'), ('funds', 'NOUN'), ('open', 'ADJ'), ('only', 'ADV'), ('to', 'PRT'), ('institutions', 'NOUN'), (',', '.'), ('considered', 'VERB'), ('by', 'ADP'), ('some', 'DET'), ('*', 'X'), ('to', 'PRT'), ('be', 'VERB'), ('a', 'DET'), ('stronger', 'ADJ'), ('indicator', 'NOUN'), ('because', 'ADP'), ('those', 'DET'), ('managers', 'NOUN'), ('watch', 'VERB'), ('the', 'DET'), ('market', 'NOUN'), ('closely', 'ADV'), (',', '.'), ('reached', 'VERB'), ('a', 'DET'), ('high', 'ADJ'), ('point', 'NOUN'), ('for', 'ADP'), ('the', 'DET'), ('year', 'NOUN'), ('--', '.'), ('33', 'NUM'), ('days', 'NOUN'), ('.', '.')]]\n"
     ]
    }
   ],
   "source": [
    "# first few tagged sentences\n",
    "print(wsj[:40])"
   ]
  },
  {
   "cell_type": "code",
   "execution_count": 4,
   "metadata": {},
   "outputs": [
    {
     "name": "stdout",
     "output_type": "stream",
     "text": [
      "Train size:  3718\n",
      "Test size:  196\n",
      "[[('The', 'DET'), ('city', 'NOUN'), ('had', 'VERB'), ('expected', 'VERB'), ('*-1', 'X'), ('to', 'PRT'), ('pay', 'VERB'), ('about', 'ADV'), ('11', 'NUM'), ('million', 'NUM'), ('yen', 'NOUN'), ('-LRB-', '.'), ('$', '.'), ('77,000', 'NUM'), ('*U*', 'X'), ('-RRB-', '.'), (',', '.'), ('but', 'CONJ'), ('Fujitsu', 'NOUN'), ('essentially', 'ADV'), ('offered', 'VERB'), ('*-2', 'X'), ('to', 'PRT'), ('do', 'VERB'), ('it', 'PRON'), ('for', 'ADP'), ('free', 'ADV'), ('.', '.')], [('``', '.'), ('There', 'DET'), ('may', 'VERB'), ('be', 'VERB'), ('sticker-shock', 'NOUN'), ('reaction', 'NOUN'), ('initially', 'ADV'), (',', '.'), (\"''\", '.'), ('said', 'VERB'), ('*T*-2', 'X'), ('Mr.', 'NOUN'), ('Pratt', 'NOUN'), (',', '.'), ('``', '.'), ('but', 'CONJ'), ('as', 'ADP'), ('the', 'DET'), ('wine', 'NOUN'), ('is', 'VERB'), ('talked', 'VERB'), ('about', 'ADP'), ('*-1', 'X'), ('and', 'CONJ'), ('starts', 'VERB'), ('*-1', 'X'), ('to', 'PRT'), ('sell', 'VERB'), (',', '.'), ('they', 'PRON'), ('eventually', 'ADV'), ('get', 'VERB'), ('excited', 'VERB'), ('and', 'CONJ'), ('decide', 'VERB'), ('0', 'X'), ('it', 'PRON'), (\"'s\", 'VERB'), ('worth', 'ADJ'), ('the', 'DET'), ('astronomical', 'ADJ'), ('price', 'NOUN'), ('*-3', 'X'), ('to', 'PRT'), ('add', 'VERB'), ('it', 'PRON'), ('to', 'PRT'), ('their', 'PRON'), ('collection', 'NOUN'), ('.', '.'), (\"''\", '.')], [('Employers', 'NOUN'), ('can', 'VERB'), ('pay', 'VERB'), ('the', 'DET'), ('subminimum', 'NOUN'), ('for', 'ADP'), ('90', 'NUM'), ('days', 'NOUN'), (',', '.'), ('without', 'ADP'), ('restriction', 'NOUN'), (',', '.'), ('to', 'PRT'), ('workers', 'NOUN'), ('with', 'ADP'), ('less', 'ADJ'), ('than', 'ADP'), ('six', 'NUM'), ('months', 'NOUN'), ('of', 'ADP'), ('job', 'NOUN'), ('experience', 'NOUN'), ('*NOT*', 'X'), (',', '.'), ('and', 'CONJ'), ('for', 'ADP'), ('another', 'DET'), ('90', 'NUM'), ('days', 'NOUN'), ('if', 'ADP'), ('the', 'DET'), ('company', 'NOUN'), ('uses', 'VERB'), ('a', 'DET'), ('government-certified', 'ADJ'), ('training', 'NOUN'), ('program', 'NOUN'), ('for', 'ADP'), ('the', 'DET'), ('young', 'ADJ'), ('workers', 'NOUN'), ('.', '.')], [('Lawyers', 'NOUN'), ('worry', 'VERB'), ('that', 'ADP'), ('if', 'ADP'), ('they', 'PRON'), ('provide', 'VERB'), ('information', 'NOUN'), ('about', 'ADP'), ('clients', 'NOUN'), (',', '.'), ('that', 'DET'), ('data', 'NOUN'), ('could', 'VERB'), ('quickly', 'ADV'), ('end', 'VERB'), ('up', 'PRT'), ('in', 'ADP'), ('the', 'DET'), ('hands', 'NOUN'), ('of', 'ADP'), ('prosecutors', 'NOUN'), ('.', '.')], [('The', 'DET'), ('theory', 'NOUN'), (':', '.'), ('Such', 'ADJ'), ('individuals', 'NOUN'), (',', '.'), ('many', 'ADJ'), ('with', 'ADP'), ('young', 'ADJ'), ('children', 'NOUN'), (',', '.'), ('are', 'VERB'), ('in', 'ADP'), ('their', 'PRON'), ('prime', 'ADJ'), ('borrowing', 'VERB'), ('years', 'NOUN'), ('--', '.'), ('and', 'ADJ'), (',', '.'), ('*-1', 'X'), ('having', 'VERB'), ('borrowed', 'VERB'), ('from', 'ADP'), ('the', 'DET'), ('bank', 'NOUN'), (',', '.'), ('they', 'PRON'), ('may', 'VERB'), ('continue', 'VERB'), ('*-1', 'X'), ('to', 'PRT'), ('use', 'VERB'), ('it', 'PRON'), ('for', 'ADP'), ('other', 'ADJ'), ('services', 'NOUN'), ('in', 'ADP'), ('later', 'ADJ'), ('years', 'NOUN'), ('.', '.')], [('Policies', 'NOUN'), ('designed', 'VERB'), ('*', 'X'), ('to', 'PRT'), ('encourage', 'VERB'), ('one', 'NUM'), ('type', 'NOUN'), ('of', 'ADP'), ('investor', 'NOUN'), ('over', 'ADP'), ('another', 'DET'), ('are', 'VERB'), ('akin', 'ADJ'), ('to', 'PRT'), ('*', 'X'), ('placing', 'VERB'), ('a', 'DET'), ('sign', 'NOUN'), ('*ICH*-1', 'X'), ('over', 'ADP'), ('the', 'DET'), ('Big', 'NOUN'), ('Board', 'NOUN'), (\"'s\", 'PRT'), ('door', 'NOUN'), ('saying', 'VERB'), (':', '.'), ('``', '.'), ('Buyers', 'NOUN'), ('welcome', 'VERB'), (',', '.'), ('sellers', 'NOUN'), ('please', 'VERB'), ('*', 'X'), ('go', 'VERB'), ('away', 'ADV'), ('!', '.'), (\"''\", '.')], [('With', 'ADP'), ('the', 'DET'), ('shudders', 'NOUN'), ('came', 'VERB'), ('*T*-2', 'X'), ('the', 'DET'), ('realization', 'NOUN'), ('that', 'ADP'), ('some', 'DET'), ('of', 'ADP'), ('Wall', 'NOUN'), ('Street', 'NOUN'), (\"'s\", 'PRT'), ('biggest', 'ADJ'), ('players', 'NOUN'), ('are', 'VERB'), ('struggling', 'VERB'), ('*-1', 'X'), ('to', 'PRT'), ('maintain', 'VERB'), ('the', 'DET'), ('stellar', 'ADJ'), ('credit', 'NOUN'), ('standing', 'NOUN'), ('required', 'VERB'), ('*', 'X'), ('to', 'PRT'), ('finance', 'VERB'), ('their', 'PRON'), ('activities', 'NOUN'), ('profitably', 'ADV'), ('.', '.')], [('Bush', 'NOUN'), ('unveiled', 'VERB'), ('a', 'DET'), ('package', 'NOUN'), ('of', 'ADP'), ('trade', 'NOUN'), ('initiatives', 'NOUN'), ('0', 'X'), ('*T*-1', 'X'), ('to', 'PRT'), ('help', 'VERB'), ('*-2', 'X'), ('establish', 'VERB'), ('``', '.'), ('economic', 'ADJ'), ('alternatives', 'NOUN'), ('to', 'PRT'), ('drug', 'NOUN'), ('trafficking', 'NOUN'), (\"''\", '.'), ('in', 'ADP'), ('the', 'DET'), ('Andean', 'ADJ'), ('nations', 'NOUN'), ('of', 'ADP'), ('South', 'NOUN'), ('America', 'NOUN'), ('.', '.')], [('``', '.'), ('My', 'PRON'), ('teacher', 'NOUN'), ('said', 'VERB'), ('0', 'X'), ('it', 'PRON'), ('*EXP*-1', 'X'), ('was', 'VERB'), ('OK', 'X'), ('for', 'ADP'), ('me', 'PRON'), ('to', 'PRT'), ('use', 'VERB'), ('the', 'DET'), ('notes', 'NOUN'), ('on', 'ADP'), ('the', 'DET'), ('test', 'NOUN'), (',', '.'), (\"''\", '.'), ('he', 'PRON'), ('said', 'VERB'), ('*T*-2', 'X'), ('.', '.')], [('Patients', 'NOUN'), ('who', 'PRON'), ('*T*-1', 'X'), ('receive', 'VERB'), ('canine', 'ADJ'), ('or', 'CONJ'), ('feline', 'ADJ'), ('visitors', 'NOUN'), ('are', 'VERB'), ('found', 'VERB'), ('*-2', 'X'), ('to', 'PRT'), ('have', 'VERB'), ('lower', 'ADJ'), ('blood', 'NOUN'), ('pressure', 'NOUN'), ('and', 'CONJ'), ('improved', 'VERB'), ('appetite', 'NOUN'), ('and', 'CONJ'), ('be', 'VERB'), ('more', 'ADV'), ('receptive', 'ADJ'), ('to', 'PRT'), ('therapy', 'NOUN'), (',', '.'), ('says', 'VERB'), ('0', 'X'), ('*T*-3', 'X'), ('Mary', 'NOUN'), ('Ann', 'NOUN'), (\"O'Loughlin\", 'NOUN'), (',', '.'), ('program', 'NOUN'), ('coordinator', 'NOUN'), ('.', '.')], [('John', 'NOUN'), ('William', 'NOUN'), ('Davis', 'NOUN'), (',', '.'), ('Colonsville', 'NOUN'), (',', '.'), ('Miss.', 'NOUN'), (',', '.'), ('fined', 'VERB'), ('*-4', 'X'), ('$', '.'), ('200,000', 'NUM'), ('*U*', 'X'), (';', '.'), ('Jeffrey', 'NOUN'), ('Gerard', 'NOUN'), ('Dompierre', 'NOUN'), (',', '.'), ('Valrico', 'NOUN'), (',', '.'), ('Fla.', 'NOUN'), (',', '.'), ('$', '.'), ('5,000', 'NUM'), ('*U*', 'X'), ('and', 'CONJ'), ('10-day', 'ADJ'), ('suspension', 'NOUN'), (';', '.'), ('Eugene', 'NOUN'), ('Michael', 'NOUN'), ('Felten', 'NOUN'), (',', '.'), ('La', 'NOUN'), ('Canada', 'NOUN'), (',', '.'), ('Calif.', 'NOUN'), (',', '.'), ('fined', 'VERB'), ('*-3', 'X'), ('$', '.'), ('25,000', 'NUM'), ('*U*', 'X'), (',', '.'), ('ordered', 'VERB'), ('*-3', 'X'), ('*-2', 'X'), ('to', 'PRT'), ('disgorge', 'VERB'), ('$', '.'), ('16,072', 'NUM'), ('*U*', 'X'), ('and', 'CONJ'), ('suspended', 'VERB'), ('*-3', 'X'), ('one', 'NUM'), ('year', 'NOUN'), (';', '.'), ('Marion', 'NOUN'), ('Stewart', 'NOUN'), ('Spitler', 'NOUN'), (',', '.'), ('La', 'NOUN'), ('Canada', 'NOUN'), (',', '.'), ('fined', 'VERB'), ('*-5', 'X'), ('$', '.'), ('15,000', 'NUM'), ('*U*', 'X'), (',', '.'), ('ordered', 'VERB'), ('*-5', 'X'), ('*-1', 'X'), ('to', 'PRT'), ('disgorge', 'VERB'), ('$', '.'), ('18,444', 'NUM'), ('*U*', 'X'), ('and', 'CONJ'), ('suspended', 'VERB'), ('*-5', 'X'), ('six', 'NUM'), ('months', 'NOUN'), ('.', '.')], [('The', 'DET'), ('Japanese', 'ADJ'), ('companies', 'NOUN'), ('bankroll', 'VERB'), ('many', 'ADJ'), ('small', 'ADJ'), ('U.S.', 'NOUN'), ('companies', 'NOUN'), ('with', 'ADP'), ('promising', 'ADJ'), ('products', 'NOUN'), ('or', 'CONJ'), ('ideas', 'NOUN'), (',', '.'), ('*-1', 'X'), ('frequently', 'ADV'), ('putting', 'VERB'), ('their', 'PRON'), ('money', 'NOUN'), ('behind', 'ADP'), ('projects', 'NOUN'), ('that', 'ADP'), ('commercial', 'ADJ'), ('banks', 'NOUN'), ('wo', 'VERB'), (\"n't\", 'ADV'), ('touch', 'VERB'), ('*T*-191', 'X'), ('.', '.')], [('He', 'PRON'), ('sold', 'VERB'), ('his', 'PRON'), ('exchange', 'NOUN'), ('seat', 'NOUN'), ('and', 'CONJ'), ('wrote', 'VERB'), ('a', 'DET'), ('bitter', 'ADJ'), ('letter', 'NOUN'), ('to', 'PRT'), ('Big', 'NOUN'), ('Board', 'NOUN'), ('Chairman', 'NOUN'), ('John', 'NOUN'), ('J.', 'NOUN'), ('Phelan', 'NOUN'), ('Jr.', 'NOUN'), ('in', 'ADP'), ('which', 'DET'), ('he', 'PRON'), ('said', 'VERB'), ('*T*-1', 'X'), ('0', 'X'), ('the', 'DET'), ('Big', 'NOUN'), ('Board', 'NOUN'), ('is', 'VERB'), ('too', 'ADV'), ('focused', 'VERB'), ('on', 'ADP'), ('machines', 'NOUN'), (',', '.'), ('rather', 'ADV'), ('than', 'ADP'), ('people', 'NOUN'), ('.', '.')], [('Temple', 'NOUN'), (',', '.'), ('however', 'ADV'), (',', '.'), ('harshly', 'ADV'), ('criticized', 'VERB'), ('Sea', 'NOUN'), ('Containers', 'NOUN'), (\"'\", 'PRT'), ('plan', 'NOUN'), ('yesterday', 'NOUN'), (',', '.'), ('*-1', 'X'), ('characterizing', 'VERB'), ('it', 'PRON'), ('as', 'ADP'), ('a', 'DET'), ('``', '.'), ('highly', 'ADV'), ('conditional', 'ADJ'), ('device', 'NOUN'), ('designed', 'VERB'), ('*', 'X'), ('*-2', 'X'), ('to', 'PRT'), ('entrench', 'VERB'), ('management', 'NOUN'), (',', '.'), ('confuse', 'VERB'), ('shareholders', 'NOUN'), ('and', 'CONJ'), ('prevent', 'VERB'), ('them', 'PRON'), ('from', 'ADP'), ('*-3', 'X'), ('accepting', 'VERB'), ('our', 'PRON'), ('superior', 'ADJ'), ('cash', 'NOUN'), ('offer', 'NOUN'), ('.', '.'), (\"''\", '.')], [('The', 'DET'), ('book', 'NOUN'), ('revolves', 'VERB'), ('around', 'ADP'), ('John', 'NOUN'), ('Mariotta', 'NOUN'), (',', '.'), ('the', 'DET'), ('founder', 'NOUN'), ('of', 'ADP'), ('the', 'DET'), ('company', 'NOUN'), (',', '.'), ('and', 'CONJ'), ('Fred', 'NOUN'), ('Neuberger', 'NOUN'), (',', '.'), ('who', 'PRON'), ('*T*-1', 'X'), ('became', 'VERB'), ('his', 'PRON'), ('partner', 'NOUN'), ('soon', 'ADV'), ('after', 'ADP'), ('Wedtech', 'NOUN'), (\"'s\", 'PRT'), ('creation', 'NOUN'), ('.', '.')], [('To', 'PRT'), ('that', 'DET'), ('end', 'NOUN'), (',', '.'), ('American', 'NOUN'), ('Express', 'NOUN'), ('has', 'VERB'), ('been', 'VERB'), ('signing', 'VERB'), ('up', 'PRT'), ('gasoline', 'NOUN'), ('companies', 'NOUN'), (',', '.'), ('car', 'NOUN'), ('repair', 'NOUN'), ('shops', 'NOUN'), (',', '.'), ('tire', 'NOUN'), ('companies', 'NOUN'), ('and', 'CONJ'), ('car', 'NOUN'), ('dealers', 'NOUN'), ('*-1', 'X'), ('to', 'PRT'), ('accept', 'VERB'), ('the', 'DET'), ('card', 'NOUN'), ('.', '.')], [('The', 'DET'), ('scientists', 'NOUN'), ('said', 'VERB'), ('0', 'X'), ('they', 'PRON'), ('made', 'VERB'), ('the', 'DET'), ('advance', 'NOUN'), ('with', 'ADP'), ('yttrium-containing', 'ADJ'), ('superconductors', 'NOUN'), ('cooled', 'VERB'), ('*', 'X'), ('to', 'PRT'), ('liquid-nitrogen', 'NOUN'), ('temperature', 'NOUN'), (',', '.'), ('or', 'CONJ'), ('minus', 'CONJ'), ('321', 'NUM'), ('degrees', 'NOUN'), ('Fahrenheit', 'NOUN'), ('.', '.')], [('The', 'DET'), ('Life', 'NOUN'), ('Insurance', 'NOUN'), ('Co.', 'NOUN'), ('of', 'ADP'), ('Georgia', 'NOUN'), ('has', 'VERB'), ('officially', 'ADV'), ('opened', 'VERB'), ('an', 'DET'), ('office', 'NOUN'), ('in', 'ADP'), ('Taipei', 'NOUN'), ('.', '.')], [('Stock', 'NOUN'), ('prices', 'NOUN'), ('rose', 'VERB'), ('fractionally', 'ADV'), ('in', 'ADP'), ('moderate', 'ADJ'), ('trading', 'VERB'), ('.', '.')], [('Indeed', 'ADV'), (',', '.'), ('analysts', 'NOUN'), ('say', 'VERB'), ('that', 'ADP'), ('payouts', 'NOUN'), ('have', 'VERB'), ('sometimes', 'ADV'), ('risen', 'VERB'), ('most', 'ADV'), ('sharply', 'ADV'), ('when', 'ADV'), ('prices', 'NOUN'), ('were', 'VERB'), ('already', 'ADV'), ('on', 'ADP'), ('their', 'PRON'), ('way', 'NOUN'), ('down', 'ADP'), ('from', 'ADP'), ('cyclical', 'ADJ'), ('peaks', 'NOUN'), ('*T*-1', 'X'), ('.', '.')], [('Many', 'ADJ'), ('of', 'ADP'), ('them', 'PRON'), ('recently', 'ADV'), ('have', 'VERB'), ('been', 'VERB'), ('spending', 'VERB'), ('a', 'DET'), ('lot', 'NOUN'), ('of', 'ADP'), ('money', 'NOUN'), ('on', 'ADP'), ('public', 'ADJ'), ('relations', 'NOUN'), ('and', 'CONJ'), ('advertising', 'NOUN'), ('*-1', 'X'), ('to', 'PRT'), ('improve', 'VERB'), ('their', 'PRON'), ('images', 'NOUN'), (',', '.'), ('but', 'CONJ'), ('they', 'PRON'), ('should', 'VERB'), ('realize', 'VERB'), ('that', 'ADP'), ('the', 'DET'), ('most', 'ADV'), ('important', 'ADJ'), ('thing', 'NOUN'), ('is', 'VERB'), ('real', 'ADJ'), ('change', 'NOUN'), (',', '.'), ('not', 'ADV'), ('*', 'X'), ('changing', 'VERB'), ('people', 'NOUN'), (\"'s\", 'PRT'), ('perceptions', 'NOUN'), ('.', '.')], [('Of', 'ADP'), ('course', 'NOUN'), (',', '.'), ('if', 'ADP'), ('the', 'DET'), ('film', 'NOUN'), ('contained', 'VERB'), ('dialogue', 'NOUN'), (',', '.'), ('Mr.', 'NOUN'), ('Lane', 'NOUN'), (\"'s\", 'PRT'), ('Artist', 'NOUN'), ('would', 'VERB'), ('be', 'VERB'), ('called', 'VERB'), ('*-71', 'X'), ('a', 'DET'), ('homeless', 'ADJ'), ('person', 'NOUN'), ('.', '.')], [('``', '.'), ('It', 'PRON'), ('was', 'VERB'), ('like', 'ADP'), ('someone', 'NOUN'), ('had', 'VERB'), ('turned', 'VERB'), ('a', 'DET'), ('knife', 'NOUN'), ('in', 'ADP'), ('me', 'PRON'), ('.', '.'), (\"''\", '.')], [('And', 'CONJ'), ('many', 'ADJ'), ('emerging', 'VERB'), ('markets', 'NOUN'), ('have', 'VERB'), ('outpaced', 'VERB'), ('more', 'ADV'), ('mature', 'ADJ'), ('markets', 'NOUN'), (',', '.'), ('such', 'ADJ'), ('as', 'ADP'), ('the', 'DET'), ('U.S.', 'NOUN'), ('and', 'CONJ'), ('Japan', 'NOUN'), ('.', '.')], [('Chateau', 'NOUN'), ('Yquem', 'NOUN'), (',', '.'), ('the', 'DET'), ('leading', 'VERB'), ('Sauternes', 'NOUN'), (',', '.'), ('now', 'ADV'), ('goes', 'VERB'), ('for', 'ADP'), ('well', 'ADV'), ('over', 'ADV'), ('$', '.'), ('100', 'NUM'), ('*U*', 'X'), ('a', 'DET'), ('bottle', 'NOUN'), ('for', 'ADP'), ('a', 'DET'), ('lighter', 'ADJ'), ('vintage', 'NOUN'), ('like', 'ADP'), ('1984', 'NUM'), (';', '.'), ('the', 'DET'), ('spectacularly', 'ADV'), ('rich', 'ADJ'), ('1983', 'NUM'), ('runs', 'VERB'), ('$', '.'), ('179', 'NUM'), ('*U*', 'X'), ('.', '.')], [('We', 'PRON'), ('have', 'VERB'), ('made', 'VERB'), ('no', 'DET'), ('such', 'ADJ'), ('statement', 'NOUN'), ('.', '.')], [('The', 'DET'), ('competitive', 'ADJ'), ('rates', 'NOUN'), ('were', 'VERB'), ('generally', 'ADV'), ('offset', 'VERB'), ('*-1', 'X'), ('by', 'ADP'), ('hefty', 'ADJ'), ('fees', 'NOUN'), ('on', 'ADP'), ('various', 'ADJ'), ('services', 'NOUN'), ('.', '.')], [('If', 'ADP'), ('President', 'NOUN'), ('Bush', 'NOUN'), ('fails', 'VERB'), ('*-1', 'X'), ('to', 'PRT'), ('do', 'VERB'), ('so', 'ADV'), ('in', 'ADP'), ('his', 'PRON'), ('first', 'ADJ'), ('year', 'NOUN'), (',', '.'), ('he', 'PRON'), ('will', 'VERB'), ('invite', 'VERB'), ('Congress', 'NOUN'), (',', '.'), ('for', 'ADP'), ('the', 'DET'), ('remainder', 'NOUN'), ('of', 'ADP'), ('his', 'PRON'), ('presidency', 'NOUN'), (',', '.'), ('*-2', 'X'), ('to', 'PRT'), ('rewrite', 'VERB'), ('Article', 'NOUN'), ('II', 'NOUN'), ('of', 'ADP'), ('the', 'DET'), ('Constitution', 'NOUN'), ('*-3', 'X'), ('to', 'PRT'), ('suit', 'VERB'), ('its', 'PRON'), ('purposes', 'NOUN'), ('.', '.')], [('Its', 'PRON'), ('plans', 'NOUN'), ('*', 'X'), ('to', 'PRT'), ('be', 'VERB'), ('acquired', 'VERB'), ('*-1', 'X'), ('dashed', 'VERB'), ('*-2', 'X'), (',', '.'), ('Comprehensive', 'NOUN'), ('Care', 'NOUN'), ('Corp.', 'NOUN'), ('said', 'VERB'), ('0', 'X'), ('it', 'PRON'), ('plans', 'VERB'), ('*-3', 'X'), ('to', 'PRT'), ('sell', 'VERB'), ('most', 'ADJ'), ('of', 'ADP'), ('its', 'PRON'), ('psychiatric', 'ADJ'), ('and', 'CONJ'), ('drug', 'NOUN'), ('abuse', 'NOUN'), ('facilities', 'NOUN'), ('in', 'ADP'), ('California', 'NOUN'), ('and', 'CONJ'), ('some', 'DET'), ('other', 'ADJ'), ('assets', 'NOUN'), ('*-3', 'X'), ('to', 'PRT'), ('pay', 'VERB'), ('its', 'PRON'), ('debt', 'NOUN'), ('and', 'CONJ'), ('provide', 'VERB'), ('working', 'ADJ'), ('capital', 'NOUN'), ('.', '.')], [('Carnival', 'NOUN'), ('said', 'VERB'), ('0', 'X'), ('it', 'PRON'), ('will', 'VERB'), ('be', 'VERB'), ('an', 'DET'), ('11', 'NUM'), ('%', 'NOUN'), ('shareholder', 'NOUN'), ('in', 'ADP'), ('the', 'DET'), ('new', 'ADJ'), ('company', 'NOUN'), ('.', '.')], [('A', 'DET'), ('player', 'NOUN'), (\"'s\", 'PRT'), ('commitment', 'NOUN'), ('to', 'PRT'), ('practice', 'NOUN'), ('and', 'CONJ'), ('team', 'NOUN'), ('image', 'NOUN'), ('is', 'VERB'), ('as', 'ADV'), ('important', 'ADJ'), ('as', 'ADP'), ('his', 'PRON'), ('batting', 'NOUN'), ('average', 'NOUN'), ('.', '.')], [('Also', 'ADV'), (',', '.'), ('ringers', 'NOUN'), ('do', 'VERB'), (\"n't\", 'ADV'), ('always', 'ADV'), ('live', 'VERB'), ('where', 'ADV'), ('the', 'DET'), ('bells', 'NOUN'), ('need', 'VERB'), ('*-1', 'X'), ('to', 'PRT'), ('be', 'VERB'), ('rung', 'VERB'), ('*-140', 'X'), ('*T*-2', 'X'), ('--', '.'), ('like', 'ADP'), ('in', 'ADP'), ('small', 'ADJ'), (',', '.'), ('rural', 'ADJ'), ('parishes', 'NOUN'), ('and', 'CONJ'), ('inner-city', 'NOUN'), ('churches', 'NOUN'), ('.', '.')], [('In', 'ADP'), ('this', 'DET'), ('instance', 'NOUN'), (',', '.'), ('industry', 'NOUN'), ('observers', 'NOUN'), ('say', 'VERB'), ('0', 'X'), ('*T*-1', 'X'), (',', '.'), ('he', 'PRON'), ('is', 'VERB'), ('entering', 'VERB'), ('uncharted', 'ADJ'), ('waters', 'NOUN'), ('.', '.')], [('Change-ringing', 'NOUN'), (',', '.'), ('a', 'DET'), ('mind-boggling', 'ADJ'), ('exercise', 'NOUN'), ('0', 'X'), ('the', 'DET'), ('English', 'NOUN'), ('invented', 'VERB'), ('*T*-1', 'X'), ('380', 'NUM'), ('years', 'NOUN'), ('ago', 'ADV'), (',', '.'), ('requires', 'VERB'), ('physical', 'ADJ'), ('dexterity', 'NOUN'), ('--', '.'), ('some', 'DET'), ('bells', 'NOUN'), ('weigh', 'VERB'), ('more', 'ADJ'), ('than', 'ADP'), ('a', 'DET'), ('ton', 'NOUN'), ('--', '.'), ('combined', 'VERB'), ('*', 'X'), ('with', 'ADP'), ('intense', 'ADJ'), ('mental', 'ADJ'), ('concentration', 'NOUN'), ('.', '.')], [('The', 'DET'), ('S&P', 'NOUN'), ('index', 'NOUN'), ('started', 'VERB'), ('*-1', 'X'), ('sliding', 'VERB'), ('in', 'ADP'), ('price', 'NOUN'), ('in', 'ADP'), ('September', 'NOUN'), ('1976', 'NUM'), (',', '.'), ('and', 'CONJ'), ('fell', 'VERB'), ('12', 'NUM'), ('%', 'NOUN'), ('in', 'ADP'), ('1977', 'NUM'), ('--', '.'), ('despite', 'ADP'), ('a', 'DET'), ('15', 'NUM'), ('%', 'NOUN'), ('expansion', 'NOUN'), ('in', 'ADP'), ('dividends', 'NOUN'), ('that', 'DET'), ('year', 'NOUN'), ('.', '.')], [('In', 'ADP'), ('September', 'NOUN'), (',', '.'), ('the', 'DET'), ('custom-chip', 'ADJ'), ('maker', 'NOUN'), ('said', 'VERB'), ('0', 'X'), ('excess', 'ADJ'), ('capacity', 'NOUN'), ('and', 'CONJ'), ('lagging', 'VERB'), ('billings', 'NOUN'), ('would', 'VERB'), ('result', 'VERB'), ('in', 'ADP'), ('an', 'DET'), ('estimated', 'VERB'), ('$', '.'), ('2', 'NUM'), ('million', 'NUM'), ('to', 'PRT'), ('$', '.'), ('3', 'NUM'), ('million', 'NUM'), ('*U*', 'X'), ('net', 'ADJ'), ('loss', 'NOUN'), ('for', 'ADP'), ('the', 'DET'), ('third', 'ADJ'), ('quarter', 'NOUN'), ('.', '.')], [('The', 'DET'), ('Finnish', 'ADJ'), ('government', 'NOUN'), ('and', 'CONJ'), ('major', 'ADJ'), ('creditors', 'NOUN'), ('of', 'ADP'), ('bankrupt', 'ADJ'), ('shipyard', 'NOUN'), ('Waertsilae', 'NOUN'), ('Marine', 'NOUN'), ('Industries', 'NOUN'), ('Oy', 'NOUN'), ('agreed', 'VERB'), ('in', 'ADP'), ('principle', 'NOUN'), ('*-1', 'X'), ('to', 'PRT'), ('form', 'VERB'), ('a', 'DET'), ('new', 'ADJ'), ('company', 'NOUN'), ('*-2', 'X'), ('to', 'PRT'), ('complete', 'VERB'), ('most', 'ADJ'), ('of', 'ADP'), ('the', 'DET'), ('troubled', 'ADJ'), ('shipyard', 'NOUN'), (\"'s\", 'PRT'), ('backlog', 'NOUN'), ('of', 'ADP'), ('15', 'NUM'), ('ships', 'NOUN'), ('.', '.')], [('The', 'DET'), ('side', 'NOUN'), ('car', 'NOUN'), ('routes', 'VERB'), ('program', 'NOUN'), ('trades', 'NOUN'), ('into', 'ADP'), ('a', 'DET'), ('special', 'ADJ'), ('computer', 'NOUN'), ('file', 'NOUN'), ('that', 'DET'), ('*T*-1', 'X'), ('scans', 'VERB'), ('for', 'ADP'), ('imbalances', 'NOUN'), ('of', 'ADP'), ('buy', 'NOUN'), ('and', 'CONJ'), ('sell', 'NOUN'), ('orders', 'NOUN'), ('.', '.')], [('There', 'DET'), ('were', 'VERB'), ('concerns', 'NOUN'), ('*ICH*-1', 'X'), ('early', 'ADV'), ('in', 'ADP'), ('the', 'DET'), ('day', 'NOUN'), ('that', 'ADP'), ('Wall', 'NOUN'), ('Street', 'NOUN'), (\"'s\", 'PRT'), ('sharp', 'ADJ'), ('gains', 'NOUN'), ('on', 'ADP'), ('Tuesday', 'NOUN'), ('were', 'VERB'), ('overdone', 'VERB'), ('and', 'CONJ'), ('due', 'ADJ'), ('for', 'ADP'), ('a', 'DET'), ('reversal', 'NOUN'), ('.', '.')], [('I', 'PRON'), (\"'m\", 'VERB'), ('not', 'ADV'), ('saying', 'VERB'), ('0', 'X'), ('advertising', 'NOUN'), ('revenue', 'NOUN'), ('is', 'VERB'), (\"n't\", 'ADV'), ('important', 'ADJ'), (',', '.'), (\"''\", '.'), ('she', 'PRON'), ('says', 'VERB'), ('0', 'X'), ('*T*-1', 'X'), (',', '.'), ('``', '.'), ('but', 'CONJ'), ('I', 'PRON'), ('could', 'VERB'), (\"n't\", 'ADV'), ('sleep', 'VERB'), ('at', 'ADP'), ('night', 'NOUN'), (\"''\", '.'), ('if', 'ADP'), ('the', 'DET'), ('magazine', 'NOUN'), ('bowed', 'VERB'), ('to', 'PRT'), ('a', 'DET'), ('company', 'NOUN'), ('because', 'ADP'), ('they', 'PRON'), ('once', 'ADV'), ('took', 'VERB'), ('out', 'PRT'), ('an', 'DET'), ('ad', 'NOUN'), ('.', '.')]]\n"
     ]
    }
   ],
   "source": [
    "# Splitting into train and test\n",
    "random.seed(1234)\n",
    "train_set, test_set = train_test_split(wsj,test_size=0.05)\n",
    "\n",
    "print('Train size: ', len(train_set))\n",
    "print('Test size: ',len(test_set))\n",
    "print(train_set[:40])"
   ]
  },
  {
   "cell_type": "markdown",
   "metadata": {},
   "source": [
    "### Data exploration\n",
    "#### no of tags, no of words"
   ]
  },
  {
   "cell_type": "code",
   "execution_count": 5,
   "metadata": {},
   "outputs": [
    {
     "data": {
      "text/plain": [
       "95590"
      ]
     },
     "execution_count": 5,
     "metadata": {},
     "output_type": "execute_result"
    }
   ],
   "source": [
    "# Getting list of tagged words\n",
    "train_tagged_words = [tup for sent in train_set for tup in sent]\n",
    "len(train_tagged_words)"
   ]
  },
  {
   "cell_type": "code",
   "execution_count": 6,
   "metadata": {
    "scrolled": true
   },
   "outputs": [
    {
     "data": {
      "text/plain": [
       "['The',\n",
       " 'city',\n",
       " 'had',\n",
       " 'expected',\n",
       " '*-1',\n",
       " 'to',\n",
       " 'pay',\n",
       " 'about',\n",
       " '11',\n",
       " 'million']"
      ]
     },
     "execution_count": 6,
     "metadata": {},
     "output_type": "execute_result"
    }
   ],
   "source": [
    "# tokens \n",
    "tokens = [pair[0] for pair in train_tagged_words]\n",
    "tokens[:10]"
   ]
  },
  {
   "cell_type": "markdown",
   "metadata": {},
   "source": [
    "### Number of unique words/tokens"
   ]
  },
  {
   "cell_type": "code",
   "execution_count": 7,
   "metadata": {},
   "outputs": [
    {
     "name": "stdout",
     "output_type": "stream",
     "text": [
      "12083\n"
     ]
    }
   ],
   "source": [
    "# vocabulary\n",
    "V = set(tokens)\n",
    "print(len(V))"
   ]
  },
  {
   "cell_type": "markdown",
   "metadata": {},
   "source": [
    "### Number of unique tags"
   ]
  },
  {
   "cell_type": "code",
   "execution_count": 8,
   "metadata": {},
   "outputs": [
    {
     "data": {
      "text/plain": [
       "12"
      ]
     },
     "execution_count": 8,
     "metadata": {},
     "output_type": "execute_result"
    }
   ],
   "source": [
    "T = set([pair[1] for pair in train_tagged_words])\n",
    "len(T)"
   ]
  },
  {
   "cell_type": "code",
   "execution_count": 9,
   "metadata": {},
   "outputs": [
    {
     "name": "stdout",
     "output_type": "stream",
     "text": [
      "{'PRON', '.', 'ADJ', 'NUM', 'DET', 'CONJ', 'VERB', 'ADV', 'X', 'PRT', 'ADP', 'NOUN'}\n"
     ]
    }
   ],
   "source": [
    "print(T)"
   ]
  },
  {
   "cell_type": "markdown",
   "metadata": {},
   "source": [
    "## 2. POS Tagging Algorithm - HMM\n",
    "\n",
    "We'll use the HMM algorithm to tag the words. Given a sequence of words to be tagged, the task is to assign the most probable tag to the word. \n",
    "\n",
    "In other words, to every word w, assign the tag t that maximises the likelihood P(t/w). Since P(t/w) = P(w/t). P(t) / P(w), after ignoring P(w), we have to compute P(w/t) and P(t).\n",
    "\n",
    "\n",
    "P(w/t) is basically the probability that given a tag (say NN), what is the probability of it being w (say 'building'). This can be computed by computing the fraction of all NNs which are equal to w, i.e. \n",
    "\n",
    "P(w/t) = count(w, t) / count(t). \n",
    "\n",
    "\n",
    "The term P(t) is the probability of tag t, and in a tagging task, we assume that a tag will depend only on the previous tag. In other words, the probability of a tag being NN will depend only on the previous tag t(n-1). So for e.g. if t(n-1) is a JJ, then t(n) is likely to be an NN since adjectives often precede a noun (blue coat, tall building etc.).\n",
    "\n",
    "\n",
    "Given the penn treebank tagged dataset, we can compute the two terms P(w/t) and P(t) and store them in two large matrices. The matrix of P(w/t) will be sparse, since each word will not be seen with most tags ever, and those terms will thus be zero. \n"
   ]
  },
  {
   "cell_type": "markdown",
   "metadata": {},
   "source": [
    "### Emission Probabilities"
   ]
  },
  {
   "cell_type": "code",
   "execution_count": 10,
   "metadata": {
    "scrolled": true
   },
   "outputs": [],
   "source": [
    "# computing P(w/t) and storing in T x V matrix\n",
    "t = len(T)\n",
    "v = len(V)\n",
    "w_given_t = np.zeros((t, v))"
   ]
  },
  {
   "cell_type": "code",
   "execution_count": 11,
   "metadata": {},
   "outputs": [],
   "source": [
    "# compute word given tag: Emission Probability\n",
    "def word_given_tag(word, tag, train_bag = train_tagged_words):\n",
    "    tag_list = [pair for pair in train_bag if pair[1]==tag]\n",
    "    count_tag = len(tag_list)\n",
    "    w_given_tag_list = [pair[0] for pair in tag_list if pair[0]==word]\n",
    "    count_w_given_tag = len(w_given_tag_list)\n",
    "    \n",
    "    return (count_w_given_tag, count_tag)"
   ]
  },
  {
   "cell_type": "markdown",
   "metadata": {},
   "source": [
    "### Transition Probabilities"
   ]
  },
  {
   "cell_type": "code",
   "execution_count": 12,
   "metadata": {},
   "outputs": [],
   "source": [
    "# compute tag given tag: tag2(t2) given tag1 (t1), i.e. Transition Probability\n",
    "\n",
    "def t2_given_t1(t2, t1, train_bag = train_tagged_words):\n",
    "    tags = [pair[1] for pair in train_bag]\n",
    "    count_t1 = len([t for t in tags if t==t1])\n",
    "    count_t2_t1 = 0\n",
    "    for index in range(len(tags)-1):\n",
    "        if tags[index]==t1 and tags[index+1] == t2:\n",
    "            count_t2_t1 += 1\n",
    "    return (count_t2_t1, count_t1)"
   ]
  },
  {
   "cell_type": "code",
   "execution_count": 13,
   "metadata": {},
   "outputs": [
    {
     "name": "stdout",
     "output_type": "stream",
     "text": [
      "(0, 0)\n"
     ]
    }
   ],
   "source": [
    "#Model Parameters\n",
    "#From Penn Treebank, calculate the transition probability of MD followed by VB? Select the option closest to the answer.\n",
    "print(t2_given_t1('VB', 'MD'))"
   ]
  },
  {
   "cell_type": "code",
   "execution_count": 14,
   "metadata": {
    "scrolled": true
   },
   "outputs": [],
   "source": [
    "# creating t x t transition matrix of tags\n",
    "# each column is t2, each row is t1\n",
    "# thus M(i, j) represents P(tj given ti)\n",
    "\n",
    "tags_matrix = np.zeros((len(T), len(T)), dtype='float32')\n",
    "for i, t1 in enumerate(list(T)):\n",
    "    for j, t2 in enumerate(list(T)): \n",
    "        tags_matrix[i, j] = t2_given_t1(t2, t1)[0]/t2_given_t1(t2, t1)[1]"
   ]
  },
  {
   "cell_type": "code",
   "execution_count": 15,
   "metadata": {
    "scrolled": true
   },
   "outputs": [
    {
     "data": {
      "text/plain": [
       "array([[7.30769243e-03, 4.15384620e-02, 7.26923048e-02, 7.30769243e-03,\n",
       "        9.61538497e-03, 5.38461516e-03, 4.81153846e-01, 3.34615372e-02,\n",
       "        9.38461572e-02, 1.30769229e-02, 2.19230764e-02, 2.12692305e-01],\n",
       "       [6.59231916e-02, 9.39832702e-02, 4.36190292e-02, 8.05827826e-02,\n",
       "        1.75465420e-01, 5.77390045e-02, 8.93965289e-02, 5.15334122e-02,\n",
       "        2.71607153e-02, 2.51821196e-03, 9.05656964e-02, 2.21422791e-01],\n",
       "       [4.95049520e-04, 6.55115545e-02, 6.69967011e-02, 2.09570955e-02,\n",
       "        4.78547858e-03, 1.76567659e-02, 1.20462049e-02, 4.78547858e-03,\n",
       "        2.06270628e-02, 1.12211220e-02, 7.62376264e-02, 6.98679864e-01],\n",
       "       [1.47536141e-03, 1.17733844e-01, 3.21628787e-02, 1.86485693e-01,\n",
       "        2.95072282e-03, 1.32782534e-02, 1.88846271e-02, 2.65565072e-03,\n",
       "        2.08616108e-01, 2.71466505e-02, 3.48185301e-02, 3.53791684e-01],\n",
       "       [3.74577101e-03, 1.77622046e-02, 2.06138238e-01, 2.27162875e-02,\n",
       "        5.55824069e-03, 4.83325275e-04, 3.99951674e-02, 1.28081199e-02,\n",
       "        4.55534086e-02, 1.20831319e-04, 9.06234886e-03, 6.36056066e-01],\n",
       "       [5.80645166e-02, 3.41013819e-02, 1.16589859e-01, 4.23963144e-02,\n",
       "        1.19354837e-01, 4.60829498e-04, 1.58986181e-01, 5.52995391e-02,\n",
       "        6.91244239e-03, 5.06912451e-03, 5.11520728e-02, 3.51612896e-01],\n",
       "       [3.58667821e-02, 3.47799100e-02, 6.46688938e-02, 2.31348500e-02,\n",
       "        1.33918181e-01, 5.58962813e-03, 1.68309912e-01, 8.26022848e-02,\n",
       "        2.17917860e-01, 3.09758559e-02, 9.14525241e-02, 1.10783324e-01],\n",
       "       [1.49452006e-02, 1.35503158e-01, 1.28860846e-01, 3.22152115e-02,\n",
       "        6.90800399e-02, 7.30654271e-03, 3.45400184e-01, 8.00398514e-02,\n",
       "        2.22517438e-02, 1.46130854e-02, 1.18233144e-01, 3.15509811e-02],\n",
       "       [5.49888425e-02, 1.63691431e-01, 1.72138978e-02, 2.86898320e-03,\n",
       "        5.46700656e-02, 1.00414408e-02, 2.04016581e-01, 2.58208476e-02,\n",
       "        7.49123394e-02, 1.84571251e-01, 1.45202428e-01, 6.20019138e-02],\n",
       "       [1.86701603e-02, 4.25810665e-02, 8.28693062e-02, 5.73206693e-02,\n",
       "        1.00556828e-01, 2.29282677e-03, 4.02554870e-01, 9.82640032e-03,\n",
       "        1.31018674e-02, 1.96528016e-03, 1.99803468e-02, 2.48280376e-01],\n",
       "       [6.88215792e-02, 4.02440317e-02, 1.06603876e-01, 6.27207533e-02,\n",
       "        3.22701484e-01, 8.56255996e-04, 8.13443214e-03, 1.35930646e-02,\n",
       "        3.48924324e-02, 1.49844808e-03, 1.70180891e-02, 3.22915554e-01],\n",
       "       [4.77858027e-03, 2.39293799e-01, 1.21835554e-02, 9.52068251e-03,\n",
       "        1.30225429e-02, 4.32260893e-02, 1.47005185e-01, 1.68891810e-02,\n",
       "        2.89633032e-02, 4.37003002e-02, 1.76843941e-01, 2.64572859e-01]],\n",
       "      dtype=float32)"
      ]
     },
     "execution_count": 15,
     "metadata": {},
     "output_type": "execute_result"
    }
   ],
   "source": [
    "tags_matrix"
   ]
  },
  {
   "cell_type": "code",
   "execution_count": 16,
   "metadata": {},
   "outputs": [],
   "source": [
    "# convert the matrix to a df for better readability\n",
    "tags_df = pd.DataFrame(tags_matrix, columns = list(T), index=list(T))"
   ]
  },
  {
   "cell_type": "code",
   "execution_count": 17,
   "metadata": {
    "scrolled": true
   },
   "outputs": [
    {
     "data": {
      "text/html": [
       "<div>\n",
       "<style scoped>\n",
       "    .dataframe tbody tr th:only-of-type {\n",
       "        vertical-align: middle;\n",
       "    }\n",
       "\n",
       "    .dataframe tbody tr th {\n",
       "        vertical-align: top;\n",
       "    }\n",
       "\n",
       "    .dataframe thead th {\n",
       "        text-align: right;\n",
       "    }\n",
       "</style>\n",
       "<table border=\"1\" class=\"dataframe\">\n",
       "  <thead>\n",
       "    <tr style=\"text-align: right;\">\n",
       "      <th></th>\n",
       "      <th>PRON</th>\n",
       "      <th>.</th>\n",
       "      <th>ADJ</th>\n",
       "      <th>NUM</th>\n",
       "      <th>DET</th>\n",
       "      <th>CONJ</th>\n",
       "      <th>VERB</th>\n",
       "      <th>ADV</th>\n",
       "      <th>X</th>\n",
       "      <th>PRT</th>\n",
       "      <th>ADP</th>\n",
       "      <th>NOUN</th>\n",
       "    </tr>\n",
       "  </thead>\n",
       "  <tbody>\n",
       "    <tr>\n",
       "      <th>PRON</th>\n",
       "      <td>0.007308</td>\n",
       "      <td>0.041538</td>\n",
       "      <td>0.072692</td>\n",
       "      <td>0.007308</td>\n",
       "      <td>0.009615</td>\n",
       "      <td>0.005385</td>\n",
       "      <td>0.481154</td>\n",
       "      <td>0.033462</td>\n",
       "      <td>0.093846</td>\n",
       "      <td>0.013077</td>\n",
       "      <td>0.021923</td>\n",
       "      <td>0.212692</td>\n",
       "    </tr>\n",
       "    <tr>\n",
       "      <th>.</th>\n",
       "      <td>0.065923</td>\n",
       "      <td>0.093983</td>\n",
       "      <td>0.043619</td>\n",
       "      <td>0.080583</td>\n",
       "      <td>0.175465</td>\n",
       "      <td>0.057739</td>\n",
       "      <td>0.089397</td>\n",
       "      <td>0.051533</td>\n",
       "      <td>0.027161</td>\n",
       "      <td>0.002518</td>\n",
       "      <td>0.090566</td>\n",
       "      <td>0.221423</td>\n",
       "    </tr>\n",
       "    <tr>\n",
       "      <th>ADJ</th>\n",
       "      <td>0.000495</td>\n",
       "      <td>0.065512</td>\n",
       "      <td>0.066997</td>\n",
       "      <td>0.020957</td>\n",
       "      <td>0.004785</td>\n",
       "      <td>0.017657</td>\n",
       "      <td>0.012046</td>\n",
       "      <td>0.004785</td>\n",
       "      <td>0.020627</td>\n",
       "      <td>0.011221</td>\n",
       "      <td>0.076238</td>\n",
       "      <td>0.698680</td>\n",
       "    </tr>\n",
       "    <tr>\n",
       "      <th>NUM</th>\n",
       "      <td>0.001475</td>\n",
       "      <td>0.117734</td>\n",
       "      <td>0.032163</td>\n",
       "      <td>0.186486</td>\n",
       "      <td>0.002951</td>\n",
       "      <td>0.013278</td>\n",
       "      <td>0.018885</td>\n",
       "      <td>0.002656</td>\n",
       "      <td>0.208616</td>\n",
       "      <td>0.027147</td>\n",
       "      <td>0.034819</td>\n",
       "      <td>0.353792</td>\n",
       "    </tr>\n",
       "    <tr>\n",
       "      <th>DET</th>\n",
       "      <td>0.003746</td>\n",
       "      <td>0.017762</td>\n",
       "      <td>0.206138</td>\n",
       "      <td>0.022716</td>\n",
       "      <td>0.005558</td>\n",
       "      <td>0.000483</td>\n",
       "      <td>0.039995</td>\n",
       "      <td>0.012808</td>\n",
       "      <td>0.045553</td>\n",
       "      <td>0.000121</td>\n",
       "      <td>0.009062</td>\n",
       "      <td>0.636056</td>\n",
       "    </tr>\n",
       "    <tr>\n",
       "      <th>CONJ</th>\n",
       "      <td>0.058065</td>\n",
       "      <td>0.034101</td>\n",
       "      <td>0.116590</td>\n",
       "      <td>0.042396</td>\n",
       "      <td>0.119355</td>\n",
       "      <td>0.000461</td>\n",
       "      <td>0.158986</td>\n",
       "      <td>0.055300</td>\n",
       "      <td>0.006912</td>\n",
       "      <td>0.005069</td>\n",
       "      <td>0.051152</td>\n",
       "      <td>0.351613</td>\n",
       "    </tr>\n",
       "    <tr>\n",
       "      <th>VERB</th>\n",
       "      <td>0.035867</td>\n",
       "      <td>0.034780</td>\n",
       "      <td>0.064669</td>\n",
       "      <td>0.023135</td>\n",
       "      <td>0.133918</td>\n",
       "      <td>0.005590</td>\n",
       "      <td>0.168310</td>\n",
       "      <td>0.082602</td>\n",
       "      <td>0.217918</td>\n",
       "      <td>0.030976</td>\n",
       "      <td>0.091453</td>\n",
       "      <td>0.110783</td>\n",
       "    </tr>\n",
       "    <tr>\n",
       "      <th>ADV</th>\n",
       "      <td>0.014945</td>\n",
       "      <td>0.135503</td>\n",
       "      <td>0.128861</td>\n",
       "      <td>0.032215</td>\n",
       "      <td>0.069080</td>\n",
       "      <td>0.007307</td>\n",
       "      <td>0.345400</td>\n",
       "      <td>0.080040</td>\n",
       "      <td>0.022252</td>\n",
       "      <td>0.014613</td>\n",
       "      <td>0.118233</td>\n",
       "      <td>0.031551</td>\n",
       "    </tr>\n",
       "    <tr>\n",
       "      <th>X</th>\n",
       "      <td>0.054989</td>\n",
       "      <td>0.163691</td>\n",
       "      <td>0.017214</td>\n",
       "      <td>0.002869</td>\n",
       "      <td>0.054670</td>\n",
       "      <td>0.010041</td>\n",
       "      <td>0.204017</td>\n",
       "      <td>0.025821</td>\n",
       "      <td>0.074912</td>\n",
       "      <td>0.184571</td>\n",
       "      <td>0.145202</td>\n",
       "      <td>0.062002</td>\n",
       "    </tr>\n",
       "    <tr>\n",
       "      <th>PRT</th>\n",
       "      <td>0.018670</td>\n",
       "      <td>0.042581</td>\n",
       "      <td>0.082869</td>\n",
       "      <td>0.057321</td>\n",
       "      <td>0.100557</td>\n",
       "      <td>0.002293</td>\n",
       "      <td>0.402555</td>\n",
       "      <td>0.009826</td>\n",
       "      <td>0.013102</td>\n",
       "      <td>0.001965</td>\n",
       "      <td>0.019980</td>\n",
       "      <td>0.248280</td>\n",
       "    </tr>\n",
       "    <tr>\n",
       "      <th>ADP</th>\n",
       "      <td>0.068822</td>\n",
       "      <td>0.040244</td>\n",
       "      <td>0.106604</td>\n",
       "      <td>0.062721</td>\n",
       "      <td>0.322701</td>\n",
       "      <td>0.000856</td>\n",
       "      <td>0.008134</td>\n",
       "      <td>0.013593</td>\n",
       "      <td>0.034892</td>\n",
       "      <td>0.001498</td>\n",
       "      <td>0.017018</td>\n",
       "      <td>0.322916</td>\n",
       "    </tr>\n",
       "    <tr>\n",
       "      <th>NOUN</th>\n",
       "      <td>0.004779</td>\n",
       "      <td>0.239294</td>\n",
       "      <td>0.012184</td>\n",
       "      <td>0.009521</td>\n",
       "      <td>0.013023</td>\n",
       "      <td>0.043226</td>\n",
       "      <td>0.147005</td>\n",
       "      <td>0.016889</td>\n",
       "      <td>0.028963</td>\n",
       "      <td>0.043700</td>\n",
       "      <td>0.176844</td>\n",
       "      <td>0.264573</td>\n",
       "    </tr>\n",
       "  </tbody>\n",
       "</table>\n",
       "</div>"
      ],
      "text/plain": [
       "          PRON         .       ADJ       NUM       DET      CONJ      VERB  \\\n",
       "PRON  0.007308  0.041538  0.072692  0.007308  0.009615  0.005385  0.481154   \n",
       ".     0.065923  0.093983  0.043619  0.080583  0.175465  0.057739  0.089397   \n",
       "ADJ   0.000495  0.065512  0.066997  0.020957  0.004785  0.017657  0.012046   \n",
       "NUM   0.001475  0.117734  0.032163  0.186486  0.002951  0.013278  0.018885   \n",
       "DET   0.003746  0.017762  0.206138  0.022716  0.005558  0.000483  0.039995   \n",
       "CONJ  0.058065  0.034101  0.116590  0.042396  0.119355  0.000461  0.158986   \n",
       "VERB  0.035867  0.034780  0.064669  0.023135  0.133918  0.005590  0.168310   \n",
       "ADV   0.014945  0.135503  0.128861  0.032215  0.069080  0.007307  0.345400   \n",
       "X     0.054989  0.163691  0.017214  0.002869  0.054670  0.010041  0.204017   \n",
       "PRT   0.018670  0.042581  0.082869  0.057321  0.100557  0.002293  0.402555   \n",
       "ADP   0.068822  0.040244  0.106604  0.062721  0.322701  0.000856  0.008134   \n",
       "NOUN  0.004779  0.239294  0.012184  0.009521  0.013023  0.043226  0.147005   \n",
       "\n",
       "           ADV         X       PRT       ADP      NOUN  \n",
       "PRON  0.033462  0.093846  0.013077  0.021923  0.212692  \n",
       ".     0.051533  0.027161  0.002518  0.090566  0.221423  \n",
       "ADJ   0.004785  0.020627  0.011221  0.076238  0.698680  \n",
       "NUM   0.002656  0.208616  0.027147  0.034819  0.353792  \n",
       "DET   0.012808  0.045553  0.000121  0.009062  0.636056  \n",
       "CONJ  0.055300  0.006912  0.005069  0.051152  0.351613  \n",
       "VERB  0.082602  0.217918  0.030976  0.091453  0.110783  \n",
       "ADV   0.080040  0.022252  0.014613  0.118233  0.031551  \n",
       "X     0.025821  0.074912  0.184571  0.145202  0.062002  \n",
       "PRT   0.009826  0.013102  0.001965  0.019980  0.248280  \n",
       "ADP   0.013593  0.034892  0.001498  0.017018  0.322916  \n",
       "NOUN  0.016889  0.028963  0.043700  0.176844  0.264573  "
      ]
     },
     "execution_count": 17,
     "metadata": {},
     "output_type": "execute_result"
    }
   ],
   "source": [
    "tags_df"
   ]
  },
  {
   "cell_type": "code",
   "execution_count": 18,
   "metadata": {
    "scrolled": true
   },
   "outputs": [
    {
     "data": {
      "text/plain": [
       "PRON    0.065923\n",
       ".       0.093983\n",
       "ADJ     0.043619\n",
       "NUM     0.080583\n",
       "DET     0.175465\n",
       "CONJ    0.057739\n",
       "VERB    0.089397\n",
       "ADV     0.051533\n",
       "X       0.027161\n",
       "PRT     0.002518\n",
       "ADP     0.090566\n",
       "NOUN    0.221423\n",
       "Name: ., dtype: float32"
      ]
     },
     "execution_count": 18,
     "metadata": {},
     "output_type": "execute_result"
    }
   ],
   "source": [
    "tags_df.loc['.', :]"
   ]
  },
  {
   "cell_type": "code",
   "execution_count": 19,
   "metadata": {
    "scrolled": true
   },
   "outputs": [
    {
     "data": {
      "image/png": "[encoded data removed]",
      "text/plain": [
       "<Figure size 1296x864 with 2 Axes>"
      ]
     },
     "metadata": {
      "needs_background": "light"
     },
     "output_type": "display_data"
    }
   ],
   "source": [
    "# heatmap of tags matrix\n",
    "# T(i, j) means P(tag j given tag i)\n",
    "plt.figure(figsize=(18, 12))\n",
    "sns.heatmap(tags_df)\n",
    "plt.show()"
   ]
  },
  {
   "cell_type": "code",
   "execution_count": 20,
   "metadata": {},
   "outputs": [
    {
     "data": {
      "image/png": "[encoded data removed]",
      "text/plain": [
       "<Figure size 1296x864 with 2 Axes>"
      ]
     },
     "metadata": {
      "needs_background": "light"
     },
     "output_type": "display_data"
    }
   ],
   "source": [
    "# frequent tags\n",
    "# filter the df to get P(t2, t1) > 0.5\n",
    "tags_frequent = tags_df[tags_df>0.5]\n",
    "plt.figure(figsize=(18, 12))\n",
    "sns.heatmap(tags_frequent)\n",
    "plt.show()"
   ]
  },
  {
   "cell_type": "markdown",
   "metadata": {},
   "source": [
    "## 3. Viterbi Algorithm\n",
    "\n",
    "Let's now use the computed probabilities P(w, tag) and P(t2, t1) to assign tags to each word in the document. We'll run through each word w and compute P(tag/w)=P(w/tag).P(tag) for each tag in the tag set, and then assign the tag having the max P(tag/w).\n",
    "\n",
    "We'll store the assigned tags in a list of tuples, similar to the list 'train_tagged_words'. Each tuple will be a (token, assigned_tag). As we progress further in the list, each tag to be assigned will use the tag of the previous token.\n",
    "\n",
    "Note: P(tag|start) = P(tag|'.') "
   ]
  },
  {
   "cell_type": "code",
   "execution_count": 21,
   "metadata": {},
   "outputs": [
    {
     "data": {
      "text/plain": [
       "95590"
      ]
     },
     "execution_count": 21,
     "metadata": {},
     "output_type": "execute_result"
    }
   ],
   "source": [
    "len(train_tagged_words)"
   ]
  },
  {
   "cell_type": "code",
   "execution_count": 22,
   "metadata": {},
   "outputs": [],
   "source": [
    "# Viterbi Heuristic\n",
    "def Viterbi(words, train_bag = train_tagged_words):\n",
    "    state = []\n",
    "    T = list(set([pair[1] for pair in train_bag]))\n",
    "    \n",
    "    for key, word in enumerate(words):\n",
    "        #initialise list of probability column for a given observation\n",
    "        p = [] \n",
    "        for tag in T:\n",
    "            if key == 0:\n",
    "                transition_p = tags_df.loc['.', tag]\n",
    "            else:\n",
    "                transition_p = tags_df.loc[state[-1], tag]\n",
    "                \n",
    "            # compute emission and state probabilities\n",
    "            emission_p = word_given_tag(words[key], tag)[0]/word_given_tag(words[key], tag)[1]\n",
    "            state_probability = emission_p * transition_p    \n",
    "            p.append(state_probability)\n",
    "            \n",
    "        pmax = max(p)\n",
    "        # getting state for which probability is maximum\n",
    "        state_max = T[p.index(pmax)] \n",
    "        state.append(state_max)\n",
    "    return list(zip(words, state))\n",
    "\n"
   ]
  },
  {
   "cell_type": "markdown",
   "metadata": {},
   "source": [
    "## 4. Evaluating on Test Set"
   ]
  },
  {
   "cell_type": "markdown",
   "metadata": {},
   "source": [
    "### Tagging the validation data"
   ]
  },
  {
   "cell_type": "code",
   "execution_count": 23,
   "metadata": {},
   "outputs": [
    {
     "name": "stdout",
     "output_type": "stream",
     "text": [
      "\n",
      "rndom:  [113, 30, 2, 24, 150, 9, 172, 178, 22, 26, 91, 61, 5, 8, 5, 89, 166, 160, 124, 158]\n",
      "\n",
      "test_run:  [[('Mr.', 'NOUN'), ('Thomas', 'NOUN'), (',', '.'), ('currently', 'ADV'), ('chairman', 'NOUN'), ('of', 'ADP'), ('the', 'DET'), ('Equal', 'NOUN'), ('Employment', 'NOUN'), ('Opportunity', 'NOUN'), ('Commission', 'NOUN'), (',', '.'), ('would', 'VERB'), ('add', 'VERB'), ('another', 'DET'), ('conservative', 'ADJ'), ('voice', 'NOUN'), ('to', 'PRT'), ('the', 'DET'), ('closely', 'ADV'), ('divided', 'VERB'), ('court', 'NOUN'), ('.', '.')], [('In', 'ADP'), ('response', 'NOUN'), ('to', 'PRT'), ('the', 'DET'), ('ruling', 'NOUN'), (',', '.'), ('gilt', 'ADJ'), ('futures', 'NOUN'), ('swiftly', 'ADV'), ('plunged', 'VERB'), ('more', 'ADJ'), ('than', 'ADP'), ('a', 'DET'), ('point', 'NOUN'), ('yesterday', 'NOUN'), ('before', 'ADP'), ('*-1', 'X'), ('recovering', 'VERB'), ('much', 'ADJ'), ('of', 'ADP'), ('the', 'DET'), ('loss', 'NOUN'), ('by', 'ADP'), ('the', 'DET'), ('end', 'NOUN'), ('of', 'ADP'), ('the', 'DET'), ('session', 'NOUN'), ('.', '.')], [('When', 'ADV'), ('you', 'PRON'), ('become', 'VERB'), ('a', 'DET'), ('federal', 'ADJ'), ('judge', 'NOUN'), ('*T*-1', 'X'), (',', '.'), ('all', 'DET'), ('of', 'ADP'), ('a', 'DET'), ('sudden', 'ADJ'), ('you', 'PRON'), ('are', 'VERB'), ('relegated', 'VERB'), ('*-2', 'X'), ('to', 'PRT'), ('a', 'DET'), ('paltry', 'ADJ'), ('sum', 'NOUN'), ('.', '.'), (\"''\", '.')], [('Mr.', 'NOUN'), ('Einhorn', 'NOUN'), ('of', 'ADP'), ('Goldman', 'NOUN'), ('Sachs', 'NOUN'), ('estimates', 'VERB'), ('0', 'X'), ('the', 'DET'), ('stock', 'NOUN'), ('market', 'NOUN'), ('will', 'VERB'), ('deliver', 'VERB'), ('a', 'DET'), ('12', 'NUM'), ('%', 'NOUN'), ('to', 'PRT'), ('15', 'NUM'), ('%', 'NOUN'), ('*U*', 'X'), ('total', 'NOUN'), ('return', 'NOUN'), ('from', 'ADP'), ('appreciation', 'NOUN'), ('and', 'CONJ'), ('dividends', 'NOUN'), ('*ICH*-1', 'X'), ('over', 'ADP'), ('the', 'DET'), ('next', 'ADJ'), ('12', 'NUM'), ('months', 'NOUN'), ('--', '.'), ('vs.', 'ADP'), ('a', 'DET'), ('``', '.'), ('cash', 'NOUN'), ('rate', 'NOUN'), ('of', 'ADP'), ('return', 'NOUN'), (\"''\", '.'), ('of', 'ADP'), ('perhaps', 'ADV'), ('7', 'NUM'), ('%', 'NOUN'), ('or', 'CONJ'), ('8', 'NUM'), ('%', 'ADJ'), ('*U*', 'X'), ('if', 'ADP'), ('dividend', 'NOUN'), ('growth', 'NOUN'), ('is', 'VERB'), ('weak', 'ADJ'), ('.', '.')], [('Mrs.', 'NOUN'), ('Yeargin', 'NOUN'), ('concedes', 'VERB'), ('that', 'ADP'), ('she', 'PRON'), ('went', 'VERB'), ('over', 'ADV'), ('the', 'DET'), ('questions', 'NOUN'), ('in', 'ADP'), ('the', 'DET'), ('earlier', 'ADJ'), ('class', 'NOUN'), (',', '.'), ('*-1', 'X'), ('adding', 'VERB'), (':', '.'), ('``', '.'), ('I', 'PRON'), ('wanted', 'VERB'), ('*-2', 'X'), ('to', 'PRT'), ('help', 'VERB'), ('all', 'DET'), (\"''\", '.'), ('students', 'NOUN'), ('.', '.')], [('But', 'CONJ'), ('the', 'DET'), ('broader', 'ADJ'), ('Nasdaq', 'NOUN'), ('bank', 'NOUN'), ('index', 'NOUN'), (',', '.'), ('which', 'DET'), ('*T*-116', 'X'), ('tracks', 'VERB'), ('thrift', 'NOUN'), ('issues', 'NOUN'), (',', '.'), ('jumped', 'VERB'), ('3.23', 'NUM'), ('to', 'PRT'), ('436.01', 'NUM'), ('.', '.')], [('Could', 'VERB'), ('rising', 'VERB'), ('volatility', 'NOUN'), ('possibly', 'ADV'), ('be', 'VERB'), ('related', 'VERB'), ('to', 'PRT'), ('uncertainty', 'NOUN'), ('about', 'ADP'), ('the', 'DET'), ('economics', 'NOUN'), ('of', 'ADP'), ('stocks', 'NOUN'), (',', '.'), ('instead', 'ADV'), ('of', 'ADP'), ('the', 'DET'), ('evil', 'ADJ'), ('deeds', 'NOUN'), ('of', 'ADP'), ('program-trading', 'NOUN'), ('goblins', 'NOUN'), ('?', '.')], [('But', 'CONJ'), ('in', 'ADP'), ('one', 'NUM'), ('minor', 'ADJ'), ('matter', 'NOUN'), (',', '.'), ('Mr.', 'NOUN'), ('Nixon', 'NOUN'), ('appears', 'VERB'), ('*-1', 'X'), ('to', 'PRT'), ('have', 'VERB'), ('gained', 'VERB'), ('a', 'DET'), ('concession', 'NOUN'), ('.', '.')], [('The', 'DET'), ('percentage', 'NOUN'), ('change', 'NOUN'), ('is', 'VERB'), ('since', 'ADP'), ('year-end', 'NOUN'), ('.', '.')], [('In', 'ADP'), ('June', 'NOUN'), ('1988', 'NUM'), (',', '.'), ('I', 'PRON'), ('wrote', 'VERB'), ('in', 'ADP'), ('this', 'DET'), ('space', 'NOUN'), ('about', 'ADP'), ('this', 'DET'), ('issue', 'NOUN'), ('.', '.')], [('They', 'PRON'), ('want', 'VERB'), ('assets', 'NOUN'), (',', '.'), ('they', 'PRON'), ('want', 'VERB'), ('a', 'DET'), ('balance', 'NOUN'), ('sheet', 'NOUN'), (',', '.'), ('which', 'DET'), ('*T*-194', 'X'), ('has', 'VERB'), ('no', 'DET'), ('relation', 'NOUN'), ('to', 'PRT'), ('the', 'DET'), ('business', 'NOUN'), ('0', 'X'), ('a', 'DET'), ('company', 'NOUN'), ('can', 'VERB'), ('generate', 'VERB'), ('*T*-1', 'X'), ('.', '.'), (\"''\", '.')], [('New', 'NOUN'), ('York', 'NOUN'), ('City', 'NOUN'), (':', '.')], [('Viacom', 'NOUN'), (\"'s\", 'PRT'), ('move', 'NOUN'), ('comes', 'VERB'), ('as', 'ADP'), ('the', 'DET'), ('syndication', 'NOUN'), ('market', 'NOUN'), ('is', 'VERB'), ('being', 'VERB'), ('flooded', 'VERB'), ('*-76', 'X'), ('with', 'ADP'), ('situation', 'NOUN'), ('comedies', 'NOUN'), ('that', 'DET'), ('*T*-152', 'X'), ('are', 'VERB'), ('still', 'ADV'), ('running', 'VERB'), ('on', 'ADP'), ('the', 'DET'), ('networks', 'NOUN'), ('.', '.')], [('This', 'DET'), ('is', 'VERB'), ('not', 'ADV'), ('a', 'DET'), ('trivial', 'ADJ'), ('issue', 'NOUN'), ('.', '.')], [('Viacom', 'NOUN'), (\"'s\", 'PRT'), ('move', 'NOUN'), ('comes', 'VERB'), ('as', 'ADP'), ('the', 'DET'), ('syndication', 'NOUN'), ('market', 'NOUN'), ('is', 'VERB'), ('being', 'VERB'), ('flooded', 'VERB'), ('*-76', 'X'), ('with', 'ADP'), ('situation', 'NOUN'), ('comedies', 'NOUN'), ('that', 'DET'), ('*T*-152', 'X'), ('are', 'VERB'), ('still', 'ADV'), ('running', 'VERB'), ('on', 'ADP'), ('the', 'DET'), ('networks', 'NOUN'), ('.', '.')], [('``', '.'), ('Whether', 'ADP'), ('you', 'PRON'), ('thought', 'VERB'), ('0', 'X'), ('the', 'DET'), ('economy', 'NOUN'), ('was', 'VERB'), ('growing', 'VERB'), ('weak', 'ADJ'), ('or', 'CONJ'), ('holding', 'VERB'), ('*', 'X'), ('steady', 'ADJ'), (',', '.'), ('yesterday', 'NOUN'), (\"'s\", 'PRT'), ('economic', 'ADJ'), ('indicators', 'NOUN'), ('did', 'VERB'), (\"n't\", 'ADV'), ('change', 'VERB'), ('your', 'PRON'), ('opinion', 'NOUN'), (',', '.'), (\"''\", '.'), ('said', 'VERB'), ('*T*-1', 'X'), ('Charles', 'NOUN'), ('Lieberman', 'NOUN'), (',', '.'), ('a', 'DET'), ('managing', 'VERB'), ('director', 'NOUN'), ('at', 'ADP'), ('Manufacturers', 'NOUN'), ('Hanover', 'NOUN'), ('Securities', 'NOUN'), ('Corp', 'NOUN'), ('.', '.')], [('``', '.'), ('After', 'ADP'), ('two', 'NUM'), ('months', 'NOUN'), ('of', 'ADP'), ('talks', 'NOUN'), (',', '.'), ('our', 'PRON'), ('rating', 'NOUN'), ('was', 'VERB'), ('maintained', 'VERB'), ('*-1', 'X'), ('.', '.'), (\"''\", '.')], [('RMS', 'NOUN'), ('International', 'NOUN'), ('Inc.', 'NOUN'), (',', '.'), ('Hasbrouk', 'NOUN'), ('Heights', 'NOUN'), (',', '.'), ('N.J.', 'NOUN'), (',', '.'), ('*-1', 'X'), ('facing', 'VERB'), ('a', 'DET'), ('cash-flow', 'ADJ'), ('squeeze', 'NOUN'), (',', '.'), ('said', 'VERB'), ('0', 'X'), ('it', 'PRON'), ('is', 'VERB'), ('seeking', 'VERB'), ('other', 'ADJ'), ('financing', 'VERB'), ('sources', 'NOUN'), ('and', 'CONJ'), ('waivers', 'NOUN'), ('from', 'ADP'), ('debenture', 'NOUN'), ('holders', 'NOUN'), ('.', '.')], [('The', 'DET'), ('move', 'NOUN'), ('boosts', 'VERB'), ('Intelogic', 'NOUN'), ('Chairman', 'NOUN'), ('Asher', 'NOUN'), ('Edelman', 'NOUN'), (\"'s\", 'PRT'), ('stake', 'NOUN'), ('to', 'PRT'), ('20', 'NUM'), ('%', 'NOUN'), ('from', 'ADP'), ('16.2', 'NUM'), ('%', 'NOUN'), ('and', 'CONJ'), ('may', 'VERB'), ('help', 'VERB'), ('*-2', 'X'), ('prevent', 'VERB'), ('Martin', 'NOUN'), ('Ackerman', 'NOUN'), ('from', 'ADP'), ('*-1', 'X'), ('making', 'VERB'), ('a', 'DET'), ('run', 'NOUN'), ('at', 'ADP'), ('the', 'DET'), ('computer-services', 'NOUN'), ('concern', 'NOUN'), ('.', '.')], [('Now', 'ADV'), ('the', 'DET'), ('stage', 'NOUN'), ('is', 'VERB'), ('set', 'VERB'), ('*-76', 'X'), ('for', 'ADP'), ('the', 'DET'), ('battle', 'NOUN'), ('to', 'PRT'), ('play', 'VERB'), ('out', 'ADP'), ('.', '.')]]\n",
      "\n",
      "Length of test_run:  20\n"
     ]
    }
   ],
   "source": [
    "# Let's test our Viterbi algorithm on a few sample sentences of test dataset\n",
    "\n",
    "random.seed(1234)\n",
    "\n",
    "# choose random 5 sents\n",
    "rndom = [random.randint(1,len(test_set)) for x in range(20)]\n",
    "print('\\nrndom: ',rndom[:20])\n",
    "\n",
    "# list of sents\n",
    "test_run = [test_set[i] for i in rndom]\n",
    "print('\\ntest_run: ',test_run[:20])\n",
    "print('\\nLength of test_run: ',len(test_run))  \n"
   ]
  },
  {
   "cell_type": "code",
   "execution_count": 24,
   "metadata": {},
   "outputs": [
    {
     "name": "stdout",
     "output_type": "stream",
     "text": [
      "\n",
      "test_run_base:  [('Mr.', 'NOUN'), ('Thomas', 'NOUN'), (',', '.'), ('currently', 'ADV'), ('chairman', 'NOUN'), ('of', 'ADP'), ('the', 'DET'), ('Equal', 'NOUN'), ('Employment', 'NOUN'), ('Opportunity', 'NOUN')]\n",
      "\n",
      "Length of test_run_base:  445\n",
      "\n",
      "test_tagged_words:  ['Mr.', 'Thomas', ',', 'currently', 'chairman', 'of', 'the', 'Equal', 'Employment', 'Opportunity']\n",
      "\n",
      "Length of test_tagged_words:  445\n",
      "\n",
      "Time taken in seconds:  77.97036719322205\n",
      "\tagged_seq:  [('Mr.', 'NOUN'), ('Thomas', 'NOUN'), (',', '.'), ('currently', 'ADV'), ('chairman', 'NOUN'), ('of', 'ADP'), ('the', 'DET'), ('Equal', 'PRON'), ('Employment', 'PRON'), ('Opportunity', 'PRON')]\n",
      "\n",
      "Length of tagged_seq:  445\n"
     ]
    }
   ],
   "source": [
    "# list of tagged words\n",
    "test_run_base = [tup for sent in test_run for tup in sent]\n",
    "print('\\ntest_run_base: ',test_run_base[:10])\n",
    "print('\\nLength of test_run_base: ',len(test_run_base))\n",
    "    \n",
    "# list of untagged words\n",
    "test_tagged_words = [tup[0] for sent in test_run for tup in sent]\n",
    "print('\\ntest_tagged_words: ',test_tagged_words[:10])\n",
    "print('\\nLength of test_tagged_words: ',len(test_tagged_words))\n",
    "\n",
    "start = time.time()\n",
    "tagged_seq = Viterbi(test_tagged_words)\n",
    "end = time.time()\n",
    "\n",
    "difference = end-start\n",
    "\n",
    "print(\"\\nTime taken in seconds: \", difference)\n",
    "print('\\ntagged_seq: ',tagged_seq[:10])\n",
    "print('\\nLength of tagged_seq: ',len(tagged_seq))\n",
    "\n",
    "# accuracy\n",
    "check = [i for i, j in zip(tagged_seq, test_run_base) if i == j]\n",
    "accuracy = len(check)/len(tagged_seq)"
   ]
  },
  {
   "cell_type": "markdown",
   "metadata": {},
   "source": [
    "### Tag validation data - 5% data"
   ]
  },
  {
   "cell_type": "code",
   "execution_count": 26,
   "metadata": {},
   "outputs": [
    {
     "name": "stdout",
     "output_type": "stream",
     "text": [
      "\n",
      "Viterbi Algorithm Accuracy on 5% validation data:  88.53932584269663\n"
     ]
    }
   ],
   "source": [
    "print('\\nViterbi Algorithm Accuracy on 5% validation data: ',accuracy*100)"
   ]
  },
  {
   "cell_type": "markdown",
   "metadata": {},
   "source": [
    "#### Let's check the incorrectly tagged words"
   ]
  },
  {
   "cell_type": "code",
   "execution_count": 27,
   "metadata": {},
   "outputs": [],
   "source": [
    "incorrect_tagged_cases = [j for i, j in enumerate(zip(tagged_seq, test_run_base)) if j[0]!=j[1]]"
   ]
  },
  {
   "cell_type": "code",
   "execution_count": 28,
   "metadata": {},
   "outputs": [
    {
     "data": {
      "text/plain": [
       "[(('Equal', 'PRON'), ('Equal', 'NOUN')),\n",
       " (('Employment', 'PRON'), ('Employment', 'NOUN')),\n",
       " (('Opportunity', 'PRON'), ('Opportunity', 'NOUN')),\n",
       " (('gilt', 'PRON'), ('gilt', 'ADJ')),\n",
       " (('more', 'ADV'), ('more', 'ADJ')),\n",
       " (('recovering', 'PRON'), ('recovering', 'VERB')),\n",
       " (('sum', 'PRON'), ('sum', 'NOUN')),\n",
       " (('estimates', 'NOUN'), ('estimates', 'VERB')),\n",
       " (('total', 'VERB'), ('total', 'NOUN')),\n",
       " (('return', 'VERB'), ('return', 'NOUN')),\n",
       " (('vs.', 'CONJ'), ('vs.', 'ADP')),\n",
       " (('%', 'NOUN'), ('%', 'ADJ')),\n",
       " (('concedes', 'PRON'), ('concedes', 'VERB')),\n",
       " (('over', 'ADP'), ('over', 'ADV')),\n",
       " (('*T*-116', 'PRON'), ('*T*-116', 'X')),\n",
       " (('3.23', 'PRON'), ('3.23', 'NUM')),\n",
       " (('436.01', 'PRON'), ('436.01', 'NUM')),\n",
       " (('Could', 'PRON'), ('Could', 'VERB')),\n",
       " (('deeds', 'PRON'), ('deeds', 'NOUN')),\n",
       " (('program-trading', 'ADJ'), ('program-trading', 'NOUN')),\n",
       " (('goblins', 'PRON'), ('goblins', 'NOUN')),\n",
       " (('minor', 'PRON'), ('minor', 'ADJ')),\n",
       " (('*T*-194', 'PRON'), ('*T*-194', 'X')),\n",
       " (('relation', 'PRON'), ('relation', 'NOUN')),\n",
       " (('generate', 'PRON'), ('generate', 'VERB')),\n",
       " (('move', 'VERB'), ('move', 'NOUN')),\n",
       " (('flooded', 'PRON'), ('flooded', 'VERB')),\n",
       " (('*-76', 'PRON'), ('*-76', 'X')),\n",
       " (('comedies', 'PRON'), ('comedies', 'NOUN')),\n",
       " (('that', 'ADP'), ('that', 'DET')),\n",
       " (('*T*-152', 'PRON'), ('*T*-152', 'X')),\n",
       " (('networks', 'PRON'), ('networks', 'NOUN')),\n",
       " (('trivial', 'PRON'), ('trivial', 'ADJ')),\n",
       " (('move', 'VERB'), ('move', 'NOUN')),\n",
       " (('flooded', 'PRON'), ('flooded', 'VERB')),\n",
       " (('*-76', 'PRON'), ('*-76', 'X')),\n",
       " (('comedies', 'PRON'), ('comedies', 'NOUN')),\n",
       " (('that', 'ADP'), ('that', 'DET')),\n",
       " (('*T*-152', 'PRON'), ('*T*-152', 'X')),\n",
       " (('networks', 'PRON'), ('networks', 'NOUN')),\n",
       " (('Whether', 'PRON'), ('Whether', 'ADP')),\n",
       " (('Hanover', 'PRON'), ('Hanover', 'NOUN')),\n",
       " (('Hasbrouk', 'PRON'), ('Hasbrouk', 'NOUN')),\n",
       " (('financing', 'NOUN'), ('financing', 'VERB')),\n",
       " (('waivers', 'PRON'), ('waivers', 'NOUN')),\n",
       " (('Asher', 'PRON'), ('Asher', 'NOUN')),\n",
       " (('16.2', 'PRON'), ('16.2', 'NUM')),\n",
       " (('run', 'VERB'), ('run', 'NOUN')),\n",
       " (('computer-services', 'PRON'), ('computer-services', 'NOUN')),\n",
       " (('*-76', 'PRON'), ('*-76', 'X')),\n",
       " (('out', 'PRT'), ('out', 'ADP'))]"
      ]
     },
     "execution_count": 28,
     "metadata": {},
     "output_type": "execute_result"
    }
   ],
   "source": [
    "incorrect_tagged_cases"
   ]
  },
  {
   "cell_type": "code",
   "execution_count": 29,
   "metadata": {},
   "outputs": [
    {
     "name": "stdout",
     "output_type": "stream",
     "text": [
      "Total Incorrect Tagged Words : 51\n"
     ]
    }
   ],
   "source": [
    "print(\"Total Incorrect Tagged Words :\", len(incorrect_tagged_cases))"
   ]
  },
  {
   "cell_type": "markdown",
   "metadata": {},
   "source": [
    "#### Unknown words\n",
    "#### The unknown words have been tagged as 'NUM' as 'NUM' is the first tag in tag list and is assigned if unknown word is encountered (emission probability =0)."
   ]
  },
  {
   "cell_type": "markdown",
   "metadata": {},
   "source": [
    "### Viterbi Modification-Technique I"
   ]
  },
  {
   "cell_type": "markdown",
   "metadata": {},
   "source": [
    "#### Assign max probabilities based on occurence to target unknown words "
   ]
  },
  {
   "cell_type": "markdown",
   "metadata": {},
   "source": [
    "#### Adding Tag occurance probability weights: we will apply weights based on the probability of tag occurance to the transition probabilities of tags and then use the resulting probability for predicting unknown words."
   ]
  },
  {
   "cell_type": "code",
   "execution_count": 35,
   "metadata": {},
   "outputs": [
    {
     "data": {
      "text/plain": [
       "12"
      ]
     },
     "execution_count": 35,
     "metadata": {},
     "output_type": "execute_result"
    }
   ],
   "source": [
    "tags = set([pair[1] for pair in train_tagged_words])\n",
    "len(tags)"
   ]
  },
  {
   "cell_type": "code",
   "execution_count": 37,
   "metadata": {},
   "outputs": [
    {
     "name": "stdout",
     "output_type": "stream",
     "text": [
      "Probability based tagger\n"
     ]
    },
    {
     "data": {
      "text/plain": [
       "[('PRON', 0.027199497855424207),\n",
       " ('.', 0.11631969871325452),\n",
       " ('ADJ', 0.06339575269379642),\n",
       " ('NUM', 0.03545349932001255),\n",
       " ('DET', 0.08657809394288106),\n",
       " ('CONJ', 0.022701119363950206),\n",
       " ('VERB', 0.13475258918296892),\n",
       " ('ADV', 0.03149911078564704),\n",
       " ('X', 0.06563448059420442),\n",
       " ('PRT', 0.031938487289465425),\n",
       " ('ADP', 0.09774034940893399),\n",
       " ('NOUN', 0.28678732084946124)]"
      ]
     },
     "execution_count": 37,
     "metadata": {},
     "output_type": "execute_result"
    }
   ],
   "source": [
    "# lets create a list containing tuples of POS tags and POS tag occurance probability, based on training data\n",
    "print('Probability based tagger')\n",
    "tag_prob = []\n",
    "total_tag = len([tag for word,tag in train_tagged_words])\n",
    "tags = set([pair[1] for pair in train_tagged_words])\n",
    "for t in tags:\n",
    "    each_tag = [tag for word,tag in train_tagged_words if tag==t]\n",
    "    tag_prob.append((t,len(each_tag)/total_tag))\n",
    "\n",
    "tag_prob"
   ]
  },
  {
   "cell_type": "code",
   "execution_count": 38,
   "metadata": {},
   "outputs": [],
   "source": [
    "# use transition probability of tags when emission probability is zero (in case of unknown words)\n",
    "\n",
    "def Viterbi_Max_Prob(words, train_bag = train_tagged_words):\n",
    "    state = []\n",
    "    T = list(set([pair[1] for pair in train_bag]))\n",
    "    \n",
    "    for key, word in enumerate(words):\n",
    "        #initialise list of probability column for a given observation\n",
    "        p = [] \n",
    "        p_transition =[] # list for storing transition probabilities\n",
    "       \n",
    "        for tag in T:\n",
    "            if key == 0:\n",
    "                transition_p = tags_df.loc['.', tag]\n",
    "            else:\n",
    "                transition_p = tags_df.loc[state[-1], tag]\n",
    "                \n",
    "            # compute emission and state probabilities\n",
    "            emission_p = word_given_tag(words[key], tag)[0]/word_given_tag(words[key], tag)[1]\n",
    "            state_probability = emission_p * transition_p    \n",
    "            p.append(state_probability)\n",
    "            \n",
    "            # find POS tag occurance probability\n",
    "            tag_p = [pair[1] for pair in tag_prob if pair[0]==tag ]\n",
    "            \n",
    "            # calculate the transition prob weighted by tag occurance probability.\n",
    "            transition_p = tag_p[0]*transition_p             \n",
    "            p_transition.append(transition_p)\n",
    "            \n",
    "        pmax = max(p)\n",
    "        state_max = T[p.index(pmax)] \n",
    "        \n",
    "      \n",
    "        # if probability is zero (unknown word) then use weighted transition probability\n",
    "        if(pmax==0):\n",
    "            pmax = max(p_transition)\n",
    "            state_max = T[p_transition.index(pmax)]                 \n",
    "                           \n",
    "        else:\n",
    "            state_max = T[p.index(pmax)] \n",
    "        \n",
    "        state.append(state_max)\n",
    "    return list(zip(words, state))"
   ]
  },
  {
   "cell_type": "markdown",
   "metadata": {},
   "source": [
    "#### Test accuracy on validation data "
   ]
  },
  {
   "cell_type": "code",
   "execution_count": 39,
   "metadata": {},
   "outputs": [
    {
     "name": "stdout",
     "output_type": "stream",
     "text": [
      "Test untagged words  ['Mr.', 'Thomas', ',', 'currently', 'chairman', 'of', 'the', 'Equal', 'Employment', 'Opportunity']\n",
      "\n",
      "Length untagged words  445\n",
      "\n",
      "Tagged Sequence:  [('Mr.', 'NOUN'), ('Thomas', 'NOUN'), (',', '.'), ('currently', 'ADV'), ('chairman', 'NOUN'), ('of', 'ADP'), ('the', 'DET'), ('Equal', 'NOUN'), ('Employment', 'NOUN'), ('Opportunity', 'NOUN'), ('Commission', 'NOUN'), (',', '.'), ('would', 'VERB'), ('add', 'VERB'), ('another', 'DET'), ('conservative', 'ADJ'), ('voice', 'NOUN'), ('to', 'PRT'), ('the', 'DET'), ('closely', 'ADV')]\n",
      "\n",
      " Length of tagged sequence:  445\n",
      "\n",
      "Time taken by modified rule based Viterbi tagger in seconds:  78.27586317062378\n",
      "\n",
      "Length of check array:  410\n"
     ]
    }
   ],
   "source": [
    "print('Test untagged words ',test_tagged_words[:10])\n",
    "print('\\nLength untagged words ',len(test_tagged_words))\n",
    "\n",
    "start = time.time()\n",
    "tagged_seq = Viterbi_Max_Prob(test_tagged_words)\n",
    "end = time.time()\n",
    "\n",
    "print('\\nTagged Sequence: ',tagged_seq[:20])\n",
    "print('\\n Length of tagged sequence: ',len(tagged_seq))\n",
    "\n",
    "difference = end-start\n",
    " \n",
    "print(\"\\nTime taken by modified rule based Viterbi tagger in seconds: \", difference)\n",
    " \n",
    "\n",
    "check = [i for i, j in zip(tagged_seq, test_run_base) if i == j] \n",
    "print('\\nLength of check array: ',len(check))"
   ]
  },
  {
   "cell_type": "code",
   "execution_count": 40,
   "metadata": {},
   "outputs": [
    {
     "name": "stdout",
     "output_type": "stream",
     "text": [
      "\n",
      "Modification Technique 1 - Max transition probability - Viterbi Algorithm Accuracy:  92.13483146067416\n"
     ]
    }
   ],
   "source": [
    "# accuracy\n",
    "accuracy_rule_based = len(check)/len(tagged_seq)\n",
    "\n",
    "print('\\nModification Technique 1 - Max transition probability - Viterbi Algorithm Accuracy: ',accuracy_rule_based*100)"
   ]
  },
  {
   "cell_type": "markdown",
   "metadata": {},
   "source": [
    "#### Accuracy has improved from 88% to 92% as shown above"
   ]
  },
  {
   "cell_type": "code",
   "execution_count": 41,
   "metadata": {},
   "outputs": [],
   "source": [
    "incorrect_tagged_cases = [j for i, j in enumerate(zip(tagged_seq, test_run_base)) if j[0]!=j[1]]"
   ]
  },
  {
   "cell_type": "code",
   "execution_count": 42,
   "metadata": {},
   "outputs": [
    {
     "data": {
      "text/plain": [
       "[(('gilt', 'NOUN'), ('gilt', 'ADJ')),\n",
       " (('more', 'ADV'), ('more', 'ADJ')),\n",
       " (('much', 'ADV'), ('much', 'ADJ')),\n",
       " (('estimates', 'NOUN'), ('estimates', 'VERB')),\n",
       " (('total', 'VERB'), ('total', 'NOUN')),\n",
       " (('return', 'VERB'), ('return', 'NOUN')),\n",
       " (('vs.', 'CONJ'), ('vs.', 'ADP')),\n",
       " (('%', 'NOUN'), ('%', 'ADJ')),\n",
       " (('concedes', 'NOUN'), ('concedes', 'VERB')),\n",
       " (('over', 'ADP'), ('over', 'ADV')),\n",
       " (('*T*-116', 'NOUN'), ('*T*-116', 'X')),\n",
       " (('3.23', 'NOUN'), ('3.23', 'NUM')),\n",
       " (('436.01', 'NOUN'), ('436.01', 'NUM')),\n",
       " (('Could', 'NOUN'), ('Could', 'VERB')),\n",
       " (('program-trading', 'ADJ'), ('program-trading', 'NOUN')),\n",
       " (('minor', 'NOUN'), ('minor', 'ADJ')),\n",
       " (('*T*-194', 'NOUN'), ('*T*-194', 'X')),\n",
       " (('generate', 'NOUN'), ('generate', 'VERB')),\n",
       " (('move', 'VERB'), ('move', 'NOUN')),\n",
       " (('flooded', 'NOUN'), ('flooded', 'VERB')),\n",
       " (('*-76', 'NOUN'), ('*-76', 'X')),\n",
       " (('that', 'ADP'), ('that', 'DET')),\n",
       " (('*T*-152', 'NOUN'), ('*T*-152', 'X')),\n",
       " (('trivial', 'NOUN'), ('trivial', 'ADJ')),\n",
       " (('move', 'VERB'), ('move', 'NOUN')),\n",
       " (('flooded', 'NOUN'), ('flooded', 'VERB')),\n",
       " (('*-76', 'NOUN'), ('*-76', 'X')),\n",
       " (('that', 'ADP'), ('that', 'DET')),\n",
       " (('*T*-152', 'NOUN'), ('*T*-152', 'X')),\n",
       " (('Whether', 'NOUN'), ('Whether', 'ADP')),\n",
       " (('financing', 'NOUN'), ('financing', 'VERB')),\n",
       " (('16.2', 'NOUN'), ('16.2', 'NUM')),\n",
       " (('run', 'VERB'), ('run', 'NOUN')),\n",
       " (('*-76', 'NOUN'), ('*-76', 'X')),\n",
       " (('out', 'PRT'), ('out', 'ADP'))]"
      ]
     },
     "execution_count": 42,
     "metadata": {},
     "output_type": "execute_result"
    }
   ],
   "source": [
    "incorrect_tagged_cases"
   ]
  },
  {
   "cell_type": "markdown",
   "metadata": {},
   "source": [
    "#### No of incorrectly tagged words have significantly reduced from 51 to 35"
   ]
  },
  {
   "cell_type": "code",
   "execution_count": 43,
   "metadata": {},
   "outputs": [
    {
     "name": "stdout",
     "output_type": "stream",
     "text": [
      "Total Incorrect Tagged Words : 35\n"
     ]
    }
   ],
   "source": [
    "print(\"Total Incorrect Tagged Words :\", len(incorrect_tagged_cases))"
   ]
  },
  {
   "cell_type": "markdown",
   "metadata": {},
   "source": [
    "### Viterbi Modification-Technique II"
   ]
  },
  {
   "cell_type": "markdown",
   "metadata": {},
   "source": [
    "### Lexicon Tagger"
   ]
  },
  {
   "cell_type": "markdown",
   "metadata": {},
   "source": [
    "#### Unigram Tagger"
   ]
  },
  {
   "cell_type": "code",
   "execution_count": 44,
   "metadata": {},
   "outputs": [
    {
     "name": "stdout",
     "output_type": "stream",
     "text": [
      "The accuracy of the Unigram Tagger is - 90.24773889107354\n"
     ]
    }
   ],
   "source": [
    "unigram_tagger = nltk.UnigramTagger(train_set)\n",
    "accuracy_unigram_tagger = unigram_tagger.evaluate(test_set)\n",
    "print(\"The accuracy of the Unigram Tagger is -\", accuracy_unigram_tagger*100)"
   ]
  },
  {
   "cell_type": "markdown",
   "metadata": {},
   "source": [
    "#### Bigram Tagger"
   ]
  },
  {
   "cell_type": "code",
   "execution_count": 45,
   "metadata": {},
   "outputs": [
    {
     "name": "stdout",
     "output_type": "stream",
     "text": [
      "The accuracy of the Bigram Tagger is - 0.19366889500589854\n"
     ]
    }
   ],
   "source": [
    "bigram_tagger = nltk.BigramTagger(train_set)\n",
    "accuracy_bigram_tagger = bigram_tagger.evaluate(test_set)\n",
    "print(\"The accuracy of the Bigram Tagger is -\", accuracy_bigram_tagger)"
   ]
  },
  {
   "cell_type": "markdown",
   "metadata": {},
   "source": [
    "#### Unigram's accuracy is better, so we will go with Unigram from Lexicon based."
   ]
  },
  {
   "cell_type": "code",
   "execution_count": 46,
   "metadata": {},
   "outputs": [],
   "source": [
    "# specify patterns for tagging\n",
    "patterns = [    \n",
    "    (r'.*ing$', 'VERB'),              # verb\n",
    "    (r'^([A-Z]+)$','NOUN'),            # All capital letters NOUN \n",
    "    (r'.*ed$', 'VERB'),               # past tense \n",
    "    (r'.*es$', 'VERB'),               # verb   \n",
    "    (r'.*ous$', 'ADJ'),               # adjective\n",
    "    (r'^-?[0-9]+(.[0-9]+)?$', 'NUM'), # cardinal numbers\n",
    "    (r'.*', 'NOUN')                   # nouns\n",
    "]\n",
    " \n",
    "# rule based tagger\n",
    "rule_based_tagger = nltk.RegexpTagger(patterns)"
   ]
  },
  {
   "cell_type": "markdown",
   "metadata": {},
   "source": [
    "#### Modified Viterbi to include Lexicon and Rule based tagger in it"
   ]
  },
  {
   "cell_type": "code",
   "execution_count": 47,
   "metadata": {},
   "outputs": [],
   "source": [
    "# building the train vocabulary to a set\n",
    "training_vocabulary_set = set(tokens)"
   ]
  },
  {
   "cell_type": "code",
   "execution_count": 48,
   "metadata": {},
   "outputs": [],
   "source": [
    "# A unigram tagger backed off by a rule based tagger.\n",
    "\n",
    "def unigram_tagger(word, train_set = train_set):    \n",
    "    \n",
    "    # trigram backed up by the regex tagger\n",
    "    unigram_regex_tagger = nltk.UnigramTagger(train_set, backoff = rule_based_tagger)\n",
    "    return unigram_regex_tagger.tag_sents([[(word)]])"
   ]
  },
  {
   "cell_type": "code",
   "execution_count": 49,
   "metadata": {},
   "outputs": [],
   "source": [
    "# viterbi with handling for unknown words from regex tagger\n",
    "\n",
    "def Viterbi_Unigram_Tagger(words, train_bag = train_tagged_words):\n",
    "    state = []\n",
    "    T = list(set([pair[1] for pair in train_bag]))\n",
    "    \n",
    "    for key, word in enumerate(words):        \n",
    "        if word not in training_vocabulary_set:\n",
    "            # for unknown words use unigram tagger backed by rule based\n",
    "            unk_word_tag=unigram_tagger(word)\n",
    "            for sent in unk_word_tag:\n",
    "                for tup in sent:\n",
    "                    state.append(tup[1])\n",
    "        # rest remains same            \n",
    "        else:            \n",
    "            p = [] \n",
    "            for tag in T:\n",
    "                if key == 0:\n",
    "                    transition_p = tags_df.loc['.', tag]\n",
    "                else:\n",
    "                    transition_p = tags_df.loc[state[-1], tag]\n",
    "                \n",
    "            # compute emission and state probabilities\n",
    "                emission_p = word_given_tag(words[key], tag)[0]/word_given_tag(words[key], tag)[1]\n",
    "                state_probability = emission_p * transition_p    \n",
    "                p.append(state_probability)\n",
    "            \n",
    "            pmax = max(p)\n",
    "            # getting state for which probability is maximum\n",
    "            state_max = T[p.index(pmax)] \n",
    "            state.append(state_max)\n",
    "            \n",
    "    return list(zip(words, state))"
   ]
  },
  {
   "cell_type": "code",
   "execution_count": 50,
   "metadata": {},
   "outputs": [
    {
     "name": "stdout",
     "output_type": "stream",
     "text": [
      "Lexicon Rule based tagger\n",
      "Test untagged words  ['Mr.', 'Thomas', ',', 'currently', 'chairman', 'of', 'the', 'Equal', 'Employment', 'Opportunity']\n",
      "\n",
      "Length untagged words  445\n",
      "\n",
      "Tagged Sequence:  [('Mr.', 'NOUN'), ('Thomas', 'NOUN'), (',', '.'), ('currently', 'ADV'), ('chairman', 'NOUN'), ('of', 'ADP'), ('the', 'DET'), ('Equal', 'NOUN'), ('Employment', 'NOUN'), ('Opportunity', 'NOUN'), ('Commission', 'NOUN'), (',', '.'), ('would', 'VERB'), ('add', 'VERB'), ('another', 'DET'), ('conservative', 'ADJ'), ('voice', 'NOUN'), ('to', 'PRT'), ('the', 'DET'), ('closely', 'ADV')]\n",
      "\n",
      " Length of tagged sequence:  445\n",
      "\n",
      "Time taken by modified rule based Viterbi tagger in seconds:  109.23900818824768\n",
      "\n",
      "Length of check array:  413\n"
     ]
    }
   ],
   "source": [
    "print('Lexicon Rule based tagger')\n",
    "print('Test untagged words ',test_tagged_words[:10])\n",
    "print('\\nLength untagged words ',len(test_tagged_words))\n",
    "\n",
    "start = time.time()\n",
    "tagged_seq = Viterbi_Unigram_Tagger(test_tagged_words)\n",
    "end = time.time()\n",
    "\n",
    "print('\\nTagged Sequence: ',tagged_seq[:20])\n",
    "print('\\nLength of tagged sequence: ',len(tagged_seq))\n",
    "\n",
    "difference = end-start\n",
    " \n",
    "print(\"\\nTime taken by modified rule based Viterbi tagger in seconds: \", difference)\n",
    " \n",
    "check = [i for i, j in zip(tagged_seq, test_run_base) if i == j] \n",
    "print('\\nLength of check array: ',len(check))"
   ]
  },
  {
   "cell_type": "code",
   "execution_count": 51,
   "metadata": {},
   "outputs": [
    {
     "name": "stdout",
     "output_type": "stream",
     "text": [
      "\n",
      "Modification Technique 2 - Lexicon backed by Rule based - Viterbi Algorithm Accuracy:  92.80898876404494\n"
     ]
    }
   ],
   "source": [
    "# accuracy\n",
    "accuracy_lexicon_rule_based = len(check)/len(tagged_seq)\n",
    "\n",
    "print('\\nModification Technique 2 - Lexicon backed by Rule based - Viterbi Algorithm Accuracy: ',accuracy_lexicon_rule_based*100)"
   ]
  },
  {
   "cell_type": "markdown",
   "metadata": {},
   "source": [
    "#### Accuracy has improved from 92 to 93% as shown above"
   ]
  },
  {
   "cell_type": "code",
   "execution_count": 52,
   "metadata": {},
   "outputs": [],
   "source": [
    "incorrect_tagged_cases = [j for i, j in enumerate(zip(tagged_seq, test_run_base)) if j[0]!=j[1]]"
   ]
  },
  {
   "cell_type": "code",
   "execution_count": 53,
   "metadata": {},
   "outputs": [
    {
     "data": {
      "text/plain": [
       "[(('gilt', 'NOUN'), ('gilt', 'ADJ')),\n",
       " (('more', 'ADV'), ('more', 'ADJ')),\n",
       " (('much', 'ADV'), ('much', 'ADJ')),\n",
       " (('estimates', 'NOUN'), ('estimates', 'VERB')),\n",
       " (('total', 'VERB'), ('total', 'NOUN')),\n",
       " (('return', 'VERB'), ('return', 'NOUN')),\n",
       " (('vs.', 'CONJ'), ('vs.', 'ADP')),\n",
       " (('%', 'NOUN'), ('%', 'ADJ')),\n",
       " (('over', 'ADP'), ('over', 'ADV')),\n",
       " (('*T*-116', 'NOUN'), ('*T*-116', 'X')),\n",
       " (('Could', 'NOUN'), ('Could', 'VERB')),\n",
       " (('program-trading', 'ADJ'), ('program-trading', 'NOUN')),\n",
       " (('minor', 'NOUN'), ('minor', 'ADJ')),\n",
       " (('*T*-194', 'NOUN'), ('*T*-194', 'X')),\n",
       " (('generate', 'NOUN'), ('generate', 'VERB')),\n",
       " (('move', 'VERB'), ('move', 'NOUN')),\n",
       " (('*-76', 'NOUN'), ('*-76', 'X')),\n",
       " (('comedies', 'VERB'), ('comedies', 'NOUN')),\n",
       " (('that', 'ADP'), ('that', 'DET')),\n",
       " (('*T*-152', 'NOUN'), ('*T*-152', 'X')),\n",
       " (('trivial', 'NOUN'), ('trivial', 'ADJ')),\n",
       " (('move', 'VERB'), ('move', 'NOUN')),\n",
       " (('*-76', 'NOUN'), ('*-76', 'X')),\n",
       " (('comedies', 'VERB'), ('comedies', 'NOUN')),\n",
       " (('that', 'ADP'), ('that', 'DET')),\n",
       " (('*T*-152', 'NOUN'), ('*T*-152', 'X')),\n",
       " (('Whether', 'NOUN'), ('Whether', 'ADP')),\n",
       " (('financing', 'NOUN'), ('financing', 'VERB')),\n",
       " (('run', 'VERB'), ('run', 'NOUN')),\n",
       " (('computer-services', 'VERB'), ('computer-services', 'NOUN')),\n",
       " (('*-76', 'NOUN'), ('*-76', 'X')),\n",
       " (('out', 'PRT'), ('out', 'ADP'))]"
      ]
     },
     "execution_count": 53,
     "metadata": {},
     "output_type": "execute_result"
    }
   ],
   "source": [
    "incorrect_tagged_cases"
   ]
  },
  {
   "cell_type": "code",
   "execution_count": 54,
   "metadata": {},
   "outputs": [
    {
     "name": "stdout",
     "output_type": "stream",
     "text": [
      "Total Incorrect Tagged Words : 32\n"
     ]
    }
   ],
   "source": [
    "print(\"Total Incorrect Tagged Words :\", len(incorrect_tagged_cases))"
   ]
  },
  {
   "cell_type": "markdown",
   "metadata": {},
   "source": [
    "#### No of incorrectly tagged words have reduced from 35 to 32"
   ]
  },
  {
   "cell_type": "markdown",
   "metadata": {},
   "source": [
    "### Evaluating tagging on sample 'Test_sentences.txt' file"
   ]
  },
  {
   "cell_type": "markdown",
   "metadata": {},
   "source": [
    "### Test accuracy on validation data"
   ]
  },
  {
   "cell_type": "code",
   "execution_count": 55,
   "metadata": {},
   "outputs": [
    {
     "name": "stdout",
     "output_type": "stream",
     "text": [
      "File read.\n",
      "\n",
      "Length of text file:  993\n"
     ]
    }
   ],
   "source": [
    "f = open('Test_sentences.txt')\n",
    "text = f.read()\n",
    "f.close()\n",
    "print('File read.')\n",
    "print('\\nLength of text file: ',len(text))"
   ]
  },
  {
   "cell_type": "code",
   "execution_count": 56,
   "metadata": {},
   "outputs": [
    {
     "name": "stdout",
     "output_type": "stream",
     "text": [
      "sample_test_sent:  ['Android is a mobile operating system developed by Google.', 'Android has been the best-selling OS worldwide on smartphones since 2011 and on tablets since 2013.', \"Google and Twitter made a deal in 2015 that gave Google access to Twitter's firehose.\", 'Twitter is an online news and social networking service on which users post and interact with messages known as tweets.', 'Before entering politics, Donald Trump was a domineering businessman and a television personality.', 'The 2018 FIFA World Cup is the 21st FIFA World Cup, an international football tournament contested once every four years.', 'This is the first World Cup to be held in Eastern Europe and the 11th time that it has been held in Europe.', 'Show me the cheapest round trips from Dallas to Atlanta', 'I would like to see flights from Denver to Philadelphia.', 'Show me the price of the flights leaving Atlanta at about 3 in the afternoon and arriving in San Francisco.', 'NASA invited social media users to experience the launch of ICESAT-2 Satellite.']\n",
      "\n",
      "Length of sample_test_sent:  11\n"
     ]
    }
   ],
   "source": [
    "sample_test_sent = text.splitlines()\n",
    "print('sample_test_sent: ', sample_test_sent)\n",
    "print('\\nLength of sample_test_sent: ',len(sample_test_sent))"
   ]
  },
  {
   "cell_type": "code",
   "execution_count": 63,
   "metadata": {},
   "outputs": [
    {
     "name": "stdout",
     "output_type": "stream",
     "text": [
      "sample_test_words:  ['Android', 'is', 'a', 'mobile', 'operating', 'system', 'developed', 'by', 'Google.', 'Android']\n",
      "\n",
      "Length of sample_test_words:  168\n"
     ]
    }
   ],
   "source": [
    "# list of untagged words\n",
    "sample_test_words = [word for sent in sample_test_sent for word in sent.split()]\n",
    "print('sample_test_words: ', sample_test_words[:10])\n",
    "print('\\nLength of sample_test_words: ',len(sample_test_words))"
   ]
  },
  {
   "cell_type": "markdown",
   "metadata": {},
   "source": [
    "### Test sample test data - 'Test_sentences.txt' with Viterbi"
   ]
  },
  {
   "cell_type": "code",
   "execution_count": 64,
   "metadata": {},
   "outputs": [
    {
     "name": "stdout",
     "output_type": "stream",
     "text": [
      "Time taken in seconds:  30.173151969909668\n",
      "\n",
      "Tagged Sequence:  [('Android', 'PRON'), ('is', 'VERB'), ('a', 'DET'), ('mobile', 'ADJ'), ('operating', 'NOUN'), ('system', 'NOUN'), ('developed', 'VERB'), ('by', 'ADP'), ('Google.', 'PRON'), ('Android', 'PRON'), ('has', 'VERB'), ('been', 'VERB'), ('the', 'DET'), ('best-selling', 'ADJ'), ('OS', 'PRON'), ('worldwide', 'PRON'), ('on', 'ADP'), ('smartphones', 'PRON'), ('since', 'ADP'), ('2011', 'PRON'), ('and', 'CONJ'), ('on', 'ADP'), ('tablets', 'NOUN'), ('since', 'ADP'), ('2013.', 'PRON'), ('Google', 'PRON'), ('and', 'CONJ'), ('Twitter', 'PRON'), ('made', 'VERB'), ('a', 'DET'), ('deal', 'NOUN'), ('in', 'ADP'), ('2015', 'PRON'), ('that', 'ADP'), ('gave', 'VERB'), ('Google', 'PRON'), ('access', 'NOUN'), ('to', 'PRT'), (\"Twitter's\", 'PRON'), ('firehose.', 'PRON'), ('Twitter', 'PRON'), ('is', 'VERB'), ('an', 'DET'), ('online', 'PRON'), ('news', 'NOUN'), ('and', 'CONJ'), ('social', 'ADJ'), ('networking', 'NOUN'), ('service', 'NOUN'), ('on', 'ADP'), ('which', 'DET'), ('users', 'NOUN'), ('post', 'NOUN'), ('and', 'CONJ'), ('interact', 'PRON'), ('with', 'ADP'), ('messages', 'PRON'), ('known', 'VERB'), ('as', 'ADP'), ('tweets.', 'PRON'), ('Before', 'ADP'), ('entering', 'VERB'), ('politics,', 'PRON'), ('Donald', 'NOUN'), ('Trump', 'NOUN'), ('was', 'VERB'), ('a', 'DET'), ('domineering', 'PRON'), ('businessman', 'NOUN'), ('and', 'CONJ'), ('a', 'DET'), ('television', 'NOUN'), ('personality.', 'PRON'), ('The', 'DET'), ('2018', 'PRON'), ('FIFA', 'PRON'), ('World', 'NOUN'), ('Cup', 'PRON'), ('is', 'VERB'), ('the', 'DET'), ('21st', 'PRON'), ('FIFA', 'PRON'), ('World', 'NOUN'), ('Cup,', 'PRON'), ('an', 'DET'), ('international', 'ADJ'), ('football', 'NOUN'), ('tournament', 'PRON'), ('contested', 'PRON'), ('once', 'ADV'), ('every', 'DET'), ('four', 'NUM'), ('years.', 'PRON'), ('This', 'DET'), ('is', 'VERB'), ('the', 'DET'), ('first', 'ADJ'), ('World', 'NOUN'), ('Cup', 'PRON'), ('to', 'PRT'), ('be', 'VERB'), ('held', 'VERB'), ('in', 'ADP'), ('Eastern', 'NOUN'), ('Europe', 'NOUN'), ('and', 'CONJ'), ('the', 'DET'), ('11th', 'ADJ'), ('time', 'NOUN'), ('that', 'ADP'), ('it', 'PRON'), ('has', 'VERB'), ('been', 'VERB'), ('held', 'VERB'), ('in', 'ADP'), ('Europe.', 'PRON'), ('Show', 'NOUN'), ('me', 'PRON'), ('the', 'DET'), ('cheapest', 'ADJ'), ('round', 'NOUN'), ('trips', 'PRON'), ('from', 'ADP'), ('Dallas', 'NOUN'), ('to', 'PRT'), ('Atlanta', 'NOUN'), ('I', 'PRON'), ('would', 'VERB'), ('like', 'ADP'), ('to', 'PRT'), ('see', 'VERB'), ('flights', 'NOUN'), ('from', 'ADP'), ('Denver', 'NOUN'), ('to', 'PRT'), ('Philadelphia.', 'PRON'), ('Show', 'NOUN'), ('me', 'PRON'), ('the', 'DET'), ('price', 'NOUN'), ('of', 'ADP'), ('the', 'DET'), ('flights', 'NOUN'), ('leaving', 'VERB'), ('Atlanta', 'NOUN'), ('at', 'ADP'), ('about', 'ADP'), ('3', 'NUM'), ('in', 'ADP'), ('the', 'DET'), ('afternoon', 'NOUN'), ('and', 'CONJ'), ('arriving', 'PRON'), ('in', 'ADP'), ('San', 'NOUN'), ('Francisco.', 'PRON'), ('NASA', 'PRON'), ('invited', 'PRON'), ('social', 'ADJ'), ('media', 'NOUN'), ('users', 'NOUN'), ('to', 'PRT'), ('experience', 'NOUN'), ('the', 'DET'), ('launch', 'NOUN'), ('of', 'ADP'), ('ICESAT-2', 'PRON'), ('Satellite.', 'PRON')]\n",
      "\n",
      " Length of tagged sequence:  168\n"
     ]
    }
   ],
   "source": [
    "# tagging the test sentences\n",
    "start = time.time()\n",
    "sample_tagged_seq = Viterbi(sample_test_words)\n",
    "end = time.time()\n",
    "difference = end-start\n",
    "\n",
    "print(\"Time taken in seconds: \", difference)\n",
    "print('\\nTagged Sequence: ',sample_tagged_seq)\n",
    "print('\\n Length of tagged sequence: ',len(sample_tagged_seq))"
   ]
  },
  {
   "cell_type": "markdown",
   "metadata": {},
   "source": [
    "### Technique1 - Test sample test data - 'Test_sentences.txt' with modified Viterbi"
   ]
  },
  {
   "cell_type": "code",
   "execution_count": 65,
   "metadata": {},
   "outputs": [
    {
     "name": "stdout",
     "output_type": "stream",
     "text": [
      "Time taken in seconds:  30.056278944015503\n",
      "\n",
      "Tagged Sequence:  [('Android', 'NOUN'), ('is', 'VERB'), ('a', 'DET'), ('mobile', 'ADJ'), ('operating', 'NOUN'), ('system', 'NOUN'), ('developed', 'VERB'), ('by', 'ADP'), ('Google.', 'NOUN'), ('Android', 'NOUN'), ('has', 'VERB'), ('been', 'VERB'), ('the', 'DET'), ('best-selling', 'ADJ'), ('OS', 'NOUN'), ('worldwide', 'NOUN'), ('on', 'ADP'), ('smartphones', 'NOUN'), ('since', 'ADP'), ('2011', 'NOUN'), ('and', 'CONJ'), ('on', 'ADP'), ('tablets', 'NOUN'), ('since', 'ADP'), ('2013.', 'NOUN'), ('Google', 'NOUN'), ('and', 'CONJ'), ('Twitter', 'NOUN'), ('made', 'VERB'), ('a', 'DET'), ('deal', 'NOUN'), ('in', 'ADP'), ('2015', 'NOUN'), ('that', 'ADP'), ('gave', 'VERB'), ('Google', 'NOUN'), ('access', 'NOUN'), ('to', 'PRT'), (\"Twitter's\", 'NOUN'), ('firehose.', 'NOUN'), ('Twitter', 'NOUN'), ('is', 'VERB'), ('an', 'DET'), ('online', 'NOUN'), ('news', 'NOUN'), ('and', 'CONJ'), ('social', 'ADJ'), ('networking', 'NOUN'), ('service', 'NOUN'), ('on', 'ADP'), ('which', 'DET'), ('users', 'NOUN'), ('post', 'NOUN'), ('and', 'CONJ'), ('interact', 'NOUN'), ('with', 'ADP'), ('messages', 'NOUN'), ('known', 'VERB'), ('as', 'ADP'), ('tweets.', 'NOUN'), ('Before', 'ADP'), ('entering', 'VERB'), ('politics,', 'NOUN'), ('Donald', 'NOUN'), ('Trump', 'NOUN'), ('was', 'VERB'), ('a', 'DET'), ('domineering', 'NOUN'), ('businessman', 'NOUN'), ('and', 'CONJ'), ('a', 'DET'), ('television', 'NOUN'), ('personality.', 'NOUN'), ('The', 'DET'), ('2018', 'NOUN'), ('FIFA', 'NOUN'), ('World', 'NOUN'), ('Cup', 'NOUN'), ('is', 'VERB'), ('the', 'DET'), ('21st', 'NOUN'), ('FIFA', 'NOUN'), ('World', 'NOUN'), ('Cup,', 'NOUN'), ('an', 'DET'), ('international', 'ADJ'), ('football', 'NOUN'), ('tournament', 'NOUN'), ('contested', 'NOUN'), ('once', 'ADV'), ('every', 'DET'), ('four', 'NUM'), ('years.', 'NOUN'), ('This', 'DET'), ('is', 'VERB'), ('the', 'DET'), ('first', 'ADJ'), ('World', 'NOUN'), ('Cup', 'NOUN'), ('to', 'PRT'), ('be', 'VERB'), ('held', 'VERB'), ('in', 'ADP'), ('Eastern', 'NOUN'), ('Europe', 'NOUN'), ('and', 'CONJ'), ('the', 'DET'), ('11th', 'ADJ'), ('time', 'NOUN'), ('that', 'ADP'), ('it', 'PRON'), ('has', 'VERB'), ('been', 'VERB'), ('held', 'VERB'), ('in', 'ADP'), ('Europe.', 'NOUN'), ('Show', 'NOUN'), ('me', 'PRON'), ('the', 'DET'), ('cheapest', 'ADJ'), ('round', 'NOUN'), ('trips', 'NOUN'), ('from', 'ADP'), ('Dallas', 'NOUN'), ('to', 'PRT'), ('Atlanta', 'NOUN'), ('I', 'PRON'), ('would', 'VERB'), ('like', 'ADP'), ('to', 'PRT'), ('see', 'VERB'), ('flights', 'NOUN'), ('from', 'ADP'), ('Denver', 'NOUN'), ('to', 'PRT'), ('Philadelphia.', 'NOUN'), ('Show', 'NOUN'), ('me', 'PRON'), ('the', 'DET'), ('price', 'NOUN'), ('of', 'ADP'), ('the', 'DET'), ('flights', 'NOUN'), ('leaving', 'VERB'), ('Atlanta', 'NOUN'), ('at', 'ADP'), ('about', 'ADP'), ('3', 'NUM'), ('in', 'ADP'), ('the', 'DET'), ('afternoon', 'NOUN'), ('and', 'CONJ'), ('arriving', 'NOUN'), ('in', 'ADP'), ('San', 'NOUN'), ('Francisco.', 'NOUN'), ('NASA', 'NOUN'), ('invited', 'NOUN'), ('social', 'ADJ'), ('media', 'NOUN'), ('users', 'NOUN'), ('to', 'PRT'), ('experience', 'NOUN'), ('the', 'DET'), ('launch', 'NOUN'), ('of', 'ADP'), ('ICESAT-2', 'NOUN'), ('Satellite.', 'NOUN')]\n",
      "\n",
      " Length of tagged sequence:  168\n"
     ]
    }
   ],
   "source": [
    "# tagging the test sentences\n",
    "start = time.time()\n",
    "sample_tagged_seq = Viterbi_Max_Prob(sample_test_words)\n",
    "end = time.time()\n",
    "difference = end-start\n",
    "\n",
    "print(\"Time taken in seconds: \", difference)\n",
    "print('\\nTagged Sequence: ',sample_tagged_seq)\n",
    "print('\\n Length of tagged sequence: ',len(sample_tagged_seq))"
   ]
  },
  {
   "cell_type": "markdown",
   "metadata": {},
   "source": [
    "### Technique2 - Test sample test data - 'Test_sentences.txt' with modified Viterbi"
   ]
  },
  {
   "cell_type": "code",
   "execution_count": 66,
   "metadata": {},
   "outputs": [
    {
     "name": "stdout",
     "output_type": "stream",
     "text": [
      "Time taken in seconds:  61.841222047805786\n",
      "\n",
      "Tagged Sequence:  [('Android', 'NOUN'), ('is', 'VERB'), ('a', 'DET'), ('mobile', 'ADJ'), ('operating', 'NOUN'), ('system', 'NOUN'), ('developed', 'VERB'), ('by', 'ADP'), ('Google.', 'NOUN'), ('Android', 'NOUN'), ('has', 'VERB'), ('been', 'VERB'), ('the', 'DET'), ('best-selling', 'ADJ'), ('OS', 'NOUN'), ('worldwide', 'NOUN'), ('on', 'ADP'), ('smartphones', 'VERB'), ('since', 'ADP'), ('2011', 'NUM'), ('and', 'CONJ'), ('on', 'ADP'), ('tablets', 'NOUN'), ('since', 'ADP'), ('2013.', 'NOUN'), ('Google', 'NOUN'), ('and', 'CONJ'), ('Twitter', 'NOUN'), ('made', 'VERB'), ('a', 'DET'), ('deal', 'NOUN'), ('in', 'ADP'), ('2015', 'NUM'), ('that', 'ADP'), ('gave', 'VERB'), ('Google', 'NOUN'), ('access', 'NOUN'), ('to', 'PRT'), (\"Twitter's\", 'NOUN'), ('firehose.', 'NOUN'), ('Twitter', 'NOUN'), ('is', 'VERB'), ('an', 'DET'), ('online', 'NOUN'), ('news', 'NOUN'), ('and', 'CONJ'), ('social', 'ADJ'), ('networking', 'NOUN'), ('service', 'NOUN'), ('on', 'ADP'), ('which', 'DET'), ('users', 'NOUN'), ('post', 'NOUN'), ('and', 'CONJ'), ('interact', 'NOUN'), ('with', 'ADP'), ('messages', 'VERB'), ('known', 'VERB'), ('as', 'ADP'), ('tweets.', 'NOUN'), ('Before', 'ADP'), ('entering', 'VERB'), ('politics,', 'NOUN'), ('Donald', 'NOUN'), ('Trump', 'NOUN'), ('was', 'VERB'), ('a', 'DET'), ('domineering', 'VERB'), ('businessman', 'NOUN'), ('and', 'CONJ'), ('a', 'DET'), ('television', 'NOUN'), ('personality.', 'NOUN'), ('The', 'DET'), ('2018', 'NUM'), ('FIFA', 'NOUN'), ('World', 'NOUN'), ('Cup', 'NOUN'), ('is', 'VERB'), ('the', 'DET'), ('21st', 'NOUN'), ('FIFA', 'NOUN'), ('World', 'NOUN'), ('Cup,', 'NOUN'), ('an', 'DET'), ('international', 'ADJ'), ('football', 'NOUN'), ('tournament', 'NOUN'), ('contested', 'VERB'), ('once', 'ADV'), ('every', 'DET'), ('four', 'NUM'), ('years.', 'NOUN'), ('This', 'DET'), ('is', 'VERB'), ('the', 'DET'), ('first', 'ADJ'), ('World', 'NOUN'), ('Cup', 'NOUN'), ('to', 'PRT'), ('be', 'VERB'), ('held', 'VERB'), ('in', 'ADP'), ('Eastern', 'NOUN'), ('Europe', 'NOUN'), ('and', 'CONJ'), ('the', 'DET'), ('11th', 'ADJ'), ('time', 'NOUN'), ('that', 'ADP'), ('it', 'PRON'), ('has', 'VERB'), ('been', 'VERB'), ('held', 'VERB'), ('in', 'ADP'), ('Europe.', 'NOUN'), ('Show', 'NOUN'), ('me', 'PRON'), ('the', 'DET'), ('cheapest', 'ADJ'), ('round', 'NOUN'), ('trips', 'NOUN'), ('from', 'ADP'), ('Dallas', 'NOUN'), ('to', 'PRT'), ('Atlanta', 'NOUN'), ('I', 'PRON'), ('would', 'VERB'), ('like', 'ADP'), ('to', 'PRT'), ('see', 'VERB'), ('flights', 'NOUN'), ('from', 'ADP'), ('Denver', 'NOUN'), ('to', 'PRT'), ('Philadelphia.', 'NOUN'), ('Show', 'NOUN'), ('me', 'PRON'), ('the', 'DET'), ('price', 'NOUN'), ('of', 'ADP'), ('the', 'DET'), ('flights', 'NOUN'), ('leaving', 'VERB'), ('Atlanta', 'NOUN'), ('at', 'ADP'), ('about', 'ADP'), ('3', 'NUM'), ('in', 'ADP'), ('the', 'DET'), ('afternoon', 'NOUN'), ('and', 'CONJ'), ('arriving', 'VERB'), ('in', 'ADP'), ('San', 'NOUN'), ('Francisco.', 'NOUN'), ('NASA', 'NOUN'), ('invited', 'VERB'), ('social', 'ADJ'), ('media', 'NOUN'), ('users', 'NOUN'), ('to', 'PRT'), ('experience', 'NOUN'), ('the', 'DET'), ('launch', 'NOUN'), ('of', 'ADP'), ('ICESAT-2', 'NOUN'), ('Satellite.', 'NOUN')]\n",
      "\n",
      " Length of tagged sequence:  168\n"
     ]
    }
   ],
   "source": [
    "# tagging the test sentences\n",
    "start = time.time()\n",
    "sample_tagged_seq = Viterbi_Unigram_Tagger(sample_test_words)\n",
    "end = time.time()\n",
    "difference = end-start\n",
    "\n",
    "print(\"Time taken in seconds: \", difference)\n",
    "print('\\nTagged Sequence: ',sample_tagged_seq)\n",
    "print('\\n Length of tagged sequence: ',len(sample_tagged_seq))"
   ]
  },
  {
   "cell_type": "markdown",
   "metadata": {},
   "source": [
    "#### Compare the tagging accuracies of the modifications with the vanilla Viterbi algorithm\n",
    "The accuracy of *vanilla Viterbi* Algorithm: **88%**\n",
    "\n",
    "The accuracy of *Technique-I modified Viterbi using max probability* Algorithm: **92%**\n",
    "\n",
    "The accuracy of *Technique-II modified Viterbi using Lexicon and Rule based* Algorithm: **93%**\n",
    "\n",
    "\n",
    "The following cases were incorrectly tagged which got corrected by modified Viterbi Algorithm:\n",
    "\n",
    "('Android', 'NOUN')\n",
    "\n",
    "('operating', 'NOUN')\n",
    "\n",
    "('2011', 'NUM')\n",
    "\n",
    "('ICESAT-2', 'NOUN') \n",
    "\n",
    "('Satellite.', 'NOUN')"
   ]
  },
  {
   "cell_type": "code",
   "execution_count": null,
   "metadata": {},
   "outputs": [],
   "source": []
  }
 ],
 "metadata": {
  "kernelspec": {
   "display_name": "Python 3",
   "language": "python",
   "name": "python3"
  },
  "language_info": {
   "codemirror_mode": {
    "name": "ipython",
    "version": 3
   },
   "file_extension": ".py",
   "mimetype": "text/x-python",
   "name": "python",
   "nbconvert_exporter": "python",
   "pygments_lexer": "ipython3",
   "version": "3.8.5"
  }
 },
 "nbformat": 4,
 "nbformat_minor": 2
}
