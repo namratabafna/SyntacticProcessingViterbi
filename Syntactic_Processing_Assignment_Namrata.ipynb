{
 "cells": [
  {
   "cell_type": "markdown",
   "metadata": {},
   "source": [
    "## POS Tagging, HMMs, Viterbi\n",
    "\n",
    "Let's learn how to do POS tagging by Viterbi Heuristic using tagged Treebank corpus. Before going through the code, let's first understand the pseudo-code for the same. \n",
    "\n",
    "1. Tagged Treebank corpus is available (Sample data to training and test data set)\n",
    "   - Basic text and structure exploration\n",
    "2. Creating HMM model on the tagged data set.\n",
    "   - Calculating Emission Probabaility: P(observation|state)\n",
    "   - Calculating Transition Probability: P(state2|state1)\n",
    "3. Developing algorithm for Viterbi Heuristic\n",
    "4. Checking accuracy on the test data set\n",
    "\n",
    "\n",
    "## 1. Exploring Treebank Tagged Corpus"
   ]
  },
  {
   "cell_type": "code",
   "execution_count": 1,
   "metadata": {},
   "outputs": [
    {
     "name": "stderr",
     "output_type": "stream",
     "text": [
      "C:\\Users\\namra\\anaconda3\\lib\\site-packages\\numpy\\_distributor_init.py:30: UserWarning: loaded more than 1 DLL from .libs:\n",
      "C:\\Users\\namra\\anaconda3\\lib\\site-packages\\numpy\\.libs\\libopenblas.noijjg62emaszi6nyurl6jbkm4evbgm7.gfortran-win_amd64.dll\n",
      "C:\\Users\\namra\\anaconda3\\lib\\site-packages\\numpy\\.libs\\libopenblas.PYQHXLVVQ7VESDPUVUADXEVJOBGHJPAY.gfortran-win_amd64.dll\n",
      "  warnings.warn(\"loaded more than 1 DLL from .libs:\\n%s\" %\n"
     ]
    }
   ],
   "source": [
    "#Importing libraries\n",
    "import nltk, re, pprint\n",
    "import numpy as np\n",
    "import pandas as pd\n",
    "import requests\n",
    "import matplotlib.pyplot as plt\n",
    "import seaborn as sns\n",
    "import pprint, time\n",
    "import random\n",
    "from sklearn.model_selection import train_test_split\n",
    "from nltk.tokenize import word_tokenize"
   ]
  },
  {
   "cell_type": "code",
   "execution_count": 2,
   "metadata": {},
   "outputs": [],
   "source": [
    "# reading the Treebank tagged sentences\n",
    "wsj = list(nltk.corpus.treebank.tagged_sents(tagset='universal'))"
   ]
  },
  {
   "cell_type": "code",
   "execution_count": 3,
   "metadata": {
    "scrolled": true
   },
   "outputs": [
    {
     "name": "stdout",
     "output_type": "stream",
     "text": [
      "[[('Pierre', 'NOUN'), ('Vinken', 'NOUN'), (',', '.'), ('61', 'NUM'), ('years', 'NOUN'), ('old', 'ADJ'), (',', '.'), ('will', 'VERB'), ('join', 'VERB'), ('the', 'DET'), ('board', 'NOUN'), ('as', 'ADP'), ('a', 'DET'), ('nonexecutive', 'ADJ'), ('director', 'NOUN'), ('Nov.', 'NOUN'), ('29', 'NUM'), ('.', '.')], [('Mr.', 'NOUN'), ('Vinken', 'NOUN'), ('is', 'VERB'), ('chairman', 'NOUN'), ('of', 'ADP'), ('Elsevier', 'NOUN'), ('N.V.', 'NOUN'), (',', '.'), ('the', 'DET'), ('Dutch', 'NOUN'), ('publishing', 'VERB'), ('group', 'NOUN'), ('.', '.')], [('Rudolph', 'NOUN'), ('Agnew', 'NOUN'), (',', '.'), ('55', 'NUM'), ('years', 'NOUN'), ('old', 'ADJ'), ('and', 'CONJ'), ('former', 'ADJ'), ('chairman', 'NOUN'), ('of', 'ADP'), ('Consolidated', 'NOUN'), ('Gold', 'NOUN'), ('Fields', 'NOUN'), ('PLC', 'NOUN'), (',', '.'), ('was', 'VERB'), ('named', 'VERB'), ('*-1', 'X'), ('a', 'DET'), ('nonexecutive', 'ADJ'), ('director', 'NOUN'), ('of', 'ADP'), ('this', 'DET'), ('British', 'ADJ'), ('industrial', 'ADJ'), ('conglomerate', 'NOUN'), ('.', '.')], [('A', 'DET'), ('form', 'NOUN'), ('of', 'ADP'), ('asbestos', 'NOUN'), ('once', 'ADV'), ('used', 'VERB'), ('*', 'X'), ('*', 'X'), ('to', 'PRT'), ('make', 'VERB'), ('Kent', 'NOUN'), ('cigarette', 'NOUN'), ('filters', 'NOUN'), ('has', 'VERB'), ('caused', 'VERB'), ('a', 'DET'), ('high', 'ADJ'), ('percentage', 'NOUN'), ('of', 'ADP'), ('cancer', 'NOUN'), ('deaths', 'NOUN'), ('among', 'ADP'), ('a', 'DET'), ('group', 'NOUN'), ('of', 'ADP'), ('workers', 'NOUN'), ('exposed', 'VERB'), ('*', 'X'), ('to', 'PRT'), ('it', 'PRON'), ('more', 'ADV'), ('than', 'ADP'), ('30', 'NUM'), ('years', 'NOUN'), ('ago', 'ADP'), (',', '.'), ('researchers', 'NOUN'), ('reported', 'VERB'), ('0', 'X'), ('*T*-1', 'X'), ('.', '.')], [('The', 'DET'), ('asbestos', 'NOUN'), ('fiber', 'NOUN'), (',', '.'), ('crocidolite', 'NOUN'), (',', '.'), ('is', 'VERB'), ('unusually', 'ADV'), ('resilient', 'ADJ'), ('once', 'ADP'), ('it', 'PRON'), ('enters', 'VERB'), ('the', 'DET'), ('lungs', 'NOUN'), (',', '.'), ('with', 'ADP'), ('even', 'ADV'), ('brief', 'ADJ'), ('exposures', 'NOUN'), ('to', 'PRT'), ('it', 'PRON'), ('causing', 'VERB'), ('symptoms', 'NOUN'), ('that', 'DET'), ('*T*-1', 'X'), ('show', 'VERB'), ('up', 'PRT'), ('decades', 'NOUN'), ('later', 'ADJ'), (',', '.'), ('researchers', 'NOUN'), ('said', 'VERB'), ('0', 'X'), ('*T*-2', 'X'), ('.', '.')], [('Lorillard', 'NOUN'), ('Inc.', 'NOUN'), (',', '.'), ('the', 'DET'), ('unit', 'NOUN'), ('of', 'ADP'), ('New', 'ADJ'), ('York-based', 'ADJ'), ('Loews', 'NOUN'), ('Corp.', 'NOUN'), ('that', 'DET'), ('*T*-2', 'X'), ('makes', 'VERB'), ('Kent', 'NOUN'), ('cigarettes', 'NOUN'), (',', '.'), ('stopped', 'VERB'), ('using', 'VERB'), ('crocidolite', 'NOUN'), ('in', 'ADP'), ('its', 'PRON'), ('Micronite', 'NOUN'), ('cigarette', 'NOUN'), ('filters', 'NOUN'), ('in', 'ADP'), ('1956', 'NUM'), ('.', '.')], [('Although', 'ADP'), ('preliminary', 'ADJ'), ('findings', 'NOUN'), ('were', 'VERB'), ('reported', 'VERB'), ('*-2', 'X'), ('more', 'ADV'), ('than', 'ADP'), ('a', 'DET'), ('year', 'NOUN'), ('ago', 'ADP'), (',', '.'), ('the', 'DET'), ('latest', 'ADJ'), ('results', 'NOUN'), ('appear', 'VERB'), ('in', 'ADP'), ('today', 'NOUN'), (\"'s\", 'PRT'), ('New', 'NOUN'), ('England', 'NOUN'), ('Journal', 'NOUN'), ('of', 'ADP'), ('Medicine', 'NOUN'), (',', '.'), ('a', 'DET'), ('forum', 'NOUN'), ('likely', 'ADJ'), ('*', 'X'), ('to', 'PRT'), ('bring', 'VERB'), ('new', 'ADJ'), ('attention', 'NOUN'), ('to', 'PRT'), ('the', 'DET'), ('problem', 'NOUN'), ('.', '.')], [('A', 'DET'), ('Lorillard', 'NOUN'), ('spokewoman', 'NOUN'), ('said', 'VERB'), (',', '.'), ('``', '.'), ('This', 'DET'), ('is', 'VERB'), ('an', 'DET'), ('old', 'ADJ'), ('story', 'NOUN'), ('.', '.')], [('We', 'PRON'), (\"'re\", 'VERB'), ('talking', 'VERB'), ('about', 'ADP'), ('years', 'NOUN'), ('ago', 'ADP'), ('before', 'ADP'), ('anyone', 'NOUN'), ('heard', 'VERB'), ('of', 'ADP'), ('asbestos', 'NOUN'), ('having', 'VERB'), ('any', 'DET'), ('questionable', 'ADJ'), ('properties', 'NOUN'), ('.', '.')], [('There', 'DET'), ('is', 'VERB'), ('no', 'DET'), ('asbestos', 'NOUN'), ('in', 'ADP'), ('our', 'PRON'), ('products', 'NOUN'), ('now', 'ADV'), ('.', '.'), (\"''\", '.')], [('Neither', 'DET'), ('Lorillard', 'NOUN'), ('nor', 'CONJ'), ('the', 'DET'), ('researchers', 'NOUN'), ('who', 'PRON'), ('*T*-3', 'X'), ('studied', 'VERB'), ('the', 'DET'), ('workers', 'NOUN'), ('were', 'VERB'), ('aware', 'ADJ'), ('of', 'ADP'), ('any', 'DET'), ('research', 'NOUN'), ('on', 'ADP'), ('smokers', 'NOUN'), ('of', 'ADP'), ('the', 'DET'), ('Kent', 'NOUN'), ('cigarettes', 'NOUN'), ('.', '.')], [('``', '.'), ('We', 'PRON'), ('have', 'VERB'), ('no', 'DET'), ('useful', 'ADJ'), ('information', 'NOUN'), ('on', 'ADP'), ('whether', 'ADP'), ('users', 'NOUN'), ('are', 'VERB'), ('at', 'ADP'), ('risk', 'NOUN'), (',', '.'), (\"''\", '.'), ('said', 'VERB'), ('*T*-1', 'X'), ('James', 'NOUN'), ('A.', 'NOUN'), ('Talcott', 'NOUN'), ('of', 'ADP'), ('Boston', 'NOUN'), (\"'s\", 'PRT'), ('Dana-Farber', 'NOUN'), ('Cancer', 'NOUN'), ('Institute', 'NOUN'), ('.', '.')], [('Dr.', 'NOUN'), ('Talcott', 'NOUN'), ('led', 'VERB'), ('a', 'DET'), ('team', 'NOUN'), ('of', 'ADP'), ('researchers', 'NOUN'), ('from', 'ADP'), ('the', 'DET'), ('National', 'NOUN'), ('Cancer', 'NOUN'), ('Institute', 'NOUN'), ('and', 'CONJ'), ('the', 'DET'), ('medical', 'ADJ'), ('schools', 'NOUN'), ('of', 'ADP'), ('Harvard', 'NOUN'), ('University', 'NOUN'), ('and', 'CONJ'), ('Boston', 'NOUN'), ('University', 'NOUN'), ('.', '.')], [('The', 'DET'), ('Lorillard', 'NOUN'), ('spokeswoman', 'NOUN'), ('said', 'VERB'), ('0', 'X'), ('asbestos', 'NOUN'), ('was', 'VERB'), ('used', 'VERB'), ('*-1', 'X'), ('in', 'ADP'), ('``', '.'), ('very', 'ADV'), ('modest', 'ADJ'), ('amounts', 'NOUN'), (\"''\", '.'), ('in', 'ADP'), ('*', 'X'), ('making', 'VERB'), ('paper', 'NOUN'), ('for', 'ADP'), ('the', 'DET'), ('filters', 'NOUN'), ('in', 'ADP'), ('the', 'DET'), ('early', 'ADJ'), ('1950s', 'NUM'), ('and', 'CONJ'), ('replaced', 'VERB'), ('*-1', 'X'), ('with', 'ADP'), ('a', 'DET'), ('different', 'ADJ'), ('type', 'NOUN'), ('of', 'ADP'), ('filter', 'NOUN'), ('in', 'ADP'), ('1956', 'NUM'), ('.', '.')], [('From', 'ADP'), ('1953', 'NUM'), ('to', 'PRT'), ('1955', 'NUM'), (',', '.'), ('9.8', 'NUM'), ('billion', 'NUM'), ('Kent', 'NOUN'), ('cigarettes', 'NOUN'), ('with', 'ADP'), ('the', 'DET'), ('filters', 'NOUN'), ('were', 'VERB'), ('sold', 'VERB'), ('*-3', 'X'), (',', '.'), ('the', 'DET'), ('company', 'NOUN'), ('said', 'VERB'), ('0', 'X'), ('*T*-1', 'X'), ('.', '.')], [('Among', 'ADP'), ('33', 'NUM'), ('men', 'NOUN'), ('who', 'PRON'), ('*T*-4', 'X'), ('worked', 'VERB'), ('closely', 'ADV'), ('with', 'ADP'), ('the', 'DET'), ('substance', 'NOUN'), (',', '.'), ('28', 'NUM'), ('*ICH*-1', 'X'), ('have', 'VERB'), ('died', 'VERB'), ('--', '.'), ('more', 'ADJ'), ('than', 'ADP'), ('three', 'NUM'), ('times', 'NOUN'), ('the', 'DET'), ('expected', 'VERB'), ('number', 'NOUN'), ('.', '.')], [('Four', 'NUM'), ('of', 'ADP'), ('the', 'DET'), ('five', 'NUM'), ('surviving', 'VERB'), ('workers', 'NOUN'), ('have', 'VERB'), ('asbestos-related', 'ADJ'), ('diseases', 'NOUN'), (',', '.'), ('including', 'VERB'), ('three', 'NUM'), ('with', 'ADP'), ('recently', 'ADV'), ('diagnosed', 'VERB'), ('cancer', 'NOUN'), ('.', '.')], [('The', 'DET'), ('total', 'NOUN'), ('of', 'ADP'), ('18', 'NUM'), ('deaths', 'NOUN'), ('from', 'ADP'), ('malignant', 'ADJ'), ('mesothelioma', 'NOUN'), (',', '.'), ('lung', 'NOUN'), ('cancer', 'NOUN'), ('and', 'CONJ'), ('asbestosis', 'NOUN'), ('was', 'VERB'), ('far', 'ADV'), ('higher', 'ADJ'), ('than', 'ADP'), ('*', 'X'), ('expected', 'VERB'), ('*?*', 'X'), (',', '.'), ('the', 'DET'), ('researchers', 'NOUN'), ('said', 'VERB'), ('0', 'X'), ('*T*-1', 'X'), ('.', '.')], [('``', '.'), ('The', 'DET'), ('morbidity', 'NOUN'), ('rate', 'NOUN'), ('is', 'VERB'), ('a', 'DET'), ('striking', 'ADJ'), ('finding', 'NOUN'), ('among', 'ADP'), ('those', 'DET'), ('of', 'ADP'), ('us', 'PRON'), ('who', 'PRON'), ('*T*-5', 'X'), ('study', 'VERB'), ('asbestos-related', 'ADJ'), ('diseases', 'NOUN'), (',', '.'), (\"''\", '.'), ('said', 'VERB'), ('*T*-1', 'X'), ('Dr.', 'NOUN'), ('Talcott', 'NOUN'), ('.', '.')], [('The', 'DET'), ('percentage', 'NOUN'), ('of', 'ADP'), ('lung', 'NOUN'), ('cancer', 'NOUN'), ('deaths', 'NOUN'), ('among', 'ADP'), ('the', 'DET'), ('workers', 'NOUN'), ('at', 'ADP'), ('the', 'DET'), ('West', 'NOUN'), ('Groton', 'NOUN'), (',', '.'), ('Mass.', 'NOUN'), (',', '.'), ('paper', 'NOUN'), ('factory', 'NOUN'), ('appears', 'VERB'), ('*-1', 'X'), ('to', 'PRT'), ('be', 'VERB'), ('the', 'DET'), ('highest', 'ADJ'), ('for', 'ADP'), ('any', 'DET'), ('asbestos', 'NOUN'), ('workers', 'NOUN'), ('studied', 'VERB'), ('*', 'X'), ('in', 'ADP'), ('Western', 'ADJ'), ('industrialized', 'VERB'), ('countries', 'NOUN'), (',', '.'), ('he', 'PRON'), ('said', 'VERB'), ('0', 'X'), ('*T*-2', 'X'), ('.', '.')], [('The', 'DET'), ('plant', 'NOUN'), (',', '.'), ('which', 'DET'), ('*T*-1', 'X'), ('is', 'VERB'), ('owned', 'VERB'), ('*-4', 'X'), ('by', 'ADP'), ('Hollingsworth', 'NOUN'), ('&', 'CONJ'), ('Vose', 'NOUN'), ('Co.', 'NOUN'), (',', '.'), ('was', 'VERB'), ('under', 'ADP'), ('contract', 'NOUN'), ('*ICH*-2', 'X'), ('with', 'ADP'), ('Lorillard', 'NOUN'), ('*', 'X'), ('to', 'PRT'), ('make', 'VERB'), ('the', 'DET'), ('cigarette', 'NOUN'), ('filters', 'NOUN'), ('.', '.')], [('The', 'DET'), ('finding', 'NOUN'), ('probably', 'ADV'), ('will', 'VERB'), ('support', 'VERB'), ('those', 'DET'), ('who', 'PRON'), ('*T*-6', 'X'), ('argue', 'VERB'), ('that', 'ADP'), ('the', 'DET'), ('U.S.', 'NOUN'), ('should', 'VERB'), ('regulate', 'VERB'), ('the', 'DET'), ('class', 'NOUN'), ('of', 'ADP'), ('asbestos', 'NOUN'), ('including', 'VERB'), ('crocidolite', 'NOUN'), ('more', 'ADV'), ('stringently', 'ADV'), ('than', 'ADP'), ('the', 'DET'), ('common', 'ADJ'), ('kind', 'NOUN'), ('of', 'ADP'), ('asbestos', 'NOUN'), (',', '.'), ('chrysotile', 'NOUN'), (',', '.'), ('found', 'VERB'), ('*', 'X'), ('in', 'ADP'), ('most', 'ADJ'), ('schools', 'NOUN'), ('and', 'CONJ'), ('other', 'ADJ'), ('buildings', 'NOUN'), (',', '.'), ('Dr.', 'NOUN'), ('Talcott', 'NOUN'), ('said', 'VERB'), ('0', 'X'), ('*T*-1', 'X'), ('.', '.')], [('The', 'DET'), ('U.S.', 'NOUN'), ('is', 'VERB'), ('one', 'NUM'), ('of', 'ADP'), ('the', 'DET'), ('few', 'ADJ'), ('industrialized', 'VERB'), ('nations', 'NOUN'), ('that', 'DET'), ('*T*-7', 'X'), ('does', 'VERB'), (\"n't\", 'ADV'), ('have', 'VERB'), ('a', 'DET'), ('higher', 'ADJ'), ('standard', 'NOUN'), ('of', 'ADP'), ('regulation', 'NOUN'), ('for', 'ADP'), ('the', 'DET'), ('smooth', 'ADJ'), (',', '.'), ('needle-like', 'ADJ'), ('fibers', 'NOUN'), ('such', 'ADJ'), ('as', 'ADP'), ('crocidolite', 'NOUN'), ('that', 'DET'), ('*T*-1', 'X'), ('are', 'VERB'), ('classified', 'VERB'), ('*-5', 'X'), ('as', 'ADP'), ('amphobiles', 'NOUN'), (',', '.'), ('according', 'VERB'), ('to', 'PRT'), ('Brooke', 'NOUN'), ('T.', 'NOUN'), ('Mossman', 'NOUN'), (',', '.'), ('a', 'DET'), ('professor', 'NOUN'), ('of', 'ADP'), ('pathlogy', 'NOUN'), ('at', 'ADP'), ('the', 'DET'), ('University', 'NOUN'), ('of', 'ADP'), ('Vermont', 'NOUN'), ('College', 'NOUN'), ('of', 'ADP'), ('Medicine', 'NOUN'), ('.', '.')], [('More', 'ADV'), ('common', 'ADJ'), ('chrysotile', 'NOUN'), ('fibers', 'NOUN'), ('are', 'VERB'), ('curly', 'ADJ'), ('and', 'CONJ'), ('are', 'VERB'), ('more', 'ADV'), ('easily', 'ADV'), ('rejected', 'VERB'), ('*-1', 'X'), ('by', 'ADP'), ('the', 'DET'), ('body', 'NOUN'), (',', '.'), ('Dr.', 'NOUN'), ('Mossman', 'NOUN'), ('explained', 'VERB'), ('0', 'X'), ('*T*-2', 'X'), ('.', '.')], [('In', 'ADP'), ('July', 'NOUN'), (',', '.'), ('the', 'DET'), ('Environmental', 'NOUN'), ('Protection', 'NOUN'), ('Agency', 'NOUN'), ('imposed', 'VERB'), ('a', 'DET'), ('gradual', 'ADJ'), ('ban', 'NOUN'), ('on', 'ADP'), ('virtually', 'ADV'), ('all', 'DET'), ('uses', 'NOUN'), ('of', 'ADP'), ('asbestos', 'NOUN'), ('.', '.')], [('By', 'ADP'), ('1997', 'NUM'), (',', '.'), ('almost', 'ADV'), ('all', 'DET'), ('remaining', 'VERB'), ('uses', 'NOUN'), ('of', 'ADP'), ('cancer-causing', 'ADJ'), ('asbestos', 'NOUN'), ('will', 'VERB'), ('be', 'VERB'), ('outlawed', 'VERB'), ('*-6', 'X'), ('.', '.')], [('About', 'ADP'), ('160', 'NUM'), ('workers', 'NOUN'), ('at', 'ADP'), ('a', 'DET'), ('factory', 'NOUN'), ('that', 'DET'), ('*T*-8', 'X'), ('made', 'VERB'), ('paper', 'NOUN'), ('for', 'ADP'), ('the', 'DET'), ('Kent', 'NOUN'), ('filters', 'NOUN'), ('were', 'VERB'), ('exposed', 'VERB'), ('*-7', 'X'), ('to', 'PRT'), ('asbestos', 'NOUN'), ('in', 'ADP'), ('the', 'DET'), ('1950s', 'NUM'), ('.', '.')], [('Areas', 'NOUN'), ('of', 'ADP'), ('the', 'DET'), ('factory', 'NOUN'), ('*ICH*-2', 'X'), ('were', 'VERB'), ('particularly', 'ADV'), ('dusty', 'ADJ'), ('where', 'ADV'), ('the', 'DET'), ('crocidolite', 'NOUN'), ('was', 'VERB'), ('used', 'VERB'), ('*-8', 'X'), ('*T*-1', 'X'), ('.', '.')], [('Workers', 'NOUN'), ('dumped', 'VERB'), ('large', 'ADJ'), ('burlap', 'NOUN'), ('sacks', 'NOUN'), ('of', 'ADP'), ('the', 'DET'), ('imported', 'VERB'), ('material', 'NOUN'), ('into', 'ADP'), ('a', 'DET'), ('huge', 'ADJ'), ('bin', 'NOUN'), (',', '.'), ('poured', 'VERB'), ('in', 'PRT'), ('cotton', 'NOUN'), ('and', 'CONJ'), ('acetate', 'NOUN'), ('fibers', 'NOUN'), ('and', 'CONJ'), ('mechanically', 'ADV'), ('mixed', 'VERB'), ('the', 'DET'), ('dry', 'ADJ'), ('fibers', 'NOUN'), ('in', 'ADP'), ('a', 'DET'), ('process', 'NOUN'), ('used', 'VERB'), ('*', 'X'), ('*', 'X'), ('to', 'PRT'), ('make', 'VERB'), ('filters', 'NOUN'), ('.', '.')], [('Workers', 'NOUN'), ('described', 'VERB'), ('``', '.'), ('clouds', 'NOUN'), ('of', 'ADP'), ('blue', 'ADJ'), ('dust', 'NOUN'), (\"''\", '.'), ('that', 'DET'), ('*T*-1', 'X'), ('hung', 'VERB'), ('over', 'ADP'), ('parts', 'NOUN'), ('of', 'ADP'), ('the', 'DET'), ('factory', 'NOUN'), (',', '.'), ('even', 'ADV'), ('though', 'ADP'), ('exhaust', 'NOUN'), ('fans', 'NOUN'), ('ventilated', 'VERB'), ('the', 'DET'), ('area', 'NOUN'), ('.', '.')], [('``', '.'), ('There', 'DET'), (\"'s\", 'VERB'), ('no', 'DET'), ('question', 'NOUN'), ('that', 'ADP'), ('some', 'DET'), ('of', 'ADP'), ('those', 'DET'), ('workers', 'NOUN'), ('and', 'CONJ'), ('managers', 'NOUN'), ('contracted', 'VERB'), ('asbestos-related', 'ADJ'), ('diseases', 'NOUN'), (',', '.'), (\"''\", '.'), ('said', 'VERB'), ('*T*-1', 'X'), ('Darrell', 'NOUN'), ('Phillips', 'NOUN'), (',', '.'), ('vice', 'NOUN'), ('president', 'NOUN'), ('of', 'ADP'), ('human', 'ADJ'), ('resources', 'NOUN'), ('for', 'ADP'), ('Hollingsworth', 'NOUN'), ('&', 'CONJ'), ('Vose', 'NOUN'), ('.', '.')], [('``', '.'), ('But', 'CONJ'), ('you', 'PRON'), ('have', 'VERB'), ('*-1', 'X'), ('to', 'PRT'), ('recognize', 'VERB'), ('that', 'ADP'), ('these', 'DET'), ('events', 'NOUN'), ('took', 'VERB'), ('place', 'NOUN'), ('35', 'NUM'), ('years', 'NOUN'), ('ago', 'ADP'), ('.', '.')], [('It', 'PRON'), ('has', 'VERB'), ('no', 'DET'), ('bearing', 'NOUN'), ('on', 'ADP'), ('our', 'PRON'), ('work', 'NOUN'), ('force', 'NOUN'), ('today', 'NOUN'), ('.', '.')], [('Yields', 'NOUN'), ('on', 'ADP'), ('money-market', 'ADJ'), ('mutual', 'ADJ'), ('funds', 'NOUN'), ('continued', 'VERB'), ('*-1', 'X'), ('to', 'PRT'), ('slide', 'VERB'), (',', '.'), ('amid', 'ADP'), ('signs', 'NOUN'), ('that', 'ADP'), ('portfolio', 'NOUN'), ('managers', 'NOUN'), ('expect', 'VERB'), ('further', 'ADJ'), ('declines', 'NOUN'), ('in', 'ADP'), ('interest', 'NOUN'), ('rates', 'NOUN'), ('.', '.')], [('The', 'DET'), ('average', 'ADJ'), ('seven-day', 'ADJ'), ('compound', 'NOUN'), ('yield', 'NOUN'), ('of', 'ADP'), ('the', 'DET'), ('400', 'NUM'), ('taxable', 'ADJ'), ('funds', 'NOUN'), ('tracked', 'VERB'), ('*', 'X'), ('by', 'ADP'), ('IBC', 'NOUN'), (\"'s\", 'PRT'), ('Money', 'NOUN'), ('Fund', 'NOUN'), ('Report', 'NOUN'), ('eased', 'VERB'), ('a', 'DET'), ('fraction', 'NOUN'), ('of', 'ADP'), ('a', 'DET'), ('percentage', 'NOUN'), ('point', 'NOUN'), ('to', 'PRT'), ('8.45', 'NUM'), ('%', 'NOUN'), ('from', 'ADP'), ('8.47', 'NUM'), ('%', 'NOUN'), ('for', 'ADP'), ('the', 'DET'), ('week', 'NOUN'), ('ended', 'VERB'), ('Tuesday', 'NOUN'), ('.', '.')], [('Compound', 'NOUN'), ('yields', 'NOUN'), ('assume', 'VERB'), ('reinvestment', 'NOUN'), ('of', 'ADP'), ('dividends', 'NOUN'), ('and', 'CONJ'), ('that', 'ADP'), ('the', 'DET'), ('current', 'ADJ'), ('yield', 'NOUN'), ('continues', 'VERB'), ('for', 'ADP'), ('a', 'DET'), ('year', 'NOUN'), ('.', '.')], [('Average', 'ADJ'), ('maturity', 'NOUN'), ('of', 'ADP'), ('the', 'DET'), ('funds', 'NOUN'), (\"'\", 'PRT'), ('investments', 'NOUN'), ('lengthened', 'VERB'), ('by', 'ADP'), ('a', 'DET'), ('day', 'NOUN'), ('to', 'PRT'), ('41', 'NUM'), ('days', 'NOUN'), (',', '.'), ('the', 'DET'), ('longest', 'ADJ'), ('since', 'ADP'), ('early', 'ADJ'), ('August', 'NOUN'), (',', '.'), ('according', 'VERB'), ('to', 'PRT'), ('Donoghue', 'NOUN'), (\"'s\", 'PRT'), ('.', '.')], [('Longer', 'ADJ'), ('maturities', 'NOUN'), ('are', 'VERB'), ('thought', 'VERB'), ('*-1', 'X'), ('to', 'PRT'), ('indicate', 'VERB'), ('declining', 'VERB'), ('interest', 'NOUN'), ('rates', 'NOUN'), ('because', 'ADP'), ('they', 'PRON'), ('permit', 'VERB'), ('portfolio', 'NOUN'), ('managers', 'NOUN'), ('to', 'PRT'), ('retain', 'VERB'), ('relatively', 'ADV'), ('higher', 'ADJ'), ('rates', 'NOUN'), ('for', 'ADP'), ('a', 'DET'), ('longer', 'ADJ'), ('period', 'NOUN'), ('.', '.')], [('Shorter', 'ADJ'), ('maturities', 'NOUN'), ('are', 'VERB'), ('considered', 'VERB'), ('*-9', 'X'), ('a', 'DET'), ('sign', 'NOUN'), ('of', 'ADP'), ('rising', 'VERB'), ('rates', 'NOUN'), ('because', 'ADP'), ('portfolio', 'NOUN'), ('managers', 'NOUN'), ('can', 'VERB'), ('capture', 'VERB'), ('higher', 'ADJ'), ('rates', 'NOUN'), ('sooner', 'ADV'), ('.', '.')], [('The', 'DET'), ('average', 'ADJ'), ('maturity', 'NOUN'), ('for', 'ADP'), ('funds', 'NOUN'), ('open', 'ADJ'), ('only', 'ADV'), ('to', 'PRT'), ('institutions', 'NOUN'), (',', '.'), ('considered', 'VERB'), ('by', 'ADP'), ('some', 'DET'), ('*', 'X'), ('to', 'PRT'), ('be', 'VERB'), ('a', 'DET'), ('stronger', 'ADJ'), ('indicator', 'NOUN'), ('because', 'ADP'), ('those', 'DET'), ('managers', 'NOUN'), ('watch', 'VERB'), ('the', 'DET'), ('market', 'NOUN'), ('closely', 'ADV'), (',', '.'), ('reached', 'VERB'), ('a', 'DET'), ('high', 'ADJ'), ('point', 'NOUN'), ('for', 'ADP'), ('the', 'DET'), ('year', 'NOUN'), ('--', '.'), ('33', 'NUM'), ('days', 'NOUN'), ('.', '.')]]\n"
     ]
    }
   ],
   "source": [
    "# first few tagged sentences\n",
    "print(wsj[:40])"
   ]
  },
  {
   "cell_type": "code",
   "execution_count": 4,
   "metadata": {},
   "outputs": [
    {
     "name": "stdout",
     "output_type": "stream",
     "text": [
      "Train size:  3718\n",
      "Test size:  196\n",
      "[[('The', 'DET'), ('senior', 'NOUN'), ('of', 'ADP'), ('the', 'DET'), ('three', 'NUM'), ('executives', 'NOUN'), ('who', 'PRON'), ('*T*-1', 'X'), ('will', 'VERB'), ('assume', 'VERB'), ('Mr.', 'NOUN'), ('Reupke', 'NOUN'), (\"'s\", 'PRT'), ('duties', 'NOUN'), ('is', 'VERB'), ('Nigel', 'NOUN'), ('Judah', 'NOUN'), (',', '.'), ('58', 'NUM'), (',', '.'), ('finance', 'NOUN'), ('director', 'NOUN'), ('and', 'CONJ'), ('a', 'DET'), ('Reuters', 'NOUN'), ('board', 'NOUN'), ('director', 'NOUN'), ('.', '.')], [('Reuters', 'NOUN'), ('Holdings', 'NOUN'), ('PLC', 'NOUN'), ('said', 'VERB'), ('0', 'X'), ('Michael', 'NOUN'), ('Reupke', 'NOUN'), ('resigned', 'VERB'), ('as', 'ADP'), ('general', 'ADJ'), ('manager', 'NOUN'), ('*-1', 'X'), ('to', 'PRT'), ('pursue', 'VERB'), ('unspecified', 'ADJ'), ('interests', 'NOUN'), (',', '.'), ('a', 'DET'), ('move', 'NOUN'), ('0', 'X'), ('the', 'DET'), ('news', 'NOUN'), ('organization', 'NOUN'), ('termed', 'VERB'), ('*T*-2', 'X'), ('an', 'DET'), ('``', '.'), ('amicable', 'ADJ'), ('separation', 'NOUN'), ('.', '.'), (\"''\", '.')], [('Shearson', 'NOUN'), ('is', 'VERB'), ('62%-owned', 'ADJ'), ('by', 'ADP'), ('American', 'NOUN'), ('Express', 'NOUN'), ('Co', 'NOUN'), ('.', '.')], [('In', 'ADP'), ('addition', 'NOUN'), (',', '.'), ('it', 'PRON'), ('is', 'VERB'), ('believed', 'VERB'), ('*-1', 'X'), ('to', 'PRT'), ('offer', 'VERB'), ('a', 'DET'), ('cost-sharing', 'ADJ'), ('mechanism', 'NOUN'), ('that', 'DET'), ('*T*-2', 'X'), ('would', 'VERB'), ('help', 'VERB'), ('*-3', 'X'), ('subsidize', 'VERB'), ('the', 'DET'), ('clean-up', 'ADJ'), ('costs', 'NOUN'), ('for', 'ADP'), ('the', 'DET'), ('dirtiest', 'ADJ'), ('coal-fired', 'ADJ'), ('utilities', 'NOUN'), ('in', 'ADP'), ('the', 'DET'), ('country', 'NOUN'), (',', '.'), ('*-3', 'X'), ('sparing', 'VERB'), ('their', 'PRON'), ('customers', 'NOUN'), ('from', 'ADP'), ('exorbitant', 'ADJ'), ('jumps', 'NOUN'), ('in', 'ADP'), ('their', 'PRON'), ('electric', 'ADJ'), ('bills', 'NOUN'), ('.', '.')], [('As', 'ADP'), ('an', 'DET'), ('indicator', 'NOUN'), ('of', 'ADP'), ('the', 'DET'), ('tight', 'ADJ'), ('grain', 'NOUN'), ('supply', 'NOUN'), ('situation', 'NOUN'), ('in', 'ADP'), ('the', 'DET'), ('U.S.', 'NOUN'), (',', '.'), ('market', 'NOUN'), ('analysts', 'NOUN'), ('said', 'VERB'), ('that', 'ADP'), ('late', 'ADJ'), ('Tuesday', 'NOUN'), ('the', 'DET'), ('Chinese', 'ADJ'), ('government', 'NOUN'), (',', '.'), ('which', 'DET'), ('*T*-1', 'X'), ('often', 'ADV'), ('buys', 'VERB'), ('U.S.', 'NOUN'), ('grains', 'NOUN'), ('in', 'ADP'), ('quantity', 'NOUN'), (',', '.'), ('turned', 'VERB'), ('instead', 'ADV'), ('to', 'PRT'), ('Britain', 'NOUN'), ('*-2', 'X'), ('to', 'PRT'), ('buy', 'VERB'), ('500,000', 'NUM'), ('metric', 'ADJ'), ('tons', 'NOUN'), ('of', 'ADP'), ('wheat', 'NOUN'), ('.', '.')], [('Sure', 'ADV'), ('enough', 'ADV'), (',', '.'), ('when', 'ADV'), ('he', 'PRON'), ('arrived', 'VERB'), ('at', 'ADP'), ('the', 'DET'), ('embassy', 'NOUN'), ('two', 'NUM'), ('days', 'NOUN'), ('later', 'ADJ'), (',', '.'), ('the', 'DET'), ('machine-gun-toting', 'ADJ'), ('guards', 'NOUN'), ('were', 'VERB'), ('gone', 'VERB'), ('--', '.'), ('for', 'ADP'), ('the', 'DET'), ('first', 'ADJ'), ('time', 'NOUN'), ('in', 'ADP'), ('five', 'NUM'), ('months', 'NOUN'), ('.', '.')], [('She', 'PRON'), ('won', 'VERB'), ('grant', 'NOUN'), ('money', 'NOUN'), ('for', 'ADP'), ('the', 'DET'), ('school', 'NOUN'), (',', '.'), ('advised', 'VERB'), ('cheerleaders', 'NOUN'), (',', '.'), ('ran', 'VERB'), ('the', 'DET'), ('pep', 'NOUN'), ('club', 'NOUN'), (',', '.'), ('proposed', 'VERB'), ('and', 'CONJ'), ('taught', 'VERB'), ('a', 'DET'), ('new', 'ADJ'), ('``', '.'), ('Cultural', 'ADJ'), ('Literacy', 'NOUN'), (\"''\", '.'), ('class', 'NOUN'), ('in', 'ADP'), ('Western', 'ADJ'), ('Civilization', 'NOUN'), ('and', 'CONJ'), ('was', 'VERB'), ('chosen', 'VERB'), ('*-1', 'X'), ('by', 'ADP'), ('the', 'DET'), ('school', 'NOUN'), ('PTA', 'NOUN'), ('as', 'ADP'), ('``', '.'), ('Teacher', 'NOUN'), ('of', 'ADP'), ('the', 'DET'), ('Year', 'NOUN'), ('.', '.'), (\"''\", '.')], [('The', 'DET'), ('nation', 'NOUN'), (\"'s\", 'PRT'), ('largest', 'ADJ'), ('steelmaker', 'NOUN'), ('earned', 'VERB'), ('$', '.'), ('175', 'NUM'), ('million', 'NUM'), ('*U*', 'X'), (',', '.'), ('or', 'CONJ'), ('62', 'NUM'), ('cents', 'NOUN'), ('a', 'DET'), ('share', 'NOUN'), (',', '.'), ('compared', 'VERB'), ('with', 'ADP'), ('the', 'DET'), ('year-earlier', 'ADJ'), ('$', '.'), ('228', 'NUM'), ('million', 'NUM'), ('*U*', 'X'), (',', '.'), ('or', 'CONJ'), ('80', 'NUM'), ('cents', 'NOUN'), ('a', 'DET'), ('share', 'NOUN'), ('.', '.')], [('The', 'DET'), ('finding', 'NOUN'), ('marks', 'VERB'), ('a', 'DET'), ('significant', 'ADJ'), ('step', 'NOUN'), ('in', 'ADP'), ('research', 'NOUN'), ('on', 'ADP'), ('``', '.'), ('bulk', 'NOUN'), (\"''\", '.'), ('superconductors', 'NOUN'), (',', '.'), ('which', 'DET'), ('*T*-2', 'X'), ('are', 'VERB'), ('aimed', 'VERB'), ('*-1', 'X'), ('at', 'ADP'), ('use', 'NOUN'), ('in', 'ADP'), ('wires', 'NOUN'), ('for', 'ADP'), ('motors', 'NOUN'), (',', '.'), ('magnets', 'NOUN'), (',', '.'), ('generators', 'NOUN'), ('and', 'CONJ'), ('other', 'ADJ'), ('applications', 'NOUN'), ('.', '.')], [('The', 'DET'), ('New', 'NOUN'), ('York', 'NOUN'), ('Stock', 'NOUN'), ('Exchange', 'NOUN'), (\"'s\", 'PRT'), ('attempt', 'NOUN'), ('*', 'X'), ('to', 'PRT'), ('introduce', 'VERB'), ('a', 'DET'), ('new', 'ADJ'), ('portfolio', 'NOUN'), ('basket', 'NOUN'), ('is', 'VERB'), ('evidence', 'NOUN'), ('of', 'ADP'), ('investors', 'NOUN'), (\"'\", 'PRT'), ('desires', 'NOUN'), ('*', 'X'), ('to', 'PRT'), ('make', 'VERB'), ('fast', 'ADJ'), ('and', 'CONJ'), ('easy', 'ADJ'), ('transactions', 'NOUN'), ('of', 'ADP'), ('large', 'ADJ'), ('numbers', 'NOUN'), ('of', 'ADP'), ('shares', 'NOUN'), ('.', '.')], [('Sen.', 'NOUN'), ('John', 'NOUN'), ('Danforth', 'NOUN'), ('-LRB-', '.'), ('R.', 'NOUN'), (',', '.'), ('Mo', 'NOUN'), ('.', '.'), ('-RRB-', '.'), ('praised', 'VERB'), ('the', 'DET'), ('department', 'NOUN'), (\"'s\", 'PRT'), ('actions', 'NOUN'), (',', '.'), ('*-1', 'X'), ('noting', 'VERB'), ('that', 'ADP'), ('rollover', 'NOUN'), ('crashes', 'NOUN'), ('account', 'VERB'), ('for', 'ADP'), ('almost', 'ADV'), ('half', 'DET'), ('of', 'ADP'), ('all', 'DET'), ('light-truck', 'ADJ'), ('deaths', 'NOUN'), ('.', '.')], [('Domestic', 'ADJ'), ('sales', 'NOUN'), ('of', 'ADP'), ('construction', 'NOUN'), ('machinery', 'NOUN'), (',', '.'), ('such', 'ADJ'), ('as', 'ADP'), ('power', 'NOUN'), ('shovels', 'NOUN'), ('and', 'CONJ'), ('bulldozers', 'NOUN'), ('rose', 'VERB'), ('to', 'PRT'), ('142.84', 'NUM'), ('billion', 'NUM'), ('yen', 'NOUN'), ('from', 'ADP'), ('126.15', 'NUM'), ('billion', 'NUM'), ('yen', 'NOUN'), ('.', '.')], [('Waertsilae', 'NOUN'), ('Marine', 'NOUN'), (\"'s\", 'PRT'), ('biggest', 'ADJ'), ('creditor', 'NOUN'), ('is', 'VERB'), ('Miami-based', 'ADJ'), ('Carnival', 'NOUN'), ('Cruise', 'NOUN'), ('Lines', 'NOUN'), ('Inc', 'NOUN'), ('.', '.')], [('In', 'ADP'), ('parts', 'NOUN'), ('of', 'ADP'), ('Iowa', 'NOUN'), (',', '.'), ('for', 'ADP'), ('example', 'NOUN'), (',', '.'), ('some', 'DET'), ('grain', 'NOUN'), ('elevators', 'NOUN'), ('are', 'VERB'), ('offering', 'VERB'), ('farmers', 'NOUN'), ('$', '.'), ('2.15', 'NUM'), ('*U*', 'X'), ('a', 'DET'), ('bushel', 'NOUN'), ('for', 'ADP'), ('corn', 'NOUN'), ('.', '.')], [('The', 'DET'), ('firm', 'NOUN'), ('also', 'ADV'), ('has', 'VERB'), ('been', 'VERB'), ('hit', 'VERB'), ('*-1', 'X'), ('with', 'ADP'), ('big', 'ADJ'), ('financial', 'ADJ'), ('settlements', 'NOUN'), ('with', 'ADP'), ('the', 'DET'), ('government', 'NOUN'), ('stemming', 'VERB'), ('from', 'ADP'), ('its', 'PRON'), ('guilty', 'ADJ'), ('plea', 'NOUN'), ('to', 'PRT'), ('six', 'NUM'), ('felonies', 'NOUN'), ('related', 'VERB'), ('*', 'X'), ('to', 'PRT'), ('a', 'DET'), ('big', 'ADJ'), ('insider-trading', 'ADJ'), ('scandal', 'NOUN'), ('.', '.')], [('The', 'DET'), ('acquisition', 'NOUN'), ('of', 'ADP'), ('87-store', 'ADJ'), ('Weisfield', 'NOUN'), (\"'s\", 'PRT'), ('raises', 'VERB'), ('Ratners', 'NOUN'), (\"'s\", 'PRT'), ('U.S.', 'NOUN'), ('presence', 'NOUN'), ('to', 'PRT'), ('450', 'NUM'), ('stores', 'NOUN'), ('.', '.')], [('Neil', 'NOUN'), ('Kuvin', 'NOUN'), (',', '.'), ('the', 'DET'), ('general', 'ADJ'), ('manager', 'NOUN'), ('of', 'ADP'), ('WHAS', 'NOUN'), (',', '.'), ('the', 'DET'), ('CBS', 'NOUN'), ('affiliate', 'NOUN'), ('in', 'ADP'), ('Louisville', 'NOUN'), (',', '.'), ('says', 'VERB'), ('0', 'X'), ('``', '.'), ('Cosby', 'NOUN'), (\"''\", '.'), ('gets', 'VERB'), ('the', 'DET'), ('station', 'NOUN'), (\"'s\", 'PRT'), ('highest', 'ADJ'), ('ratings', 'NOUN'), ('and', 'CONJ'), ('0', 'X'), ('he', 'PRON'), (\"'s\", 'VERB'), ('``', '.'), ('pleased', 'VERB'), ('*-1', 'X'), ('.', '.'), (\"''\", '.')], [('These', 'DET'), ('fiscal', 'ADJ'), ('pressures', 'NOUN'), ('are', 'VERB'), ('also', 'ADV'), ('a', 'DET'), ('factor', 'NOUN'), ('in', 'ADP'), ('*', 'X'), ('shaping', 'VERB'), ('the', 'DET'), ('Poland', 'NOUN'), ('package', 'NOUN'), (',', '.'), ('and', 'CONJ'), ('while', 'ADP'), ('more', 'ADV'), ('ambitious', 'ADJ'), ('authorizing', 'VERB'), ('legislation', 'NOUN'), ('is', 'VERB'), ('still', 'ADV'), ('pending', 'VERB'), (',', '.'), ('the', 'DET'), ('appropriations', 'NOUN'), ('bill', 'NOUN'), ('in', 'ADP'), ('conference', 'NOUN'), ('will', 'VERB'), ('be', 'VERB'), ('more', 'ADV'), ('decisive', 'ADJ'), ('on', 'ADP'), ('U.S.', 'NOUN'), ('aid', 'NOUN'), ('to', 'PRT'), ('Eastern', 'NOUN'), ('Europe', 'NOUN'), ('.', '.')], [('Travelers', 'NOUN'), (\"'s\", 'PRT'), ('employee', 'NOUN'), ('benefits', 'NOUN'), ('group', 'NOUN'), (',', '.'), ('which', 'DET'), ('*T*-1', 'X'), ('includes', 'VERB'), ('its', 'PRON'), ('group', 'NOUN'), ('health', 'NOUN'), ('insurance', 'NOUN'), ('operations', 'NOUN'), (',', '.'), ('posted', 'VERB'), ('earnings', 'NOUN'), ('of', 'ADP'), ('$', '.'), ('24', 'NUM'), ('million', 'NUM'), ('*U*', 'X'), (',', '.'), ('compared', 'VERB'), ('with', 'ADP'), ('a', 'DET'), ('loss', 'NOUN'), ('of', 'ADP'), ('$', '.'), ('3', 'NUM'), ('million', 'NUM'), ('*U*', 'X'), ('last', 'ADJ'), ('year', 'NOUN'), ('.', '.')], [('Because', 'ADP'), ('of', 'ADP'), ('persistent', 'ADJ'), ('dry', 'ADJ'), ('weather', 'NOUN'), ('in', 'ADP'), ('the', 'DET'), ('northern', 'ADJ'), ('Plains', 'NOUN'), (',', '.'), ('the', 'DET'), ('water', 'NOUN'), ('level', 'NOUN'), ('on', 'ADP'), ('the', 'DET'), ('upper', 'ADJ'), ('section', 'NOUN'), ('of', 'ADP'), ('the', 'DET'), ('Mississippi', 'NOUN'), ('River', 'NOUN'), ('is', 'VERB'), ('so', 'ADV'), ('low', 'ADJ'), ('that', 'ADP'), ('many', 'ADJ'), ('river', 'NOUN'), ('operators', 'NOUN'), ('are', 'VERB'), ('already', 'ADV'), ('trimming', 'VERB'), ('the', 'DET'), ('number', 'NOUN'), ('of', 'ADP'), ('barges', 'NOUN'), ('0', 'X'), ('their', 'PRON'), ('tows', 'NOUN'), ('push', 'VERB'), ('*T*-1', 'X'), ('at', 'ADP'), ('one', 'NUM'), ('time', 'NOUN'), ('.', '.')], [('A', 'DET'), ('Department', 'NOUN'), ('of', 'ADP'), ('Health', 'NOUN'), ('and', 'CONJ'), ('Human', 'NOUN'), ('Services', 'NOUN'), ('rule', 'NOUN'), ('adopted', 'VERB'), ('*', 'X'), ('in', 'ADP'), ('1988', 'NUM'), ('prohibits', 'VERB'), ('the', 'DET'), ('use', 'NOUN'), ('of', 'ADP'), ('so-called', 'ADJ'), ('Title', 'NOUN'), ('X', 'NOUN'), ('funds', 'NOUN'), ('for', 'ADP'), ('programs', 'NOUN'), ('that', 'DET'), ('*T*-136', 'X'), ('assist', 'VERB'), ('a', 'DET'), ('woman', 'NOUN'), ('in', 'ADP'), ('*-1', 'X'), ('obtaining', 'VERB'), ('an', 'DET'), ('abortion', 'NOUN'), (',', '.'), ('such', 'ADJ'), ('as', 'ADP'), ('abortion', 'NOUN'), ('counseling', 'NOUN'), ('and', 'CONJ'), ('referrals', 'NOUN'), ('.', '.')], [('Second', 'ADJ'), (',', '.'), ('it', 'PRON'), ('can', 'VERB'), ('be', 'VERB'), ('used', 'VERB'), ('*-1', 'X'), ('*', 'X'), ('to', 'PRT'), ('unwind', 'VERB'), ('positions', 'NOUN'), ('before', 'ADP'), ('U.S.', 'NOUN'), ('trading', 'NOUN'), ('begins', 'VERB'), (',', '.'), ('but', 'CONJ'), ('at', 'ADP'), ('prices', 'NOUN'), ('pegged', 'VERB'), ('*', 'X'), ('to', 'PRT'), ('the', 'DET'), ('previous', 'ADJ'), ('session', 'NOUN'), (\"'s\", 'PRT'), ('Big', 'NOUN'), ('Board', 'NOUN'), ('close', 'NOUN'), ('.', '.')], [('Magna', 'NOUN'), ('International', 'NOUN'), ('Inc.', 'NOUN'), (\"'s\", 'PRT'), ('chief', 'ADJ'), ('financial', 'ADJ'), ('officer', 'NOUN'), (',', '.'), ('James', 'NOUN'), ('McAlpine', 'NOUN'), (',', '.'), ('resigned', 'ADJ'), ('and', 'CONJ'), ('its', 'PRON'), ('chairman', 'NOUN'), (',', '.'), ('Frank', 'NOUN'), ('Stronach', 'NOUN'), (',', '.'), ('is', 'VERB'), ('stepping', 'VERB'), ('in', 'ADV'), ('*-1', 'X'), ('to', 'PRT'), ('help', 'VERB'), ('turn', 'VERB'), ('the', 'DET'), ('automotive-parts', 'ADJ'), ('manufacturer', 'NOUN'), ('around', 'ADV'), (',', '.'), ('the', 'DET'), ('company', 'NOUN'), ('said', 'VERB'), ('0', 'X'), ('*T*-2', 'X'), ('.', '.')], [('That', 'DET'), (\"'s\", 'VERB'), ('almost', 'ADV'), ('$', '.'), ('10', 'NUM'), ('*U*', 'X'), ('of', 'ADP'), ('equity', 'NOUN'), ('for', 'ADP'), ('each', 'DET'), ('Columbia', 'NOUN'), ('share', 'NOUN'), (',', '.'), ('including', 'VERB'), ('convertible', 'ADJ'), ('preferred', 'ADJ'), ('shares', 'NOUN'), (',', '.'), ('though', 'ADP'), ('more', 'ADJ'), ('junk', 'NOUN'), ('markdowns', 'NOUN'), ('would', 'VERB'), ('reduce', 'VERB'), ('the', 'DET'), ('cushion', 'NOUN'), ('.', '.')], [('At', 'ADP'), ('the', 'DET'), ('same', 'ADJ'), ('time', 'NOUN'), (',', '.'), ('Viacom', 'NOUN'), ('is', 'VERB'), ('trying', 'VERB'), ('*-1', 'X'), ('to', 'PRT'), ('persuade', 'VERB'), ('stations', 'NOUN'), ('*-2', 'X'), ('to', 'PRT'), ('make', 'VERB'), ('commitments', 'NOUN'), ('to', 'PRT'), ('``', '.'), ('A', 'DET'), ('Different', 'NOUN'), ('World', 'NOUN'), (',', '.'), (\"''\", '.'), ('a', 'DET'), ('spin-off', 'NOUN'), ('of', 'ADP'), ('``', '.'), ('Cosby', 'NOUN'), (\"''\", '.'), ('whose', 'PRON'), ('reruns', 'NOUN'), ('*T*-151', 'X'), ('will', 'VERB'), ('become', 'VERB'), ('available', 'ADJ'), ('in', 'ADP'), ('1991', 'NUM'), ('.', '.')], [('South', 'NOUN'), ('Korea', 'NOUN'), ('registered', 'VERB'), ('a', 'DET'), ('trade', 'NOUN'), ('deficit', 'NOUN'), ('of', 'ADP'), ('$', '.'), ('101', 'NUM'), ('million', 'NUM'), ('*U*', 'X'), ('in', 'ADP'), ('October', 'NOUN'), (',', '.'), ('*', 'X'), ('reflecting', 'VERB'), ('the', 'DET'), ('country', 'NOUN'), (\"'s\", 'PRT'), ('economic', 'ADJ'), ('sluggishness', 'NOUN'), (',', '.'), ('according', 'VERB'), ('to', 'PRT'), ('government', 'NOUN'), ('figures', 'NOUN'), ('released', 'VERB'), ('*', 'X'), ('Wednesday', 'NOUN'), ('.', '.')], [('Mortgage-Backed', 'NOUN'), ('Issues', 'NOUN')], [('But', 'CONJ'), ('consumers', 'NOUN'), ('who', 'PRON'), ('*T*-169', 'X'), ('buy', 'VERB'), ('at', 'ADP'), ('this', 'DET'), ('level', 'NOUN'), ('are', 'VERB'), ('also', 'ADV'), ('more', 'ADV'), ('knowledgeable', 'ADJ'), ('than', 'ADP'), ('they', 'PRON'), ('were', 'VERB'), ('*?*', 'X'), ('a', 'DET'), ('few', 'ADJ'), ('years', 'NOUN'), ('ago', 'ADV'), ('.', '.')], [('Use', 'NOUN'), ('of', 'ADP'), ('Scoring', 'NOUN'), ('High', 'NOUN'), ('is', 'VERB'), ('widespread', 'ADJ'), ('in', 'ADP'), ('South', 'NOUN'), ('Carolina', 'NOUN'), ('and', 'CONJ'), ('common', 'ADJ'), ('in', 'ADP'), ('Greenville', 'NOUN'), ('County', 'NOUN'), (',', '.'), ('Mrs.', 'NOUN'), ('Yeargin', 'NOUN'), (\"'s\", 'PRT'), ('school', 'NOUN'), ('district', 'NOUN'), ('.', '.')], [('Triton', 'NOUN'), ('Securities', 'NOUN'), (',', '.'), ('of', 'ADP'), ('Danville', 'NOUN'), (',', '.'), ('Calif.', 'NOUN'), (',', '.'), ('and', 'CONJ'), ('a', 'DET'), ('principal', 'NOUN'), ('of', 'ADP'), ('the', 'DET'), ('firm', 'NOUN'), (',', '.'), ('Delwin', 'NOUN'), ('George', 'NOUN'), ('Chase', 'NOUN'), (',', '.'), ('also', 'ADV'), ('of', 'ADP'), ('Danville', 'NOUN'), (',', '.'), ('were', 'VERB'), ('jointly', 'ADV'), ('fined', 'VERB'), ('*-1', 'X'), ('$', '.'), ('10,000', 'NUM'), ('*U*', 'X'), ('and', 'CONJ'), ('given', 'VERB'), ('*-1', 'X'), ('30-day', 'ADJ'), ('suspensions', 'NOUN'), ('as', 'ADP'), ('part', 'NOUN'), ('of', 'ADP'), ('a', 'DET'), ('settlement', 'NOUN'), ('.', '.')], [('The', 'DET'), ('government', 'NOUN'), (\"'s\", 'PRT'), ('borrowing', 'NOUN'), ('authority', 'NOUN'), ('dropped', 'VERB'), ('at', 'ADP'), ('midnight', 'NOUN'), ('Tuesday', 'NOUN'), ('to', 'PRT'), ('$', '.'), ('2.80', 'NUM'), ('trillion', 'NUM'), ('*U*', 'X'), ('from', 'ADP'), ('$', '.'), ('2.87', 'NUM'), ('trillion', 'NUM'), ('*U*', 'X'), ('.', '.')], [('As', 'ADP'), ('a', 'DET'), ('part', 'NOUN'), ('of', 'ADP'), ('overall', 'ADJ'), ('efforts', 'NOUN'), ('*', 'X'), ('to', 'PRT'), ('reduce', 'VERB'), ('spending', 'NOUN'), (',', '.'), ('Congress', 'NOUN'), ('cut', 'VERB'), ('by', 'ADP'), ('$', '.'), ('30', 'NUM'), ('million', 'NUM'), ('*U*', 'X'), ('the', 'DET'), ('Bush', 'NOUN'), ('administration', 'NOUN'), (\"'s\", 'PRT'), ('request', 'NOUN'), ('for', 'ADP'), ('antitrust', 'ADJ'), ('enforcement', 'NOUN'), ('for', 'ADP'), ('fiscal', 'ADJ'), ('1990', 'NUM'), (',', '.'), ('which', 'DET'), ('*T*-81', 'X'), ('began', 'VERB'), ('Oct.', 'NOUN'), ('1', 'NUM'), ('.', '.')], [('In', 'ADP'), ('a', 'DET'), ('second', 'ADJ'), ('area', 'NOUN'), ('of', 'ADP'), ('common', 'ADJ'), ('concern', 'NOUN'), (',', '.'), ('the', 'DET'), ('world', 'NOUN'), ('environment', 'NOUN'), (',', '.'), ('an', 'DET'), ('additional', 'ADJ'), ('$', '.'), ('15', 'NUM'), ('million', 'NUM'), ('*U*', 'X'), ('*ICH*-1', 'X'), ('will', 'VERB'), ('be', 'VERB'), ('provided', 'VERB'), ('*-7', 'X'), ('in', 'ADP'), ('development', 'NOUN'), ('assistance', 'NOUN'), ('0', 'X'), ('*T*-2', 'X'), ('to', 'PRT'), ('fund', 'VERB'), ('a', 'DET'), ('series', 'NOUN'), ('of', 'ADP'), ('initiatives', 'NOUN'), (',', '.'), ('related', 'VERB'), ('both', 'DET'), ('to', 'PRT'), ('global', 'ADJ'), ('warming', 'NOUN'), ('and', 'CONJ'), ('the', 'DET'), ('plight', 'NOUN'), ('of', 'ADP'), ('the', 'DET'), ('African', 'ADJ'), ('elephant', 'NOUN'), ('.', '.')], [('Dr.', 'NOUN'), ('Kligman', 'NOUN'), ('patented', 'VERB'), ('the', 'DET'), ('medicine', 'NOUN'), ('while', 'ADP'), ('*-1', 'X'), ('employed', 'VERB'), ('*-2', 'X'), ('by', 'ADP'), ('the', 'DET'), ('University', 'NOUN'), (',', '.'), ('but', 'CONJ'), ('later', 'ADJ'), ('licensed', 'VERB'), ('the', 'DET'), ('Retin-A', 'NOUN'), ('to', 'PRT'), ('a', 'DET'), ('division', 'NOUN'), ('of', 'ADP'), ('Johnson', 'NOUN'), ('&', 'CONJ'), ('Johnson', 'NOUN'), ('.', '.')], [('Caldor', 'NOUN'), (',', '.'), ('based', 'VERB'), ('*', 'X'), ('in', 'ADP'), ('Norwalk', 'NOUN'), (',', '.'), ('Conn.', 'NOUN'), (',', '.'), ('operates', 'VERB'), ('118', 'NUM'), ('stores', 'NOUN'), ('in', 'ADP'), ('the', 'DET'), ('Northeast', 'NOUN'), (';', '.'), ('it', 'PRON'), ('reported', 'VERB'), ('revenue', 'NOUN'), ('of', 'ADP'), ('$', '.'), ('1.6', 'NUM'), ('billion', 'NUM'), ('*U*', 'X'), ('last', 'ADJ'), ('year', 'NOUN'), ('.', '.')], [('The', 'DET'), ('defense', 'NOUN'), ('lawyers', 'NOUN'), (\"'\", 'PRT'), ('group', 'NOUN'), ('formed', 'VERB'), ('a', 'DET'), ('task', 'NOUN'), ('force', 'NOUN'), ('*ICH*-1', 'X'), ('*ICH*-3', 'X'), ('this', 'DET'), ('week', 'NOUN'), (',', '.'), ('chaired', 'VERB'), ('*', 'X'), ('by', 'ADP'), ('New', 'NOUN'), ('York', 'NOUN'), ('attorney', 'NOUN'), ('Gerald', 'NOUN'), ('Lefcourt', 'NOUN'), (',', '.'), ('0', 'X'), ('*T*-2', 'X'), ('to', 'PRT'), ('deal', 'VERB'), ('with', 'ADP'), ('the', 'DET'), ('matter', 'NOUN'), ('.', '.')], [('*', 'X'), ('Kill', 'VERB'), ('it', 'PRON'), (',', '.'), (\"''\", '.'), ('he', 'PRON'), ('says', 'VERB'), ('*T*-1', 'X'), ('.', '.')], [('They', 'PRON'), ('also', 'ADV'), ('have', 'VERB'), ('become', 'VERB'), ('large', 'ADJ'), ('purchasers', 'NOUN'), ('of', 'ADP'), ('Fannie', 'NOUN'), ('Mae', 'NOUN'), (\"'s\", 'PRT'), ('corporate', 'ADJ'), ('debt', 'NOUN'), (',', '.'), ('*-2', 'X'), ('buying', 'VERB'), ('$', '.'), ('2.4', 'NUM'), ('billion', 'NUM'), ('*U*', 'X'), ('in', 'ADP'), ('Fannie', 'NOUN'), ('Mae', 'NOUN'), ('bonds', 'NOUN'), ('during', 'ADP'), ('the', 'DET'), ('first', 'ADJ'), ('nine', 'NUM'), ('months', 'NOUN'), ('of', 'ADP'), ('the', 'DET'), ('year', 'NOUN'), (',', '.'), ('or', 'CONJ'), ('almost', 'ADV'), ('a', 'DET'), ('tenth', 'NOUN'), ('of', 'ADP'), ('the', 'DET'), ('total', 'ADJ'), ('amount', 'NOUN'), ('issued', 'VERB'), ('*', 'X'), ('.', '.')], [('The', 'DET'), ('investor', 'NOUN'), ('was', 'VERB'), ('instrumental', 'ADJ'), ('in', 'ADP'), ('*', 'X'), ('tapping', 'VERB'), ('Mr.', 'NOUN'), ('Wolf', 'NOUN'), ('to', 'PRT'), ('run', 'VERB'), ('the', 'DET'), ('air', 'NOUN'), ('cargo', 'NOUN'), ('unit', 'NOUN'), ('of', 'ADP'), ('Tiger', 'NOUN'), ('International', 'NOUN'), ('Inc', 'NOUN'), ('.', '.')], [('Mrs.', 'NOUN'), ('Ward', 'NOUN'), ('says', 'VERB'), ('that', 'ADP'), ('when', 'ADV'), ('the', 'DET'), ('cheating', 'NOUN'), ('was', 'VERB'), ('discovered', 'VERB'), ('*-4', 'X'), ('*T*-1', 'X'), (',', '.'), ('she', 'PRON'), ('wanted', 'VERB'), ('*-2', 'X'), ('to', 'PRT'), ('avoid', 'VERB'), ('the', 'DET'), ('morale-damaging', 'ADJ'), ('public', 'ADJ'), ('disclosure', 'NOUN'), ('that', 'ADP'), ('a', 'DET'), ('trial', 'NOUN'), ('would', 'VERB'), ('bring', 'VERB'), ('*T*-3', 'X'), ('.', '.')]]\n"
     ]
    }
   ],
   "source": [
    "# Splitting into train and test\n",
    "random.seed(1234)\n",
    "train_set, test_set = train_test_split(wsj,test_size=0.05)\n",
    "\n",
    "print('Train size: ', len(train_set))\n",
    "print('Test size: ',len(test_set))\n",
    "print(train_set[:40])"
   ]
  },
  {
   "cell_type": "markdown",
   "metadata": {},
   "source": [
    "### Data exploration\n",
    "#### no of tags, no of words"
   ]
  },
  {
   "cell_type": "code",
   "execution_count": 5,
   "metadata": {},
   "outputs": [
    {
     "data": {
      "text/plain": [
       "95574"
      ]
     },
     "execution_count": 5,
     "metadata": {},
     "output_type": "execute_result"
    }
   ],
   "source": [
    "# Getting list of tagged words\n",
    "train_tagged_words = [tup for sent in train_set for tup in sent]\n",
    "len(train_tagged_words)"
   ]
  },
  {
   "cell_type": "code",
   "execution_count": 6,
   "metadata": {
    "scrolled": true
   },
   "outputs": [
    {
     "data": {
      "text/plain": [
       "['The',\n",
       " 'senior',\n",
       " 'of',\n",
       " 'the',\n",
       " 'three',\n",
       " 'executives',\n",
       " 'who',\n",
       " '*T*-1',\n",
       " 'will',\n",
       " 'assume']"
      ]
     },
     "execution_count": 6,
     "metadata": {},
     "output_type": "execute_result"
    }
   ],
   "source": [
    "# tokens \n",
    "tokens = [pair[0] for pair in train_tagged_words]\n",
    "tokens[:10]"
   ]
  },
  {
   "cell_type": "markdown",
   "metadata": {},
   "source": [
    "### Number of unique words/tokens"
   ]
  },
  {
   "cell_type": "code",
   "execution_count": 7,
   "metadata": {},
   "outputs": [
    {
     "name": "stdout",
     "output_type": "stream",
     "text": [
      "12087\n"
     ]
    }
   ],
   "source": [
    "# vocabulary\n",
    "V = set(tokens)\n",
    "print(len(V))"
   ]
  },
  {
   "cell_type": "markdown",
   "metadata": {},
   "source": [
    "### Number of unique tags"
   ]
  },
  {
   "cell_type": "code",
   "execution_count": 8,
   "metadata": {},
   "outputs": [
    {
     "data": {
      "text/plain": [
       "12"
      ]
     },
     "execution_count": 8,
     "metadata": {},
     "output_type": "execute_result"
    }
   ],
   "source": [
    "T = set([pair[1] for pair in train_tagged_words])\n",
    "len(T)"
   ]
  },
  {
   "cell_type": "code",
   "execution_count": 9,
   "metadata": {},
   "outputs": [
    {
     "name": "stdout",
     "output_type": "stream",
     "text": [
      "{'DET', 'CONJ', 'NOUN', 'ADJ', '.', 'X', 'NUM', 'PRT', 'ADP', 'PRON', 'VERB', 'ADV'}\n"
     ]
    }
   ],
   "source": [
    "print(T)"
   ]
  },
  {
   "cell_type": "markdown",
   "metadata": {},
   "source": [
    "## 2. POS Tagging Algorithm - HMM\n",
    "\n",
    "We'll use the HMM algorithm to tag the words. Given a sequence of words to be tagged, the task is to assign the most probable tag to the word. \n",
    "\n",
    "In other words, to every word w, assign the tag t that maximises the likelihood P(t/w). Since P(t/w) = P(w/t). P(t) / P(w), after ignoring P(w), we have to compute P(w/t) and P(t).\n",
    "\n",
    "\n",
    "P(w/t) is basically the probability that given a tag (say NN), what is the probability of it being w (say 'building'). This can be computed by computing the fraction of all NNs which are equal to w, i.e. \n",
    "\n",
    "P(w/t) = count(w, t) / count(t). \n",
    "\n",
    "\n",
    "The term P(t) is the probability of tag t, and in a tagging task, we assume that a tag will depend only on the previous tag. In other words, the probability of a tag being NN will depend only on the previous tag t(n-1). So for e.g. if t(n-1) is a JJ, then t(n) is likely to be an NN since adjectives often precede a noun (blue coat, tall building etc.).\n",
    "\n",
    "\n",
    "Given the penn treebank tagged dataset, we can compute the two terms P(w/t) and P(t) and store them in two large matrices. The matrix of P(w/t) will be sparse, since each word will not be seen with most tags ever, and those terms will thus be zero. \n"
   ]
  },
  {
   "cell_type": "markdown",
   "metadata": {},
   "source": [
    "### Emission Probabilities"
   ]
  },
  {
   "cell_type": "code",
   "execution_count": 10,
   "metadata": {
    "scrolled": true
   },
   "outputs": [],
   "source": [
    "# computing P(w/t) and storing in T x V matrix\n",
    "t = len(T)\n",
    "v = len(V)\n",
    "w_given_t = np.zeros((t, v))"
   ]
  },
  {
   "cell_type": "code",
   "execution_count": 11,
   "metadata": {},
   "outputs": [],
   "source": [
    "# compute word given tag: Emission Probability\n",
    "def word_given_tag(word, tag, train_bag = train_tagged_words):\n",
    "    tag_list = [pair for pair in train_bag if pair[1]==tag]\n",
    "    count_tag = len(tag_list)\n",
    "    w_given_tag_list = [pair[0] for pair in tag_list if pair[0]==word]\n",
    "    count_w_given_tag = len(w_given_tag_list)\n",
    "    \n",
    "    return (count_w_given_tag, count_tag)"
   ]
  },
  {
   "cell_type": "markdown",
   "metadata": {},
   "source": [
    "### Transition Probabilities"
   ]
  },
  {
   "cell_type": "code",
   "execution_count": 12,
   "metadata": {},
   "outputs": [],
   "source": [
    "# compute tag given tag: tag2(t2) given tag1 (t1), i.e. Transition Probability\n",
    "\n",
    "def t2_given_t1(t2, t1, train_bag = train_tagged_words):\n",
    "    tags = [pair[1] for pair in train_bag]\n",
    "    count_t1 = len([t for t in tags if t==t1])\n",
    "    count_t2_t1 = 0\n",
    "    for index in range(len(tags)-1):\n",
    "        if tags[index]==t1 and tags[index+1] == t2:\n",
    "            count_t2_t1 += 1\n",
    "    return (count_t2_t1, count_t1)"
   ]
  },
  {
   "cell_type": "code",
   "execution_count": 13,
   "metadata": {},
   "outputs": [
    {
     "name": "stdout",
     "output_type": "stream",
     "text": [
      "(0, 0)\n"
     ]
    }
   ],
   "source": [
    "#Model Parameters\n",
    "#From Penn Treebank, calculate the transition probability of MD followed by VB? Select the option closest to the answer.\n",
    "print(t2_given_t1('VB', 'MD'))"
   ]
  },
  {
   "cell_type": "code",
   "execution_count": 14,
   "metadata": {
    "scrolled": true
   },
   "outputs": [],
   "source": [
    "# creating t x t transition matrix of tags\n",
    "# each column is t2, each row is t1\n",
    "# thus M(i, j) represents P(tj given ti)\n",
    "\n",
    "tags_matrix = np.zeros((len(T), len(T)), dtype='float32')\n",
    "for i, t1 in enumerate(list(T)):\n",
    "    for j, t2 in enumerate(list(T)): \n",
    "        tags_matrix[i, j] = t2_given_t1(t2, t1)[0]/t2_given_t1(t2, t1)[1]"
   ]
  },
  {
   "cell_type": "code",
   "execution_count": 15,
   "metadata": {
    "scrolled": true
   },
   "outputs": [
    {
     "data": {
      "text/plain": [
       "array([[5.5335020e-03, 3.6088054e-04, 6.3851798e-01, 2.0485985e-01,\n",
       "        1.7683147e-02, 4.5831829e-02, 2.2254301e-02, 2.4058703e-04,\n",
       "        9.0220133e-03, 3.6088056e-03, 3.8975101e-02, 1.3111994e-02],\n",
       "       [1.2111369e-01, 4.6403712e-04, 3.4663573e-01, 1.1786543e-01,\n",
       "        3.4802783e-02, 7.8886310e-03, 4.3155454e-02, 5.1044081e-03,\n",
       "        5.1972158e-02, 6.0324825e-02, 1.5498839e-01, 5.5684455e-02],\n",
       "       [1.3460276e-02, 4.2569488e-02, 2.6431751e-01, 1.2220033e-02,\n",
       "        2.4078938e-01, 2.8890347e-02, 9.4842054e-03, 4.3481432e-02,\n",
       "        1.7702633e-01, 4.6326695e-03, 1.4634858e-01, 1.6779747e-02],\n",
       "       [4.9301563e-03, 1.6762530e-02, 6.9909614e-01, 6.7378797e-02,\n",
       "        6.4585045e-02, 2.1364009e-02, 2.0377979e-02, 1.1339359e-02,\n",
       "        7.7074774e-02, 6.5735413e-04, 1.1668036e-02, 4.7658174e-03],\n",
       "       [1.7230216e-01, 5.8812950e-02, 2.2176258e-01, 4.3435253e-02,\n",
       "        9.3705036e-02, 2.7248202e-02, 8.0935255e-02, 2.4280576e-03,\n",
       "        9.1726616e-02, 6.6366903e-02, 8.8579133e-02, 5.2607913e-02],\n",
       "       [5.5129435e-02, 9.7475229e-03, 6.1840843e-02, 1.6778523e-02,\n",
       "        1.6426973e-01, 7.2866730e-02, 2.5567275e-03, 1.8280602e-01,\n",
       "        1.4445509e-01, 5.6088205e-02, 2.0821349e-01, 2.5247684e-02],\n",
       "       [3.5566094e-03, 1.3930053e-02, 3.5595733e-01, 3.2602254e-02,\n",
       "        1.1618257e-01, 2.0806165e-01, 1.8553646e-01, 2.6970955e-02,\n",
       "        3.4973327e-02, 1.4819206e-03, 1.8079432e-02, 2.6674571e-03],\n",
       "       [1.0313015e-01, 2.3064250e-03, 2.4283361e-01, 8.6985171e-02,\n",
       "        4.2833608e-02, 1.3179571e-02, 5.7660624e-02, 1.9769357e-03,\n",
       "        2.1087315e-02, 1.7792422e-02, 4.0000001e-01, 1.0214168e-02],\n",
       "       [3.2545453e-01, 9.6256682e-04, 3.2192513e-01, 1.0577540e-01,\n",
       "        3.9572194e-02, 3.4973264e-02, 6.2459894e-02, 1.4973262e-03,\n",
       "        1.6577540e-02, 6.8663098e-02, 8.6631021e-03, 1.3475936e-02],\n",
       "       [9.6116876e-03, 5.3825453e-03, 2.0492119e-01, 7.4202232e-02,\n",
       "        3.9215688e-02, 9.2656672e-02, 7.6893503e-03, 1.2302960e-02,\n",
       "        2.2299116e-02, 7.6893503e-03, 4.9134949e-01, 3.2679740e-02],\n",
       "       [1.3529687e-01, 5.5175629e-03, 1.1128380e-01, 6.5433636e-02,\n",
       "        3.4271061e-02, 2.1767174e-01, 2.3080509e-02, 3.1395711e-02,\n",
       "        9.0456948e-02, 3.5281319e-02, 1.6871309e-01, 8.1597760e-02],\n",
       "       [7.0309900e-02, 6.3312231e-03, 3.0989669e-02, 1.3228923e-01,\n",
       "        1.3295569e-01, 2.2659114e-02, 3.1322893e-02, 1.4328557e-02,\n",
       "        1.1929357e-01, 1.5328224e-02, 3.4455180e-01, 7.9640120e-02]],\n",
       "      dtype=float32)"
      ]
     },
     "execution_count": 15,
     "metadata": {},
     "output_type": "execute_result"
    }
   ],
   "source": [
    "tags_matrix"
   ]
  },
  {
   "cell_type": "code",
   "execution_count": 16,
   "metadata": {},
   "outputs": [],
   "source": [
    "# convert the matrix to a df for better readability\n",
    "tags_df = pd.DataFrame(tags_matrix, columns = list(T), index=list(T))"
   ]
  },
  {
   "cell_type": "code",
   "execution_count": 17,
   "metadata": {
    "scrolled": true
   },
   "outputs": [
    {
     "data": {
      "text/html": [
       "<div>\n",
       "<style scoped>\n",
       "    .dataframe tbody tr th:only-of-type {\n",
       "        vertical-align: middle;\n",
       "    }\n",
       "\n",
       "    .dataframe tbody tr th {\n",
       "        vertical-align: top;\n",
       "    }\n",
       "\n",
       "    .dataframe thead th {\n",
       "        text-align: right;\n",
       "    }\n",
       "</style>\n",
       "<table border=\"1\" class=\"dataframe\">\n",
       "  <thead>\n",
       "    <tr style=\"text-align: right;\">\n",
       "      <th></th>\n",
       "      <th>DET</th>\n",
       "      <th>CONJ</th>\n",
       "      <th>NOUN</th>\n",
       "      <th>ADJ</th>\n",
       "      <th>.</th>\n",
       "      <th>X</th>\n",
       "      <th>NUM</th>\n",
       "      <th>PRT</th>\n",
       "      <th>ADP</th>\n",
       "      <th>PRON</th>\n",
       "      <th>VERB</th>\n",
       "      <th>ADV</th>\n",
       "    </tr>\n",
       "  </thead>\n",
       "  <tbody>\n",
       "    <tr>\n",
       "      <th>DET</th>\n",
       "      <td>0.005534</td>\n",
       "      <td>0.000361</td>\n",
       "      <td>0.638518</td>\n",
       "      <td>0.204860</td>\n",
       "      <td>0.017683</td>\n",
       "      <td>0.045832</td>\n",
       "      <td>0.022254</td>\n",
       "      <td>0.000241</td>\n",
       "      <td>0.009022</td>\n",
       "      <td>0.003609</td>\n",
       "      <td>0.038975</td>\n",
       "      <td>0.013112</td>\n",
       "    </tr>\n",
       "    <tr>\n",
       "      <th>CONJ</th>\n",
       "      <td>0.121114</td>\n",
       "      <td>0.000464</td>\n",
       "      <td>0.346636</td>\n",
       "      <td>0.117865</td>\n",
       "      <td>0.034803</td>\n",
       "      <td>0.007889</td>\n",
       "      <td>0.043155</td>\n",
       "      <td>0.005104</td>\n",
       "      <td>0.051972</td>\n",
       "      <td>0.060325</td>\n",
       "      <td>0.154988</td>\n",
       "      <td>0.055684</td>\n",
       "    </tr>\n",
       "    <tr>\n",
       "      <th>NOUN</th>\n",
       "      <td>0.013460</td>\n",
       "      <td>0.042569</td>\n",
       "      <td>0.264318</td>\n",
       "      <td>0.012220</td>\n",
       "      <td>0.240789</td>\n",
       "      <td>0.028890</td>\n",
       "      <td>0.009484</td>\n",
       "      <td>0.043481</td>\n",
       "      <td>0.177026</td>\n",
       "      <td>0.004633</td>\n",
       "      <td>0.146349</td>\n",
       "      <td>0.016780</td>\n",
       "    </tr>\n",
       "    <tr>\n",
       "      <th>ADJ</th>\n",
       "      <td>0.004930</td>\n",
       "      <td>0.016763</td>\n",
       "      <td>0.699096</td>\n",
       "      <td>0.067379</td>\n",
       "      <td>0.064585</td>\n",
       "      <td>0.021364</td>\n",
       "      <td>0.020378</td>\n",
       "      <td>0.011339</td>\n",
       "      <td>0.077075</td>\n",
       "      <td>0.000657</td>\n",
       "      <td>0.011668</td>\n",
       "      <td>0.004766</td>\n",
       "    </tr>\n",
       "    <tr>\n",
       "      <th>.</th>\n",
       "      <td>0.172302</td>\n",
       "      <td>0.058813</td>\n",
       "      <td>0.221763</td>\n",
       "      <td>0.043435</td>\n",
       "      <td>0.093705</td>\n",
       "      <td>0.027248</td>\n",
       "      <td>0.080935</td>\n",
       "      <td>0.002428</td>\n",
       "      <td>0.091727</td>\n",
       "      <td>0.066367</td>\n",
       "      <td>0.088579</td>\n",
       "      <td>0.052608</td>\n",
       "    </tr>\n",
       "    <tr>\n",
       "      <th>X</th>\n",
       "      <td>0.055129</td>\n",
       "      <td>0.009748</td>\n",
       "      <td>0.061841</td>\n",
       "      <td>0.016779</td>\n",
       "      <td>0.164270</td>\n",
       "      <td>0.072867</td>\n",
       "      <td>0.002557</td>\n",
       "      <td>0.182806</td>\n",
       "      <td>0.144455</td>\n",
       "      <td>0.056088</td>\n",
       "      <td>0.208213</td>\n",
       "      <td>0.025248</td>\n",
       "    </tr>\n",
       "    <tr>\n",
       "      <th>NUM</th>\n",
       "      <td>0.003557</td>\n",
       "      <td>0.013930</td>\n",
       "      <td>0.355957</td>\n",
       "      <td>0.032602</td>\n",
       "      <td>0.116183</td>\n",
       "      <td>0.208062</td>\n",
       "      <td>0.185536</td>\n",
       "      <td>0.026971</td>\n",
       "      <td>0.034973</td>\n",
       "      <td>0.001482</td>\n",
       "      <td>0.018079</td>\n",
       "      <td>0.002667</td>\n",
       "    </tr>\n",
       "    <tr>\n",
       "      <th>PRT</th>\n",
       "      <td>0.103130</td>\n",
       "      <td>0.002306</td>\n",
       "      <td>0.242834</td>\n",
       "      <td>0.086985</td>\n",
       "      <td>0.042834</td>\n",
       "      <td>0.013180</td>\n",
       "      <td>0.057661</td>\n",
       "      <td>0.001977</td>\n",
       "      <td>0.021087</td>\n",
       "      <td>0.017792</td>\n",
       "      <td>0.400000</td>\n",
       "      <td>0.010214</td>\n",
       "    </tr>\n",
       "    <tr>\n",
       "      <th>ADP</th>\n",
       "      <td>0.325455</td>\n",
       "      <td>0.000963</td>\n",
       "      <td>0.321925</td>\n",
       "      <td>0.105775</td>\n",
       "      <td>0.039572</td>\n",
       "      <td>0.034973</td>\n",
       "      <td>0.062460</td>\n",
       "      <td>0.001497</td>\n",
       "      <td>0.016578</td>\n",
       "      <td>0.068663</td>\n",
       "      <td>0.008663</td>\n",
       "      <td>0.013476</td>\n",
       "    </tr>\n",
       "    <tr>\n",
       "      <th>PRON</th>\n",
       "      <td>0.009612</td>\n",
       "      <td>0.005383</td>\n",
       "      <td>0.204921</td>\n",
       "      <td>0.074202</td>\n",
       "      <td>0.039216</td>\n",
       "      <td>0.092657</td>\n",
       "      <td>0.007689</td>\n",
       "      <td>0.012303</td>\n",
       "      <td>0.022299</td>\n",
       "      <td>0.007689</td>\n",
       "      <td>0.491349</td>\n",
       "      <td>0.032680</td>\n",
       "    </tr>\n",
       "    <tr>\n",
       "      <th>VERB</th>\n",
       "      <td>0.135297</td>\n",
       "      <td>0.005518</td>\n",
       "      <td>0.111284</td>\n",
       "      <td>0.065434</td>\n",
       "      <td>0.034271</td>\n",
       "      <td>0.217672</td>\n",
       "      <td>0.023081</td>\n",
       "      <td>0.031396</td>\n",
       "      <td>0.090457</td>\n",
       "      <td>0.035281</td>\n",
       "      <td>0.168713</td>\n",
       "      <td>0.081598</td>\n",
       "    </tr>\n",
       "    <tr>\n",
       "      <th>ADV</th>\n",
       "      <td>0.070310</td>\n",
       "      <td>0.006331</td>\n",
       "      <td>0.030990</td>\n",
       "      <td>0.132289</td>\n",
       "      <td>0.132956</td>\n",
       "      <td>0.022659</td>\n",
       "      <td>0.031323</td>\n",
       "      <td>0.014329</td>\n",
       "      <td>0.119294</td>\n",
       "      <td>0.015328</td>\n",
       "      <td>0.344552</td>\n",
       "      <td>0.079640</td>\n",
       "    </tr>\n",
       "  </tbody>\n",
       "</table>\n",
       "</div>"
      ],
      "text/plain": [
       "           DET      CONJ      NOUN       ADJ         .         X       NUM  \\\n",
       "DET   0.005534  0.000361  0.638518  0.204860  0.017683  0.045832  0.022254   \n",
       "CONJ  0.121114  0.000464  0.346636  0.117865  0.034803  0.007889  0.043155   \n",
       "NOUN  0.013460  0.042569  0.264318  0.012220  0.240789  0.028890  0.009484   \n",
       "ADJ   0.004930  0.016763  0.699096  0.067379  0.064585  0.021364  0.020378   \n",
       ".     0.172302  0.058813  0.221763  0.043435  0.093705  0.027248  0.080935   \n",
       "X     0.055129  0.009748  0.061841  0.016779  0.164270  0.072867  0.002557   \n",
       "NUM   0.003557  0.013930  0.355957  0.032602  0.116183  0.208062  0.185536   \n",
       "PRT   0.103130  0.002306  0.242834  0.086985  0.042834  0.013180  0.057661   \n",
       "ADP   0.325455  0.000963  0.321925  0.105775  0.039572  0.034973  0.062460   \n",
       "PRON  0.009612  0.005383  0.204921  0.074202  0.039216  0.092657  0.007689   \n",
       "VERB  0.135297  0.005518  0.111284  0.065434  0.034271  0.217672  0.023081   \n",
       "ADV   0.070310  0.006331  0.030990  0.132289  0.132956  0.022659  0.031323   \n",
       "\n",
       "           PRT       ADP      PRON      VERB       ADV  \n",
       "DET   0.000241  0.009022  0.003609  0.038975  0.013112  \n",
       "CONJ  0.005104  0.051972  0.060325  0.154988  0.055684  \n",
       "NOUN  0.043481  0.177026  0.004633  0.146349  0.016780  \n",
       "ADJ   0.011339  0.077075  0.000657  0.011668  0.004766  \n",
       ".     0.002428  0.091727  0.066367  0.088579  0.052608  \n",
       "X     0.182806  0.144455  0.056088  0.208213  0.025248  \n",
       "NUM   0.026971  0.034973  0.001482  0.018079  0.002667  \n",
       "PRT   0.001977  0.021087  0.017792  0.400000  0.010214  \n",
       "ADP   0.001497  0.016578  0.068663  0.008663  0.013476  \n",
       "PRON  0.012303  0.022299  0.007689  0.491349  0.032680  \n",
       "VERB  0.031396  0.090457  0.035281  0.168713  0.081598  \n",
       "ADV   0.014329  0.119294  0.015328  0.344552  0.079640  "
      ]
     },
     "execution_count": 17,
     "metadata": {},
     "output_type": "execute_result"
    }
   ],
   "source": [
    "tags_df"
   ]
  },
  {
   "cell_type": "code",
   "execution_count": 18,
   "metadata": {
    "scrolled": true
   },
   "outputs": [
    {
     "data": {
      "text/plain": [
       "DET     0.172302\n",
       "CONJ    0.058813\n",
       "NOUN    0.221763\n",
       "ADJ     0.043435\n",
       ".       0.093705\n",
       "X       0.027248\n",
       "NUM     0.080935\n",
       "PRT     0.002428\n",
       "ADP     0.091727\n",
       "PRON    0.066367\n",
       "VERB    0.088579\n",
       "ADV     0.052608\n",
       "Name: ., dtype: float32"
      ]
     },
     "execution_count": 18,
     "metadata": {},
     "output_type": "execute_result"
    }
   ],
   "source": [
    "tags_df.loc['.', :]"
   ]
  },
  {
   "cell_type": "code",
   "execution_count": 19,
   "metadata": {
    "scrolled": true
   },
   "outputs": [
    {
     "data": {
      "image/png": "[encoded data removed]",
      "text/plain": [
       "<Figure size 1296x864 with 2 Axes>"
      ]
     },
     "metadata": {
      "needs_background": "light"
     },
     "output_type": "display_data"
    }
   ],
   "source": [
    "# heatmap of tags matrix\n",
    "# T(i, j) means P(tag j given tag i)\n",
    "plt.figure(figsize=(18, 12))\n",
    "sns.heatmap(tags_df)\n",
    "plt.show()"
   ]
  },
  {
   "cell_type": "code",
   "execution_count": 20,
   "metadata": {},
   "outputs": [
    {
     "data": {
      "image/png": "[encoded data removed]",
      "text/plain": [
       "<Figure size 1296x864 with 2 Axes>"
      ]
     },
     "metadata": {
      "needs_background": "light"
     },
     "output_type": "display_data"
    }
   ],
   "source": [
    "# frequent tags\n",
    "# filter the df to get P(t2, t1) > 0.5\n",
    "tags_frequent = tags_df[tags_df>0.5]\n",
    "plt.figure(figsize=(18, 12))\n",
    "sns.heatmap(tags_frequent)\n",
    "plt.show()"
   ]
  },
  {
   "cell_type": "markdown",
   "metadata": {},
   "source": [
    "## 3. Viterbi Algorithm\n",
    "\n",
    "Let's now use the computed probabilities P(w, tag) and P(t2, t1) to assign tags to each word in the document. We'll run through each word w and compute P(tag/w)=P(w/tag).P(tag) for each tag in the tag set, and then assign the tag having the max P(tag/w).\n",
    "\n",
    "We'll store the assigned tags in a list of tuples, similar to the list 'train_tagged_words'. Each tuple will be a (token, assigned_tag). As we progress further in the list, each tag to be assigned will use the tag of the previous token.\n",
    "\n",
    "Note: P(tag|start) = P(tag|'.') "
   ]
  },
  {
   "cell_type": "code",
   "execution_count": 21,
   "metadata": {},
   "outputs": [
    {
     "data": {
      "text/plain": [
       "95574"
      ]
     },
     "execution_count": 21,
     "metadata": {},
     "output_type": "execute_result"
    }
   ],
   "source": [
    "len(train_tagged_words)"
   ]
  },
  {
   "cell_type": "code",
   "execution_count": 22,
   "metadata": {},
   "outputs": [],
   "source": [
    "# Viterbi Heuristic\n",
    "def Viterbi(words, train_bag = train_tagged_words):\n",
    "    state = []\n",
    "    T = list(set([pair[1] for pair in train_bag]))\n",
    "    \n",
    "    for key, word in enumerate(words):\n",
    "        #initialise list of probability column for a given observation\n",
    "        p = [] \n",
    "        for tag in T:\n",
    "            if key == 0:\n",
    "                transition_p = tags_df.loc['.', tag]\n",
    "            else:\n",
    "                transition_p = tags_df.loc[state[-1], tag]\n",
    "                \n",
    "            # compute emission and state probabilities\n",
    "            emission_p = word_given_tag(words[key], tag)[0]/word_given_tag(words[key], tag)[1]\n",
    "            state_probability = emission_p * transition_p    \n",
    "            p.append(state_probability)\n",
    "            \n",
    "        pmax = max(p)\n",
    "        # getting state for which probability is maximum\n",
    "        state_max = T[p.index(pmax)] \n",
    "        state.append(state_max)\n",
    "    return list(zip(words, state))\n",
    "\n"
   ]
  },
  {
   "cell_type": "markdown",
   "metadata": {},
   "source": [
    "## 4. Evaluating on Test Set"
   ]
  },
  {
   "cell_type": "markdown",
   "metadata": {},
   "source": [
    "### Tagging the validation data"
   ]
  },
  {
   "cell_type": "code",
   "execution_count": 23,
   "metadata": {},
   "outputs": [
    {
     "name": "stdout",
     "output_type": "stream",
     "text": [
      "\n",
      "rndom:  [113, 30, 2, 24, 150, 9, 172, 178, 22, 26, 91, 61, 5, 8, 5, 89, 166, 160, 124, 158]\n",
      "\n",
      "test_run:  [[('Like', 'ADP'), ('most', 'ADJ'), ('of', 'ADP'), ('the', 'DET'), ('other', 'ADJ'), ('6,000', 'NUM'), ('churches', 'NOUN'), ('in', 'ADP'), ('Britain', 'NOUN'), ('with', 'ADP'), ('sets', 'NOUN'), ('of', 'ADP'), ('bells', 'NOUN'), (',', '.'), ('St.', 'NOUN'), ('Michael', 'NOUN'), ('once', 'ADV'), ('had', 'VERB'), ('its', 'PRON'), ('own', 'ADJ'), ('``', '.'), ('band', 'NOUN'), (\"''\", '.'), ('of', 'ADP'), ('ringers', 'NOUN'), (',', '.'), ('who', 'PRON'), ('*T*-221', 'X'), ('would', 'VERB'), ('herald', 'VERB'), ('every', 'DET'), ('Sunday', 'NOUN'), ('morning', 'NOUN'), ('and', 'CONJ'), ('evening', 'NOUN'), ('service', 'NOUN'), ('.', '.')], [('--', '.'), ('In', 'ADP'), ('Britain', 'NOUN'), (',', '.'), ('the', 'DET'), ('benchmark', 'NOUN'), ('11', 'NUM'), ('3\\\\/4', 'NUM'), ('%', 'NOUN'), ('bond', 'NOUN'), ('due', 'ADJ'), ('2003\\\\/2007', 'NUM'), ('fell', 'VERB'), ('14\\\\/32', 'NUM'), ('to', 'PRT'), ('111', 'NUM'), ('2\\\\/32', 'NUM'), ('*-1', 'X'), ('to', 'PRT'), ('yield', 'VERB'), ('10.19', 'NUM'), ('%', 'NOUN'), ('.', '.')], [('``', '.'), ('I', 'PRON'), ('never', 'ADV'), ('had', 'VERB'), ('any', 'DET'), ('clients', 'NOUN'), ('at', 'ADP'), ('all', 'DET'), ('.', '.')], [('*', 'X'), ('Do', 'VERB'), (\"n't\", 'ADV'), ('wait', 'VERB'), ('--', '.'), ('a', 'DET'), ('savings', 'NOUN'), ('institution', 'NOUN'), ('needs', 'VERB'), ('your', 'PRON'), ('help', 'NOUN'), ('now', 'ADV'), ('!', '.')], [('For', 'ADP'), ('recipient', 'ADJ'), ('countries', 'NOUN'), ('such', 'ADJ'), ('as', 'ADP'), ('Thailand', 'NOUN'), ('and', 'CONJ'), ('Malaysia', 'NOUN'), (',', '.'), ('the', 'DET'), ('investment', 'NOUN'), ('will', 'VERB'), ('provide', 'VERB'), ('needed', 'ADJ'), ('jobs', 'NOUN'), ('and', 'CONJ'), ('spur', 'VERB'), ('growth', 'NOUN'), ('.', '.')], [('For', 'ADP'), ('fiscal', 'ADJ'), ('1989', 'NUM'), (',', '.'), ('the', 'DET'), ('company', 'NOUN'), ('posted', 'VERB'), ('net', 'NOUN'), ('of', 'ADP'), ('$', '.'), ('734.9', 'NUM'), ('million', 'NUM'), ('*U*', 'X'), (',', '.'), ('or', 'CONJ'), ('$', '.'), ('2.87', 'NUM'), ('*U*', 'X'), ('a', 'DET'), ('share', 'NOUN'), (',', '.'), ('down', 'ADP'), ('from', 'ADP'), ('$', '.'), ('811.9', 'NUM'), ('million', 'NUM'), ('*U*', 'X'), (',', '.'), ('or', 'CONJ'), ('$', '.'), ('3.04', 'NUM'), ('*U*', 'X'), ('a', 'DET'), ('share', 'NOUN'), (',', '.'), ('in', 'ADP'), ('fiscal', 'ADJ'), ('1988', 'NUM'), ('.', '.')], [('He', 'PRON'), ('also', 'ADV'), ('asserted', 'VERB'), ('that', 'ADP'), ('exact', 'ADJ'), ('questions', 'NOUN'), ('were', 'VERB'), (\"n't\", 'ADV'), ('replicated', 'VERB'), ('*-1', 'X'), ('.', '.')], [('Shearson', 'NOUN'), ('also', 'ADV'), ('has', 'VERB'), ('been', 'VERB'), ('an', 'DET'), ('aggressive', 'ADJ'), ('participant', 'NOUN'), ('in', 'ADP'), ('the', 'DET'), ('leveraged', 'ADJ'), ('buy-out', 'NOUN'), ('business', 'NOUN'), ('.', '.')], [('``', '.'), ('It', 'PRON'), ('was', 'VERB'), ('like', 'ADP'), ('someone', 'NOUN'), ('had', 'VERB'), ('turned', 'VERB'), ('a', 'DET'), ('knife', 'NOUN'), ('in', 'ADP'), ('me', 'PRON'), ('.', '.'), (\"''\", '.')], [('The', 'DET'), ('promotion', 'NOUN'), ('helped', 'VERB'), ('Riviera', 'NOUN'), ('sales', 'NOUN'), ('exceed', 'VERB'), ('the', 'DET'), ('division', 'NOUN'), (\"'s\", 'PRT'), ('forecast', 'NOUN'), ('by', 'ADP'), ('more', 'ADJ'), ('than', 'ADP'), ('10', 'NUM'), ('%', 'NOUN'), (',', '.'), ('Buick', 'NOUN'), ('said', 'VERB'), ('0', 'X'), ('*T*-1', 'X'), ('at', 'ADP'), ('the', 'DET'), ('time', 'NOUN'), ('.', '.')], [('Despite', 'ADP'), ('one', 'NUM'), ('of', 'ADP'), ('the', 'DET'), ('most', 'ADV'), ('devastating', 'ADJ'), ('droughts', 'NOUN'), ('on', 'ADP'), ('record', 'NOUN'), (',', '.'), ('net', 'ADJ'), ('cash', 'NOUN'), ('income', 'NOUN'), ('in', 'ADP'), ('the', 'DET'), ('Farm', 'NOUN'), ('Belt', 'NOUN'), ('rose', 'VERB'), ('to', 'PRT'), ('a', 'DET'), ('new', 'ADJ'), ('high', 'NOUN'), ('of', 'ADP'), ('$', '.'), ('59.9', 'NUM'), ('billion', 'NUM'), ('*U*', 'X'), ('last', 'ADJ'), ('year', 'NOUN'), ('.', '.')], [('The', 'DET'), ('other', 'ADJ'), ('has', 'VERB'), ('opposed', 'VERB'), ('a', 'DET'), ('woman', 'NOUN'), (\"'s\", 'PRT'), ('right', 'NOUN'), ('*', 'X'), ('to', 'PRT'), ('choose', 'VERB'), ('.', '.'), (\"''\", '.')], [('In', 'ADP'), ('addition', 'NOUN'), (',', '.'), ('the', 'DET'), ('Cray-3', 'NOUN'), ('will', 'VERB'), ('contain', 'VERB'), ('16', 'NUM'), ('processors', 'NOUN'), ('--', '.'), ('twice', 'ADV'), ('as', 'ADV'), ('many', 'ADJ'), ('as', 'ADP'), ('the', 'DET'), ('largest', 'ADJ'), ('current', 'ADJ'), ('supercomputer', 'NOUN'), ('.', '.')], [('But', 'CONJ'), ('if', 'ADP'), ('Columbia', 'NOUN'), ('could', 'VERB'), ('keep', 'VERB'), ('its', 'PRON'), ('junk', 'NOUN'), ('bonds', 'NOUN'), ('separate', 'ADJ'), ('from', 'ADP'), ('the', 'DET'), ('thrift', 'NOUN'), ('till', 'ADP'), ('they', 'PRON'), ('mature', 'VERB'), ('--', '.'), ('at', 'ADP'), ('full', 'ADJ'), ('value', 'NOUN'), (',', '.'), ('unless', 'ADP'), ('the', 'DET'), ('issuer', 'NOUN'), ('goes', 'VERB'), ('bust', 'NOUN'), ('or', 'CONJ'), ('restructures', 'VERB'), ('--', '.'), ('the', 'DET'), ('junk', 'NOUN'), ('portfolio', 'NOUN'), ('might', 'VERB'), ('do', 'VERB'), ('all', 'ADV'), ('right', 'ADV'), ('.', '.')], [('In', 'ADP'), ('addition', 'NOUN'), (',', '.'), ('the', 'DET'), ('Cray-3', 'NOUN'), ('will', 'VERB'), ('contain', 'VERB'), ('16', 'NUM'), ('processors', 'NOUN'), ('--', '.'), ('twice', 'ADV'), ('as', 'ADV'), ('many', 'ADJ'), ('as', 'ADP'), ('the', 'DET'), ('largest', 'ADJ'), ('current', 'ADJ'), ('supercomputer', 'NOUN'), ('.', '.')], [('*', 'X'), ('Excluding', 'VERB'), ('one-time', 'ADJ'), ('additions', 'NOUN'), ('to', 'PRT'), ('profit', 'NOUN'), ('in', 'ADP'), ('each', 'DET'), ('year', 'NOUN'), (',', '.'), ('earnings', 'NOUN'), ('per', 'ADP'), ('share', 'NOUN'), ('were', 'VERB'), ('$', '.'), ('2.47', 'NUM'), ('*U*', 'X'), (',', '.'), ('up', 'ADV'), ('7.4', 'NUM'), ('%', 'NOUN'), ('from', 'ADP'), ('$', '.'), ('2.30', 'NUM'), ('*U*', 'X'), ('in', 'ADP'), ('fiscal', 'ADJ'), ('1988', 'NUM'), ('.', '.')], [('ENERGY', 'NOUN'), (':', '.'), ('Crude', 'ADJ'), ('oil', 'NOUN'), ('futures', 'NOUN'), ('prices', 'NOUN'), ('increased', 'VERB'), ('in', 'ADP'), ('moderate', 'ADJ'), ('trading', 'NOUN'), (',', '.'), ('but', 'CONJ'), ('much', 'ADJ'), ('of', 'ADP'), ('the', 'DET'), ('action', 'NOUN'), ('was', 'VERB'), ('in', 'ADP'), ('heating', 'NOUN'), ('oil', 'NOUN'), ('.', '.')], [('*-64', 'X'), ('Founded', 'VERB'), ('as', 'ADP'), ('the', 'DET'), ('Examiner', 'NOUN'), ('in', 'ADP'), ('1903', 'NUM'), ('by', 'ADP'), ('Mr.', 'NOUN'), ('Hearst', 'NOUN'), (',', '.'), ('the', 'DET'), ('Herald', 'NOUN'), ('was', 'VERB'), ('crippled', 'VERB'), ('*-64', 'X'), ('by', 'ADP'), ('a', 'DET'), ('bitter', 'ADJ'), (',', '.'), ('decade-long', 'ADJ'), ('strike', 'NOUN'), ('that', 'DET'), ('*T*-1', 'X'), ('began', 'VERB'), ('in', 'ADP'), ('1967', 'NUM'), ('and', 'CONJ'), ('cut', 'VERB'), ('circulation', 'NOUN'), ('in', 'ADP'), ('half', 'DET'), ('.', '.')], [('In', 'ADP'), ('addition', 'NOUN'), (',', '.'), ('a', 'DET'), ('big', 'ADJ'), ('loan', 'NOUN'), ('that', 'ADP'), ('First', 'NOUN'), ('Boston', 'NOUN'), ('made', 'VERB'), ('*T*-2', 'X'), ('to', 'PRT'), ('Ohio', 'NOUN'), ('Mattress', 'NOUN'), ('Co', 'NOUN'), ('.', '.'), ('was', 'VERB'), (\"n't\", 'ADV'), ('repaid', 'VERB'), ('on', 'ADP'), ('time', 'NOUN'), ('when', 'ADV'), ('its', 'PRON'), ('$', '.'), ('450', 'NUM'), ('million', 'NUM'), ('*U*', 'X'), ('junk', 'NOUN'), ('financing', 'NOUN'), ('for', 'ADP'), ('a', 'DET'), ('buy-out', 'NOUN'), ('of', 'ADP'), ('the', 'DET'), ('bedding', 'NOUN'), ('company', 'NOUN'), ('was', 'VERB'), ('withdrawn', 'VERB'), ('*-1', 'X'), ('*T*-3', 'X'), ('.', '.')], [('In', 'ADP'), ('an', 'DET'), ('eight-count', 'ADJ'), ('indictment', 'NOUN'), (',', '.'), ('the', 'DET'), ('government', 'NOUN'), ('has', 'VERB'), ('charged', 'VERB'), ('GAF', 'NOUN'), (',', '.'), ('a', 'DET'), ('Wayne', 'NOUN'), (',', '.'), ('N.J.', 'NOUN'), (',', '.'), ('specialty', 'NOUN'), ('chemical', 'NOUN'), ('maker', 'NOUN'), (',', '.'), ('and', 'CONJ'), ('its', 'PRON'), ('Vice', 'NOUN'), ('Chairman', 'NOUN'), ('James', 'NOUN'), ('T.', 'NOUN'), ('Sherwin', 'NOUN'), ('with', 'ADP'), ('*-2', 'X'), ('attempting', 'VERB'), ('*-1', 'X'), ('to', 'PRT'), ('manipulate', 'VERB'), ('the', 'DET'), ('common', 'ADJ'), ('stock', 'NOUN'), ('of', 'ADP'), ('Union', 'NOUN'), ('Carbide', 'NOUN'), ('Corp.', 'NOUN'), ('in', 'ADP'), ('advance', 'NOUN'), ('of', 'ADP'), ('GAF', 'NOUN'), (\"'s\", 'PRT'), ('planned', 'ADJ'), ('sale', 'NOUN'), ('of', 'ADP'), ('a', 'DET'), ('large', 'ADJ'), ('block', 'NOUN'), ('of', 'ADP'), ('the', 'DET'), ('stock', 'NOUN'), ('in', 'ADP'), ('November', 'NOUN'), ('1986', 'NUM'), ('.', '.')]]\n",
      "\n",
      "Length of test_run:  20\n"
     ]
    }
   ],
   "source": [
    "# Let's test our Viterbi algorithm on a few sample sentences of test dataset\n",
    "\n",
    "random.seed(1234)\n",
    "\n",
    "# choose random 5 sents\n",
    "rndom = [random.randint(1,len(test_set)) for x in range(20)]\n",
    "print('\\nrndom: ',rndom[:20])\n",
    "\n",
    "# list of sents\n",
    "test_run = [test_set[i] for i in rndom]\n",
    "print('\\ntest_run: ',test_run[:20])\n",
    "print('\\nLength of test_run: ',len(test_run))  \n"
   ]
  },
  {
   "cell_type": "code",
   "execution_count": 24,
   "metadata": {},
   "outputs": [
    {
     "name": "stdout",
     "output_type": "stream",
     "text": [
      "\n",
      "test_run_base:  [('Like', 'ADP'), ('most', 'ADJ'), ('of', 'ADP'), ('the', 'DET'), ('other', 'ADJ'), ('6,000', 'NUM'), ('churches', 'NOUN'), ('in', 'ADP'), ('Britain', 'NOUN'), ('with', 'ADP')]\n",
      "\n",
      "Length of test_run_base:  500\n",
      "\n",
      "test_tagged_words:  ['Like', 'most', 'of', 'the', 'other', '6,000', 'churches', 'in', 'Britain', 'with']\n",
      "\n",
      "Length of test_tagged_words:  500\n",
      "\n",
      "Time taken in seconds:  90.97492027282715\n",
      "\n",
      "tagged_seq:  [('Like', 'ADP'), ('most', 'ADJ'), ('of', 'ADP'), ('the', 'DET'), ('other', 'ADJ'), ('6,000', 'NUM'), ('churches', 'NOUN'), ('in', 'ADP'), ('Britain', 'NOUN'), ('with', 'ADP')]\n",
      "\n",
      "Length of tagged_seq:  500\n"
     ]
    }
   ],
   "source": [
    "# list of tagged words\n",
    "test_run_base = [tup for sent in test_run for tup in sent]\n",
    "print('\\ntest_run_base: ',test_run_base[:10])\n",
    "print('\\nLength of test_run_base: ',len(test_run_base))\n",
    "    \n",
    "# list of untagged words\n",
    "test_tagged_words = [tup[0] for sent in test_run for tup in sent]\n",
    "print('\\ntest_tagged_words: ',test_tagged_words[:10])\n",
    "print('\\nLength of test_tagged_words: ',len(test_tagged_words))\n",
    "\n",
    "start = time.time()\n",
    "tagged_seq = Viterbi(test_tagged_words)\n",
    "end = time.time()\n",
    "\n",
    "difference = end-start\n",
    "\n",
    "print(\"\\nTime taken in seconds: \", difference)\n",
    "print('\\ntagged_seq: ',tagged_seq[:10])\n",
    "print('\\nLength of tagged_seq: ',len(tagged_seq))\n",
    "\n",
    "# accuracy\n",
    "check = [i for i, j in zip(tagged_seq, test_run_base) if i == j]\n",
    "accuracy = len(check)/len(tagged_seq)"
   ]
  },
  {
   "cell_type": "markdown",
   "metadata": {},
   "source": [
    "### Tag validation data - 5% data"
   ]
  },
  {
   "cell_type": "code",
   "execution_count": 25,
   "metadata": {},
   "outputs": [
    {
     "name": "stdout",
     "output_type": "stream",
     "text": [
      "\n",
      "Viterbi Algorithm Accuracy on 5% validation data:  90.60000000000001\n"
     ]
    }
   ],
   "source": [
    "print('\\nViterbi Algorithm Accuracy on 5% validation data: ',accuracy*100)"
   ]
  },
  {
   "cell_type": "markdown",
   "metadata": {},
   "source": [
    "#### Let's check the incorrectly tagged words"
   ]
  },
  {
   "cell_type": "code",
   "execution_count": 26,
   "metadata": {},
   "outputs": [],
   "source": [
    "incorrect_tagged_cases = [j for i, j in enumerate(zip(tagged_seq, test_run_base)) if j[0]!=j[1]]"
   ]
  },
  {
   "cell_type": "code",
   "execution_count": 27,
   "metadata": {},
   "outputs": [
    {
     "data": {
      "text/plain": [
       "[(('*T*-221', 'DET'), ('*T*-221', 'X')),\n",
       " (('herald', 'DET'), ('herald', 'VERB')),\n",
       " (('2003\\\\/2007', 'DET'), ('2003\\\\/2007', 'NUM')),\n",
       " (('14\\\\/32', 'DET'), ('14\\\\/32', 'NUM')),\n",
       " (('10.19', 'DET'), ('10.19', 'NUM')),\n",
       " (('help', 'VERB'), ('help', 'NOUN')),\n",
       " (('needed', 'VERB'), ('needed', 'ADJ')),\n",
       " (('net', 'ADJ'), ('net', 'NOUN')),\n",
       " (('734.9', 'DET'), ('734.9', 'NUM')),\n",
       " (('down', 'ADV'), ('down', 'ADP')),\n",
       " (('811.9', 'DET'), ('811.9', 'NUM')),\n",
       " (('3.04', 'DET'), ('3.04', 'NUM')),\n",
       " (('that', 'DET'), ('that', 'ADP')),\n",
       " (('replicated', 'DET'), ('replicated', 'VERB')),\n",
       " (('participant', 'DET'), ('participant', 'NOUN')),\n",
       " (('knife', 'DET'), ('knife', 'NOUN')),\n",
       " (('forecast', 'VERB'), ('forecast', 'NOUN')),\n",
       " (('most', 'ADJ'), ('most', 'ADV')),\n",
       " (('devastating', 'VERB'), ('devastating', 'ADJ')),\n",
       " (('high', 'ADJ'), ('high', 'NOUN')),\n",
       " (('twice', 'DET'), ('twice', 'ADV')),\n",
       " (('as', 'ADP'), ('as', 'ADV')),\n",
       " (('till', 'DET'), ('till', 'ADP')),\n",
       " (('issuer', 'DET'), ('issuer', 'NOUN')),\n",
       " (('bust', 'DET'), ('bust', 'NOUN')),\n",
       " (('restructures', 'DET'), ('restructures', 'VERB')),\n",
       " (('all', 'DET'), ('all', 'ADV')),\n",
       " (('right', 'NOUN'), ('right', 'ADV')),\n",
       " (('twice', 'DET'), ('twice', 'ADV')),\n",
       " (('as', 'ADP'), ('as', 'ADV')),\n",
       " (('2.47', 'DET'), ('2.47', 'NUM')),\n",
       " (('7.4', 'DET'), ('7.4', 'NUM')),\n",
       " (('2.30', 'DET'), ('2.30', 'NUM')),\n",
       " (('1903', 'DET'), ('1903', 'NUM')),\n",
       " (('crippled', 'DET'), ('crippled', 'VERB')),\n",
       " (('decade-long', 'DET'), ('decade-long', 'ADJ')),\n",
       " (('that', 'ADP'), ('that', 'DET')),\n",
       " (('1967', 'DET'), ('1967', 'NUM')),\n",
       " (('Mattress', 'DET'), ('Mattress', 'NOUN')),\n",
       " (('bedding', 'DET'), ('bedding', 'NOUN')),\n",
       " (('eight-count', 'DET'), ('eight-count', 'ADJ')),\n",
       " (('indictment', 'DET'), ('indictment', 'NOUN')),\n",
       " (('Vice', 'DET'), ('Vice', 'NOUN')),\n",
       " (('Sherwin', 'DET'), ('Sherwin', 'NOUN')),\n",
       " (('manipulate', 'DET'), ('manipulate', 'VERB')),\n",
       " (('Carbide', 'DET'), ('Carbide', 'NOUN')),\n",
       " (('planned', 'VERB'), ('planned', 'ADJ'))]"
      ]
     },
     "execution_count": 27,
     "metadata": {},
     "output_type": "execute_result"
    }
   ],
   "source": [
    "incorrect_tagged_cases"
   ]
  },
  {
   "cell_type": "code",
   "execution_count": 28,
   "metadata": {},
   "outputs": [
    {
     "name": "stdout",
     "output_type": "stream",
     "text": [
      "Total Incorrect Tagged Words : 47\n"
     ]
    }
   ],
   "source": [
    "print(\"Total Incorrect Tagged Words :\", len(incorrect_tagged_cases))"
   ]
  },
  {
   "cell_type": "markdown",
   "metadata": {},
   "source": [
    "#### Unknown words\n",
    "#### The unknown words have been tagged as 'NUM' as 'NUM' is the first tag in tag list and is assigned if unknown word is encountered (emission probability =0)."
   ]
  },
  {
   "cell_type": "markdown",
   "metadata": {},
   "source": [
    "### Viterbi Modification-Technique I"
   ]
  },
  {
   "cell_type": "markdown",
   "metadata": {},
   "source": [
    "#### Assign max probabilities based on occurence to target unknown words "
   ]
  },
  {
   "cell_type": "markdown",
   "metadata": {},
   "source": [
    "#### Adding Tag occurance probability weights: we will apply weights based on the probability of tag occurance to the transition probabilities of tags and then use the resulting probability for predicting unknown words."
   ]
  },
  {
   "cell_type": "code",
   "execution_count": 29,
   "metadata": {},
   "outputs": [
    {
     "data": {
      "text/plain": [
       "12"
      ]
     },
     "execution_count": 29,
     "metadata": {},
     "output_type": "execute_result"
    }
   ],
   "source": [
    "tags = set([pair[1] for pair in train_tagged_words])\n",
    "len(tags)"
   ]
  },
  {
   "cell_type": "code",
   "execution_count": 30,
   "metadata": {},
   "outputs": [
    {
     "name": "stdout",
     "output_type": "stream",
     "text": [
      "Probability based tagger\n"
     ]
    },
    {
     "data": {
      "text/plain": [
       "[('DET', 0.08697972251867662),\n",
       " ('CONJ', 0.02254797329817733),\n",
       " ('NOUN', 0.28683533178479503),\n",
       " ('ADJ', 0.06366794316445895),\n",
       " ('.', 0.11634963483792664),\n",
       " ('X', 0.06547805888630799),\n",
       " ('NUM', 0.035302488124385294),\n",
       " ('PRT', 0.031755498357293827),\n",
       " ('ADP', 0.09782995375311278),\n",
       " ('PRON', 0.027214514407684097),\n",
       " ('VERB', 0.13463912779626258),\n",
       " ('ADV', 0.03139975307091887)]"
      ]
     },
     "execution_count": 30,
     "metadata": {},
     "output_type": "execute_result"
    }
   ],
   "source": [
    "# lets create a list containing tuples of POS tags and POS tag occurance probability, based on training data\n",
    "print('Probability based tagger')\n",
    "tag_prob = []\n",
    "total_tag = len([tag for word,tag in train_tagged_words])\n",
    "tags = set([pair[1] for pair in train_tagged_words])\n",
    "for t in tags:\n",
    "    each_tag = [tag for word,tag in train_tagged_words if tag==t]\n",
    "    tag_prob.append((t,len(each_tag)/total_tag))\n",
    "\n",
    "tag_prob"
   ]
  },
  {
   "cell_type": "code",
   "execution_count": 31,
   "metadata": {},
   "outputs": [],
   "source": [
    "# use transition probability of tags when emission probability is zero (in case of unknown words)\n",
    "\n",
    "def Viterbi_Max_Prob(words, train_bag = train_tagged_words):\n",
    "    state = []\n",
    "    T = list(set([pair[1] for pair in train_bag]))\n",
    "    \n",
    "    for key, word in enumerate(words):\n",
    "        #initialise list of probability column for a given observation\n",
    "        p = [] \n",
    "        p_transition =[] # list for storing transition probabilities\n",
    "       \n",
    "        for tag in T:\n",
    "            if key == 0:\n",
    "                transition_p = tags_df.loc['.', tag]\n",
    "            else:\n",
    "                transition_p = tags_df.loc[state[-1], tag]\n",
    "                \n",
    "            # compute emission and state probabilities\n",
    "            emission_p = word_given_tag(words[key], tag)[0]/word_given_tag(words[key], tag)[1]\n",
    "            state_probability = emission_p * transition_p    \n",
    "            p.append(state_probability)\n",
    "            \n",
    "            # find POS tag occurance probability\n",
    "            tag_p = [pair[1] for pair in tag_prob if pair[0]==tag ]\n",
    "            \n",
    "            # calculate the transition prob weighted by tag occurance probability.\n",
    "            transition_p = tag_p[0]*transition_p             \n",
    "            p_transition.append(transition_p)\n",
    "            \n",
    "        pmax = max(p)\n",
    "        state_max = T[p.index(pmax)] \n",
    "        \n",
    "      \n",
    "        # if probability is zero (unknown word) then use weighted transition probability\n",
    "        if(pmax==0):\n",
    "            pmax = max(p_transition)\n",
    "            state_max = T[p_transition.index(pmax)]                 \n",
    "                           \n",
    "        else:\n",
    "            state_max = T[p.index(pmax)] \n",
    "        \n",
    "        state.append(state_max)\n",
    "    return list(zip(words, state))"
   ]
  },
  {
   "cell_type": "markdown",
   "metadata": {},
   "source": [
    "#### Test accuracy on validation data "
   ]
  },
  {
   "cell_type": "code",
   "execution_count": 32,
   "metadata": {},
   "outputs": [
    {
     "name": "stdout",
     "output_type": "stream",
     "text": [
      "Test untagged words  ['Like', 'most', 'of', 'the', 'other', '6,000', 'churches', 'in', 'Britain', 'with']\n",
      "\n",
      "Length untagged words  500\n",
      "\n",
      "Tagged Sequence:  [('Like', 'ADP'), ('most', 'ADJ'), ('of', 'ADP'), ('the', 'DET'), ('other', 'ADJ'), ('6,000', 'NUM'), ('churches', 'NOUN'), ('in', 'ADP'), ('Britain', 'NOUN'), ('with', 'ADP'), ('sets', 'NOUN'), ('of', 'ADP'), ('bells', 'NOUN'), (',', '.'), ('St.', 'NOUN'), ('Michael', 'NOUN'), ('once', 'ADV'), ('had', 'VERB'), ('its', 'PRON'), ('own', 'ADJ')]\n",
      "\n",
      " Length of tagged sequence:  500\n",
      "\n",
      "Time taken by modified rule based Viterbi tagger in seconds:  90.94329261779785\n",
      "\n",
      "Length of check array:  463\n"
     ]
    }
   ],
   "source": [
    "print('Test untagged words ',test_tagged_words[:10])\n",
    "print('\\nLength untagged words ',len(test_tagged_words))\n",
    "\n",
    "start = time.time()\n",
    "tagged_seq = Viterbi_Max_Prob(test_tagged_words)\n",
    "end = time.time()\n",
    "\n",
    "print('\\nTagged Sequence: ',tagged_seq[:20])\n",
    "print('\\n Length of tagged sequence: ',len(tagged_seq))\n",
    "\n",
    "difference = end-start\n",
    " \n",
    "print(\"\\nTime taken by modified rule based Viterbi tagger in seconds: \", difference)\n",
    " \n",
    "\n",
    "check = [i for i, j in zip(tagged_seq, test_run_base) if i == j] \n",
    "print('\\nLength of check array: ',len(check))"
   ]
  },
  {
   "cell_type": "code",
   "execution_count": 33,
   "metadata": {},
   "outputs": [
    {
     "name": "stdout",
     "output_type": "stream",
     "text": [
      "\n",
      "Modification Technique 1 - Max transition probability - Viterbi Algorithm Accuracy:  92.60000000000001\n"
     ]
    }
   ],
   "source": [
    "# accuracy\n",
    "accuracy_rule_based = len(check)/len(tagged_seq)\n",
    "\n",
    "print('\\nModification Technique 1 - Max transition probability - Viterbi Algorithm Accuracy: ',accuracy_rule_based*100)"
   ]
  },
  {
   "cell_type": "markdown",
   "metadata": {},
   "source": [
    "#### Accuracy has improved from 88% to 92% as shown above"
   ]
  },
  {
   "cell_type": "code",
   "execution_count": 34,
   "metadata": {},
   "outputs": [],
   "source": [
    "incorrect_tagged_cases = [j for i, j in enumerate(zip(tagged_seq, test_run_base)) if j[0]!=j[1]]"
   ]
  },
  {
   "cell_type": "code",
   "execution_count": 35,
   "metadata": {},
   "outputs": [
    {
     "data": {
      "text/plain": [
       "[(('*T*-221', 'VERB'), ('*T*-221', 'X')),\n",
       " (('herald', 'NOUN'), ('herald', 'VERB')),\n",
       " (('2003\\\\/2007', 'NOUN'), ('2003\\\\/2007', 'NUM')),\n",
       " (('14\\\\/32', 'NOUN'), ('14\\\\/32', 'NUM')),\n",
       " (('10.19', 'NOUN'), ('10.19', 'NUM')),\n",
       " (('help', 'VERB'), ('help', 'NOUN')),\n",
       " (('needed', 'VERB'), ('needed', 'ADJ')),\n",
       " (('net', 'ADJ'), ('net', 'NOUN')),\n",
       " (('734.9', 'NOUN'), ('734.9', 'NUM')),\n",
       " (('down', 'ADV'), ('down', 'ADP')),\n",
       " (('811.9', 'NOUN'), ('811.9', 'NUM')),\n",
       " (('3.04', 'NOUN'), ('3.04', 'NUM')),\n",
       " (('that', 'DET'), ('that', 'ADP')),\n",
       " (('forecast', 'VERB'), ('forecast', 'NOUN')),\n",
       " (('most', 'ADJ'), ('most', 'ADV')),\n",
       " (('devastating', 'VERB'), ('devastating', 'ADJ')),\n",
       " (('high', 'ADJ'), ('high', 'NOUN')),\n",
       " (('twice', 'NOUN'), ('twice', 'ADV')),\n",
       " (('as', 'ADP'), ('as', 'ADV')),\n",
       " (('till', 'NOUN'), ('till', 'ADP')),\n",
       " (('restructures', 'NOUN'), ('restructures', 'VERB')),\n",
       " (('all', 'DET'), ('all', 'ADV')),\n",
       " (('right', 'NOUN'), ('right', 'ADV')),\n",
       " (('twice', 'NOUN'), ('twice', 'ADV')),\n",
       " (('as', 'ADP'), ('as', 'ADV')),\n",
       " (('2.47', 'NOUN'), ('2.47', 'NUM')),\n",
       " (('7.4', 'VERB'), ('7.4', 'NUM')),\n",
       " (('2.30', 'NOUN'), ('2.30', 'NUM')),\n",
       " (('1903', 'NOUN'), ('1903', 'NUM')),\n",
       " (('crippled', 'NOUN'), ('crippled', 'VERB')),\n",
       " (('decade-long', 'NOUN'), ('decade-long', 'ADJ')),\n",
       " (('that', 'ADP'), ('that', 'DET')),\n",
       " (('1967', 'NOUN'), ('1967', 'NUM')),\n",
       " (('eight-count', 'NOUN'), ('eight-count', 'ADJ')),\n",
       " (('Vice', 'VERB'), ('Vice', 'NOUN')),\n",
       " (('manipulate', 'NOUN'), ('manipulate', 'VERB')),\n",
       " (('planned', 'VERB'), ('planned', 'ADJ'))]"
      ]
     },
     "execution_count": 35,
     "metadata": {},
     "output_type": "execute_result"
    }
   ],
   "source": [
    "incorrect_tagged_cases"
   ]
  },
  {
   "cell_type": "markdown",
   "metadata": {},
   "source": [
    "#### No of incorrectly tagged words have significantly reduced from 51 to 35"
   ]
  },
  {
   "cell_type": "code",
   "execution_count": 36,
   "metadata": {},
   "outputs": [
    {
     "name": "stdout",
     "output_type": "stream",
     "text": [
      "Total Incorrect Tagged Words : 37\n"
     ]
    }
   ],
   "source": [
    "print(\"Total Incorrect Tagged Words :\", len(incorrect_tagged_cases))"
   ]
  },
  {
   "cell_type": "markdown",
   "metadata": {},
   "source": [
    "### Viterbi Modification-Technique II"
   ]
  },
  {
   "cell_type": "markdown",
   "metadata": {},
   "source": [
    "### Lexicon Tagger"
   ]
  },
  {
   "cell_type": "markdown",
   "metadata": {},
   "source": [
    "#### Unigram Tagger"
   ]
  },
  {
   "cell_type": "code",
   "execution_count": 37,
   "metadata": {},
   "outputs": [
    {
     "name": "stdout",
     "output_type": "stream",
     "text": [
      "The accuracy of the Unigram Tagger is - 90.98392787142298\n"
     ]
    }
   ],
   "source": [
    "unigram_tagger = nltk.UnigramTagger(train_set)\n",
    "accuracy_unigram_tagger = unigram_tagger.evaluate(test_set)\n",
    "print(\"The accuracy of the Unigram Tagger is -\", accuracy_unigram_tagger*100)"
   ]
  },
  {
   "cell_type": "markdown",
   "metadata": {},
   "source": [
    "#### Bigram Tagger"
   ]
  },
  {
   "cell_type": "code",
   "execution_count": 38,
   "metadata": {},
   "outputs": [
    {
     "name": "stdout",
     "output_type": "stream",
     "text": [
      "The accuracy of the Bigram Tagger is - 0.1826734613876911\n"
     ]
    }
   ],
   "source": [
    "bigram_tagger = nltk.BigramTagger(train_set)\n",
    "accuracy_bigram_tagger = bigram_tagger.evaluate(test_set)\n",
    "print(\"The accuracy of the Bigram Tagger is -\", accuracy_bigram_tagger)"
   ]
  },
  {
   "cell_type": "markdown",
   "metadata": {},
   "source": [
    "#### Unigram's accuracy is better, so we will go with Unigram from Lexicon based."
   ]
  },
  {
   "cell_type": "code",
   "execution_count": 39,
   "metadata": {},
   "outputs": [],
   "source": [
    "# specify patterns for tagging\n",
    "patterns = [    \n",
    "    (r'.*ing$', 'VERB'),              # verb\n",
    "    (r'^([A-Z]+)$','NOUN'),            # All capital letters NOUN \n",
    "    (r'.*ed$', 'VERB'),               # past tense \n",
    "    (r'.*es$', 'VERB'),               # verb   \n",
    "    (r'.*ous$', 'ADJ'),               # adjective\n",
    "    (r'^-?[0-9]+(.[0-9]+)?$', 'NUM'), # cardinal numbers\n",
    "    (r'.*', 'NOUN')                   # nouns\n",
    "]\n",
    " \n",
    "# rule based tagger\n",
    "rule_based_tagger = nltk.RegexpTagger(patterns)"
   ]
  },
  {
   "cell_type": "markdown",
   "metadata": {},
   "source": [
    "#### Modified Viterbi to include Lexicon and Rule based tagger in it"
   ]
  },
  {
   "cell_type": "code",
   "execution_count": 40,
   "metadata": {},
   "outputs": [],
   "source": [
    "# building the train vocabulary to a set\n",
    "training_vocabulary_set = set(tokens)"
   ]
  },
  {
   "cell_type": "code",
   "execution_count": 41,
   "metadata": {},
   "outputs": [],
   "source": [
    "# A unigram tagger backed off by a rule based tagger.\n",
    "\n",
    "def unigram_tagger(word, train_set = train_set):    \n",
    "    \n",
    "    # trigram backed up by the regex tagger\n",
    "    unigram_regex_tagger = nltk.UnigramTagger(train_set, backoff = rule_based_tagger)\n",
    "    return unigram_regex_tagger.tag_sents([[(word)]])"
   ]
  },
  {
   "cell_type": "code",
   "execution_count": 42,
   "metadata": {},
   "outputs": [],
   "source": [
    "# viterbi with handling for unknown words from regex tagger\n",
    "\n",
    "def Viterbi_Unigram_Tagger(words, train_bag = train_tagged_words):\n",
    "    state = []\n",
    "    T = list(set([pair[1] for pair in train_bag]))\n",
    "    \n",
    "    for key, word in enumerate(words):        \n",
    "        if word not in training_vocabulary_set:\n",
    "            # for unknown words use unigram tagger backed by rule based\n",
    "            unk_word_tag=unigram_tagger(word)\n",
    "            for sent in unk_word_tag:\n",
    "                for tup in sent:\n",
    "                    state.append(tup[1])\n",
    "        # rest remains same            \n",
    "        else:            \n",
    "            p = [] \n",
    "            for tag in T:\n",
    "                if key == 0:\n",
    "                    transition_p = tags_df.loc['.', tag]\n",
    "                else:\n",
    "                    transition_p = tags_df.loc[state[-1], tag]\n",
    "                \n",
    "            # compute emission and state probabilities\n",
    "                emission_p = word_given_tag(words[key], tag)[0]/word_given_tag(words[key], tag)[1]\n",
    "                state_probability = emission_p * transition_p    \n",
    "                p.append(state_probability)\n",
    "            \n",
    "            pmax = max(p)\n",
    "            # getting state for which probability is maximum\n",
    "            state_max = T[p.index(pmax)] \n",
    "            state.append(state_max)\n",
    "            \n",
    "    return list(zip(words, state))"
   ]
  },
  {
   "cell_type": "code",
   "execution_count": 43,
   "metadata": {},
   "outputs": [
    {
     "name": "stdout",
     "output_type": "stream",
     "text": [
      "Lexicon Rule based tagger\n",
      "Test untagged words  ['Like', 'most', 'of', 'the', 'other', '6,000', 'churches', 'in', 'Britain', 'with']\n",
      "\n",
      "Length untagged words  500\n",
      "\n",
      "Tagged Sequence:  [('Like', 'ADP'), ('most', 'ADJ'), ('of', 'ADP'), ('the', 'DET'), ('other', 'ADJ'), ('6,000', 'NUM'), ('churches', 'NOUN'), ('in', 'ADP'), ('Britain', 'NOUN'), ('with', 'ADP'), ('sets', 'NOUN'), ('of', 'ADP'), ('bells', 'NOUN'), (',', '.'), ('St.', 'NOUN'), ('Michael', 'NOUN'), ('once', 'ADV'), ('had', 'VERB'), ('its', 'PRON'), ('own', 'ADJ')]\n",
      "\n",
      "Length of tagged sequence:  500\n",
      "\n",
      "Time taken by modified rule based Viterbi tagger in seconds:  119.36264657974243\n",
      "\n",
      "Length of check array:  474\n"
     ]
    }
   ],
   "source": [
    "print('Lexicon Rule based tagger')\n",
    "print('Test untagged words ',test_tagged_words[:10])\n",
    "print('\\nLength untagged words ',len(test_tagged_words))\n",
    "\n",
    "start = time.time()\n",
    "tagged_seq = Viterbi_Unigram_Tagger(test_tagged_words)\n",
    "end = time.time()\n",
    "\n",
    "print('\\nTagged Sequence: ',tagged_seq[:20])\n",
    "print('\\nLength of tagged sequence: ',len(tagged_seq))\n",
    "\n",
    "difference = end-start\n",
    " \n",
    "print(\"\\nTime taken by modified rule based Viterbi tagger in seconds: \", difference)\n",
    " \n",
    "check = [i for i, j in zip(tagged_seq, test_run_base) if i == j] \n",
    "print('\\nLength of check array: ',len(check))"
   ]
  },
  {
   "cell_type": "code",
   "execution_count": 44,
   "metadata": {},
   "outputs": [
    {
     "name": "stdout",
     "output_type": "stream",
     "text": [
      "\n",
      "Modification Technique 2 - Lexicon backed by Rule based - Viterbi Algorithm Accuracy:  94.8\n"
     ]
    }
   ],
   "source": [
    "# accuracy\n",
    "accuracy_lexicon_rule_based = len(check)/len(tagged_seq)\n",
    "\n",
    "print('\\nModification Technique 2 - Lexicon backed by Rule based - Viterbi Algorithm Accuracy: ',accuracy_lexicon_rule_based*100)"
   ]
  },
  {
   "cell_type": "markdown",
   "metadata": {},
   "source": [
    "#### Accuracy has improved from 92 to 93% as shown above"
   ]
  },
  {
   "cell_type": "code",
   "execution_count": 45,
   "metadata": {},
   "outputs": [],
   "source": [
    "incorrect_tagged_cases = [j for i, j in enumerate(zip(tagged_seq, test_run_base)) if j[0]!=j[1]]"
   ]
  },
  {
   "cell_type": "code",
   "execution_count": 46,
   "metadata": {},
   "outputs": [
    {
     "data": {
      "text/plain": [
       "[(('*T*-221', 'NOUN'), ('*T*-221', 'X')),\n",
       " (('herald', 'NOUN'), ('herald', 'VERB')),\n",
       " (('2003\\\\/2007', 'NOUN'), ('2003\\\\/2007', 'NUM')),\n",
       " (('14\\\\/32', 'NOUN'), ('14\\\\/32', 'NUM')),\n",
       " (('help', 'VERB'), ('help', 'NOUN')),\n",
       " (('needed', 'VERB'), ('needed', 'ADJ')),\n",
       " (('net', 'ADJ'), ('net', 'NOUN')),\n",
       " (('down', 'ADV'), ('down', 'ADP')),\n",
       " (('that', 'DET'), ('that', 'ADP')),\n",
       " (('forecast', 'VERB'), ('forecast', 'NOUN')),\n",
       " (('most', 'ADJ'), ('most', 'ADV')),\n",
       " (('devastating', 'VERB'), ('devastating', 'ADJ')),\n",
       " (('high', 'ADJ'), ('high', 'NOUN')),\n",
       " (('twice', 'NOUN'), ('twice', 'ADV')),\n",
       " (('as', 'ADP'), ('as', 'ADV')),\n",
       " (('till', 'NOUN'), ('till', 'ADP')),\n",
       " (('all', 'DET'), ('all', 'ADV')),\n",
       " (('right', 'NOUN'), ('right', 'ADV')),\n",
       " (('twice', 'NOUN'), ('twice', 'ADV')),\n",
       " (('as', 'ADP'), ('as', 'ADV')),\n",
       " (('decade-long', 'NOUN'), ('decade-long', 'ADJ')),\n",
       " (('that', 'ADP'), ('that', 'DET')),\n",
       " (('bedding', 'VERB'), ('bedding', 'NOUN')),\n",
       " (('eight-count', 'NOUN'), ('eight-count', 'ADJ')),\n",
       " (('manipulate', 'NOUN'), ('manipulate', 'VERB')),\n",
       " (('planned', 'VERB'), ('planned', 'ADJ'))]"
      ]
     },
     "execution_count": 46,
     "metadata": {},
     "output_type": "execute_result"
    }
   ],
   "source": [
    "incorrect_tagged_cases"
   ]
  },
  {
   "cell_type": "code",
   "execution_count": 47,
   "metadata": {},
   "outputs": [
    {
     "name": "stdout",
     "output_type": "stream",
     "text": [
      "Total Incorrect Tagged Words : 26\n"
     ]
    }
   ],
   "source": [
    "print(\"Total Incorrect Tagged Words :\", len(incorrect_tagged_cases))"
   ]
  },
  {
   "cell_type": "markdown",
   "metadata": {},
   "source": [
    "#### No of incorrectly tagged words have reduced from 35 to 32"
   ]
  },
  {
   "cell_type": "markdown",
   "metadata": {},
   "source": [
    "### Evaluating tagging on sample 'Test_sentences.txt' file"
   ]
  },
  {
   "cell_type": "markdown",
   "metadata": {},
   "source": [
    "### Test accuracy on validation data"
   ]
  },
  {
   "cell_type": "code",
   "execution_count": 48,
   "metadata": {},
   "outputs": [
    {
     "name": "stdout",
     "output_type": "stream",
     "text": [
      "File read.\n",
      "\n",
      "Length of text file:  993\n"
     ]
    }
   ],
   "source": [
    "f = open('Test_sentences.txt')\n",
    "text = f.read()\n",
    "f.close()\n",
    "print('File read.')\n",
    "print('\\nLength of text file: ',len(text))"
   ]
  },
  {
   "cell_type": "code",
   "execution_count": 49,
   "metadata": {},
   "outputs": [
    {
     "name": "stdout",
     "output_type": "stream",
     "text": [
      "sample_test_sent:  ['Android is a mobile operating system developed by Google.', 'Android has been the best-selling OS worldwide on smartphones since 2011 and on tablets since 2013.', \"Google and Twitter made a deal in 2015 that gave Google access to Twitter's firehose.\", 'Twitter is an online news and social networking service on which users post and interact with messages known as tweets.', 'Before entering politics, Donald Trump was a domineering businessman and a television personality.', 'The 2018 FIFA World Cup is the 21st FIFA World Cup, an international football tournament contested once every four years.', 'This is the first World Cup to be held in Eastern Europe and the 11th time that it has been held in Europe.', 'Show me the cheapest round trips from Dallas to Atlanta', 'I would like to see flights from Denver to Philadelphia.', 'Show me the price of the flights leaving Atlanta at about 3 in the afternoon and arriving in San Francisco.', 'NASA invited social media users to experience the launch of ICESAT-2 Satellite.']\n",
      "\n",
      "Length of sample_test_sent:  11\n"
     ]
    }
   ],
   "source": [
    "sample_test_sent = text.splitlines()\n",
    "print('sample_test_sent: ', sample_test_sent)\n",
    "print('\\nLength of sample_test_sent: ',len(sample_test_sent))"
   ]
  },
  {
   "cell_type": "code",
   "execution_count": 50,
   "metadata": {},
   "outputs": [
    {
     "name": "stdout",
     "output_type": "stream",
     "text": [
      "sample_test_words:  ['Android', 'is', 'a', 'mobile', 'operating', 'system', 'developed', 'by', 'Google.', 'Android']\n",
      "\n",
      "Length of sample_test_words:  168\n"
     ]
    }
   ],
   "source": [
    "# list of untagged words\n",
    "sample_test_words = [word for sent in sample_test_sent for word in sent.split()]\n",
    "print('sample_test_words: ', sample_test_words[:10])\n",
    "print('\\nLength of sample_test_words: ',len(sample_test_words))"
   ]
  },
  {
   "cell_type": "markdown",
   "metadata": {},
   "source": [
    "### Test sample test data - 'Test_sentences.txt' with Viterbi"
   ]
  },
  {
   "cell_type": "code",
   "execution_count": 51,
   "metadata": {},
   "outputs": [
    {
     "name": "stdout",
     "output_type": "stream",
     "text": [
      "Time taken in seconds:  33.82603311538696\n",
      "\n",
      "Tagged Sequence:  [('Android', 'DET'), ('is', 'VERB'), ('a', 'DET'), ('mobile', 'ADJ'), ('operating', 'NOUN'), ('system', 'NOUN'), ('developed', 'VERB'), ('by', 'ADP'), ('Google.', 'DET'), ('Android', 'DET'), ('has', 'VERB'), ('been', 'VERB'), ('the', 'DET'), ('best-selling', 'ADJ'), ('OS', 'DET'), ('worldwide', 'DET'), ('on', 'ADP'), ('smartphones', 'DET'), ('since', 'ADP'), ('2011', 'DET'), ('and', 'CONJ'), ('on', 'ADP'), ('tablets', 'NOUN'), ('since', 'ADP'), ('2013.', 'DET'), ('Google', 'DET'), ('and', 'CONJ'), ('Twitter', 'DET'), ('made', 'VERB'), ('a', 'DET'), ('deal', 'NOUN'), ('in', 'ADP'), ('2015', 'DET'), ('that', 'ADP'), ('gave', 'VERB'), ('Google', 'DET'), ('access', 'NOUN'), ('to', 'PRT'), (\"Twitter's\", 'DET'), ('firehose.', 'DET'), ('Twitter', 'DET'), ('is', 'VERB'), ('an', 'DET'), ('online', 'DET'), ('news', 'NOUN'), ('and', 'CONJ'), ('social', 'ADJ'), ('networking', 'NOUN'), ('service', 'NOUN'), ('on', 'ADP'), ('which', 'DET'), ('users', 'NOUN'), ('post', 'NOUN'), ('and', 'CONJ'), ('interact', 'DET'), ('with', 'ADP'), ('messages', 'DET'), ('known', 'VERB'), ('as', 'ADP'), ('tweets.', 'DET'), ('Before', 'ADP'), ('entering', 'VERB'), ('politics,', 'DET'), ('Donald', 'NOUN'), ('Trump', 'NOUN'), ('was', 'VERB'), ('a', 'DET'), ('domineering', 'DET'), ('businessman', 'NOUN'), ('and', 'CONJ'), ('a', 'DET'), ('television', 'NOUN'), ('personality.', 'DET'), ('The', 'DET'), ('2018', 'DET'), ('FIFA', 'DET'), ('World', 'NOUN'), ('Cup', 'DET'), ('is', 'VERB'), ('the', 'DET'), ('21st', 'DET'), ('FIFA', 'DET'), ('World', 'NOUN'), ('Cup,', 'DET'), ('an', 'DET'), ('international', 'ADJ'), ('football', 'NOUN'), ('tournament', 'DET'), ('contested', 'DET'), ('once', 'ADV'), ('every', 'DET'), ('four', 'NUM'), ('years.', 'DET'), ('This', 'DET'), ('is', 'VERB'), ('the', 'DET'), ('first', 'ADJ'), ('World', 'NOUN'), ('Cup', 'DET'), ('to', 'PRT'), ('be', 'VERB'), ('held', 'VERB'), ('in', 'ADP'), ('Eastern', 'NOUN'), ('Europe', 'NOUN'), ('and', 'CONJ'), ('the', 'DET'), ('11th', 'ADJ'), ('time', 'NOUN'), ('that', 'ADP'), ('it', 'PRON'), ('has', 'VERB'), ('been', 'VERB'), ('held', 'VERB'), ('in', 'ADP'), ('Europe.', 'DET'), ('Show', 'NOUN'), ('me', 'PRON'), ('the', 'DET'), ('cheapest', 'ADJ'), ('round', 'NOUN'), ('trips', 'DET'), ('from', 'ADP'), ('Dallas', 'NOUN'), ('to', 'PRT'), ('Atlanta', 'NOUN'), ('I', 'PRON'), ('would', 'VERB'), ('like', 'ADP'), ('to', 'PRT'), ('see', 'VERB'), ('flights', 'NOUN'), ('from', 'ADP'), ('Denver', 'NOUN'), ('to', 'PRT'), ('Philadelphia.', 'DET'), ('Show', 'NOUN'), ('me', 'PRON'), ('the', 'DET'), ('price', 'NOUN'), ('of', 'ADP'), ('the', 'DET'), ('flights', 'NOUN'), ('leaving', 'VERB'), ('Atlanta', 'NOUN'), ('at', 'ADP'), ('about', 'ADP'), ('3', 'NUM'), ('in', 'ADP'), ('the', 'DET'), ('afternoon', 'NOUN'), ('and', 'CONJ'), ('arriving', 'DET'), ('in', 'ADP'), ('San', 'NOUN'), ('Francisco.', 'DET'), ('NASA', 'DET'), ('invited', 'DET'), ('social', 'ADJ'), ('media', 'NOUN'), ('users', 'NOUN'), ('to', 'PRT'), ('experience', 'NOUN'), ('the', 'DET'), ('launch', 'NOUN'), ('of', 'ADP'), ('ICESAT-2', 'DET'), ('Satellite.', 'DET')]\n",
      "\n",
      " Length of tagged sequence:  168\n"
     ]
    }
   ],
   "source": [
    "# tagging the test sentences\n",
    "start = time.time()\n",
    "sample_tagged_seq = Viterbi(sample_test_words)\n",
    "end = time.time()\n",
    "difference = end-start\n",
    "\n",
    "print(\"Time taken in seconds: \", difference)\n",
    "print('\\nTagged Sequence: ',sample_tagged_seq)\n",
    "print('\\n Length of tagged sequence: ',len(sample_tagged_seq))"
   ]
  },
  {
   "cell_type": "markdown",
   "metadata": {},
   "source": [
    "### Technique1 - Test sample test data - 'Test_sentences.txt' with modified Viterbi"
   ]
  },
  {
   "cell_type": "code",
   "execution_count": 52,
   "metadata": {},
   "outputs": [
    {
     "name": "stdout",
     "output_type": "stream",
     "text": [
      "Time taken in seconds:  33.9452109336853\n",
      "\n",
      "Tagged Sequence:  [('Android', 'NOUN'), ('is', 'VERB'), ('a', 'DET'), ('mobile', 'ADJ'), ('operating', 'NOUN'), ('system', 'NOUN'), ('developed', 'VERB'), ('by', 'ADP'), ('Google.', 'NOUN'), ('Android', 'NOUN'), ('has', 'VERB'), ('been', 'VERB'), ('the', 'DET'), ('best-selling', 'ADJ'), ('OS', 'NOUN'), ('worldwide', 'NOUN'), ('on', 'ADP'), ('smartphones', 'NOUN'), ('since', 'ADP'), ('2011', 'NOUN'), ('and', 'CONJ'), ('on', 'ADP'), ('tablets', 'NOUN'), ('since', 'ADP'), ('2013.', 'NOUN'), ('Google', 'NOUN'), ('and', 'CONJ'), ('Twitter', 'NOUN'), ('made', 'VERB'), ('a', 'DET'), ('deal', 'NOUN'), ('in', 'ADP'), ('2015', 'NOUN'), ('that', 'ADP'), ('gave', 'VERB'), ('Google', 'NOUN'), ('access', 'NOUN'), ('to', 'PRT'), (\"Twitter's\", 'NOUN'), ('firehose.', 'NOUN'), ('Twitter', 'NOUN'), ('is', 'VERB'), ('an', 'DET'), ('online', 'NOUN'), ('news', 'NOUN'), ('and', 'CONJ'), ('social', 'ADJ'), ('networking', 'NOUN'), ('service', 'NOUN'), ('on', 'ADP'), ('which', 'DET'), ('users', 'NOUN'), ('post', 'NOUN'), ('and', 'CONJ'), ('interact', 'NOUN'), ('with', 'ADP'), ('messages', 'NOUN'), ('known', 'VERB'), ('as', 'ADP'), ('tweets.', 'NOUN'), ('Before', 'ADP'), ('entering', 'VERB'), ('politics,', 'NOUN'), ('Donald', 'NOUN'), ('Trump', 'NOUN'), ('was', 'VERB'), ('a', 'DET'), ('domineering', 'NOUN'), ('businessman', 'NOUN'), ('and', 'CONJ'), ('a', 'DET'), ('television', 'NOUN'), ('personality.', 'NOUN'), ('The', 'DET'), ('2018', 'NOUN'), ('FIFA', 'NOUN'), ('World', 'NOUN'), ('Cup', 'NOUN'), ('is', 'VERB'), ('the', 'DET'), ('21st', 'NOUN'), ('FIFA', 'NOUN'), ('World', 'NOUN'), ('Cup,', 'NOUN'), ('an', 'DET'), ('international', 'ADJ'), ('football', 'NOUN'), ('tournament', 'NOUN'), ('contested', 'NOUN'), ('once', 'ADV'), ('every', 'DET'), ('four', 'NUM'), ('years.', 'NOUN'), ('This', 'DET'), ('is', 'VERB'), ('the', 'DET'), ('first', 'ADJ'), ('World', 'NOUN'), ('Cup', 'NOUN'), ('to', 'PRT'), ('be', 'VERB'), ('held', 'VERB'), ('in', 'ADP'), ('Eastern', 'NOUN'), ('Europe', 'NOUN'), ('and', 'CONJ'), ('the', 'DET'), ('11th', 'ADJ'), ('time', 'NOUN'), ('that', 'ADP'), ('it', 'PRON'), ('has', 'VERB'), ('been', 'VERB'), ('held', 'VERB'), ('in', 'ADP'), ('Europe.', 'NOUN'), ('Show', 'NOUN'), ('me', 'PRON'), ('the', 'DET'), ('cheapest', 'ADJ'), ('round', 'NOUN'), ('trips', 'NOUN'), ('from', 'ADP'), ('Dallas', 'NOUN'), ('to', 'PRT'), ('Atlanta', 'NOUN'), ('I', 'PRON'), ('would', 'VERB'), ('like', 'ADP'), ('to', 'PRT'), ('see', 'VERB'), ('flights', 'NOUN'), ('from', 'ADP'), ('Denver', 'NOUN'), ('to', 'PRT'), ('Philadelphia.', 'NOUN'), ('Show', 'NOUN'), ('me', 'PRON'), ('the', 'DET'), ('price', 'NOUN'), ('of', 'ADP'), ('the', 'DET'), ('flights', 'NOUN'), ('leaving', 'VERB'), ('Atlanta', 'NOUN'), ('at', 'ADP'), ('about', 'ADP'), ('3', 'NUM'), ('in', 'ADP'), ('the', 'DET'), ('afternoon', 'NOUN'), ('and', 'CONJ'), ('arriving', 'NOUN'), ('in', 'ADP'), ('San', 'NOUN'), ('Francisco.', 'NOUN'), ('NASA', 'NOUN'), ('invited', 'NOUN'), ('social', 'ADJ'), ('media', 'NOUN'), ('users', 'NOUN'), ('to', 'PRT'), ('experience', 'NOUN'), ('the', 'DET'), ('launch', 'NOUN'), ('of', 'ADP'), ('ICESAT-2', 'NOUN'), ('Satellite.', 'NOUN')]\n",
      "\n",
      " Length of tagged sequence:  168\n"
     ]
    }
   ],
   "source": [
    "# tagging the test sentences\n",
    "start = time.time()\n",
    "sample_tagged_seq = Viterbi_Max_Prob(sample_test_words)\n",
    "end = time.time()\n",
    "difference = end-start\n",
    "\n",
    "print(\"Time taken in seconds: \", difference)\n",
    "print('\\nTagged Sequence: ',sample_tagged_seq)\n",
    "print('\\n Length of tagged sequence: ',len(sample_tagged_seq))"
   ]
  },
  {
   "cell_type": "markdown",
   "metadata": {},
   "source": [
    "### Technique2 - Test sample test data - 'Test_sentences.txt' with modified Viterbi"
   ]
  },
  {
   "cell_type": "code",
   "execution_count": 53,
   "metadata": {},
   "outputs": [
    {
     "name": "stdout",
     "output_type": "stream",
     "text": [
      "Time taken in seconds:  62.57760691642761\n",
      "\n",
      "Tagged Sequence:  [('Android', 'NOUN'), ('is', 'VERB'), ('a', 'DET'), ('mobile', 'ADJ'), ('operating', 'NOUN'), ('system', 'NOUN'), ('developed', 'VERB'), ('by', 'ADP'), ('Google.', 'NOUN'), ('Android', 'NOUN'), ('has', 'VERB'), ('been', 'VERB'), ('the', 'DET'), ('best-selling', 'ADJ'), ('OS', 'NOUN'), ('worldwide', 'NOUN'), ('on', 'ADP'), ('smartphones', 'VERB'), ('since', 'ADP'), ('2011', 'NUM'), ('and', 'CONJ'), ('on', 'ADP'), ('tablets', 'NOUN'), ('since', 'ADP'), ('2013.', 'NOUN'), ('Google', 'NOUN'), ('and', 'CONJ'), ('Twitter', 'NOUN'), ('made', 'VERB'), ('a', 'DET'), ('deal', 'NOUN'), ('in', 'ADP'), ('2015', 'NUM'), ('that', 'ADP'), ('gave', 'VERB'), ('Google', 'NOUN'), ('access', 'NOUN'), ('to', 'PRT'), (\"Twitter's\", 'NOUN'), ('firehose.', 'NOUN'), ('Twitter', 'NOUN'), ('is', 'VERB'), ('an', 'DET'), ('online', 'NOUN'), ('news', 'NOUN'), ('and', 'CONJ'), ('social', 'ADJ'), ('networking', 'NOUN'), ('service', 'NOUN'), ('on', 'ADP'), ('which', 'DET'), ('users', 'NOUN'), ('post', 'NOUN'), ('and', 'CONJ'), ('interact', 'NOUN'), ('with', 'ADP'), ('messages', 'VERB'), ('known', 'VERB'), ('as', 'ADP'), ('tweets.', 'NOUN'), ('Before', 'ADP'), ('entering', 'VERB'), ('politics,', 'NOUN'), ('Donald', 'NOUN'), ('Trump', 'NOUN'), ('was', 'VERB'), ('a', 'DET'), ('domineering', 'VERB'), ('businessman', 'NOUN'), ('and', 'CONJ'), ('a', 'DET'), ('television', 'NOUN'), ('personality.', 'NOUN'), ('The', 'DET'), ('2018', 'NUM'), ('FIFA', 'NOUN'), ('World', 'NOUN'), ('Cup', 'NOUN'), ('is', 'VERB'), ('the', 'DET'), ('21st', 'NOUN'), ('FIFA', 'NOUN'), ('World', 'NOUN'), ('Cup,', 'NOUN'), ('an', 'DET'), ('international', 'ADJ'), ('football', 'NOUN'), ('tournament', 'NOUN'), ('contested', 'VERB'), ('once', 'ADV'), ('every', 'DET'), ('four', 'NUM'), ('years.', 'NOUN'), ('This', 'DET'), ('is', 'VERB'), ('the', 'DET'), ('first', 'ADJ'), ('World', 'NOUN'), ('Cup', 'NOUN'), ('to', 'PRT'), ('be', 'VERB'), ('held', 'VERB'), ('in', 'ADP'), ('Eastern', 'NOUN'), ('Europe', 'NOUN'), ('and', 'CONJ'), ('the', 'DET'), ('11th', 'ADJ'), ('time', 'NOUN'), ('that', 'ADP'), ('it', 'PRON'), ('has', 'VERB'), ('been', 'VERB'), ('held', 'VERB'), ('in', 'ADP'), ('Europe.', 'NOUN'), ('Show', 'NOUN'), ('me', 'PRON'), ('the', 'DET'), ('cheapest', 'ADJ'), ('round', 'NOUN'), ('trips', 'NOUN'), ('from', 'ADP'), ('Dallas', 'NOUN'), ('to', 'PRT'), ('Atlanta', 'NOUN'), ('I', 'PRON'), ('would', 'VERB'), ('like', 'ADP'), ('to', 'PRT'), ('see', 'VERB'), ('flights', 'NOUN'), ('from', 'ADP'), ('Denver', 'NOUN'), ('to', 'PRT'), ('Philadelphia.', 'NOUN'), ('Show', 'NOUN'), ('me', 'PRON'), ('the', 'DET'), ('price', 'NOUN'), ('of', 'ADP'), ('the', 'DET'), ('flights', 'NOUN'), ('leaving', 'VERB'), ('Atlanta', 'NOUN'), ('at', 'ADP'), ('about', 'ADP'), ('3', 'NUM'), ('in', 'ADP'), ('the', 'DET'), ('afternoon', 'NOUN'), ('and', 'CONJ'), ('arriving', 'VERB'), ('in', 'ADP'), ('San', 'NOUN'), ('Francisco.', 'NOUN'), ('NASA', 'NOUN'), ('invited', 'VERB'), ('social', 'ADJ'), ('media', 'NOUN'), ('users', 'NOUN'), ('to', 'PRT'), ('experience', 'NOUN'), ('the', 'DET'), ('launch', 'NOUN'), ('of', 'ADP'), ('ICESAT-2', 'NOUN'), ('Satellite.', 'NOUN')]\n",
      "\n",
      " Length of tagged sequence:  168\n"
     ]
    }
   ],
   "source": [
    "# tagging the test sentences\n",
    "start = time.time()\n",
    "sample_tagged_seq = Viterbi_Unigram_Tagger(sample_test_words)\n",
    "end = time.time()\n",
    "difference = end-start\n",
    "\n",
    "print(\"Time taken in seconds: \", difference)\n",
    "print('\\nTagged Sequence: ',sample_tagged_seq)\n",
    "print('\\n Length of tagged sequence: ',len(sample_tagged_seq))"
   ]
  },
  {
   "cell_type": "markdown",
   "metadata": {},
   "source": [
    "#### Compare the tagging accuracies of the modifications with the vanilla Viterbi algorithm\n",
    "The accuracy of *vanilla Viterbi* Algorithm: **88%**\n",
    "\n",
    "The accuracy of *Technique-I modified Viterbi using max probability* Algorithm: **92%**\n",
    "\n",
    "The accuracy of *Technique-II modified Viterbi using Lexicon and Rule based* Algorithm: **93%**\n",
    "\n",
    "\n",
    "*The following cases were incorrectly tagged by Viterbi, are now corrected by modified Viterbi Algorithm, however the time taken is double than that of original Viterbi*\n",
    "\n",
    "- ('Android', 'NOUN')\n",
    "\n",
    "- ('Google', 'PRON')\n",
    "\n",
    "- ('operating', 'NOUN')\n",
    "\n",
    "- ('2011', 'NUM')\n",
    "\n",
    "- ('ICESAT-2', 'NOUN') \n",
    "\n",
    "- ('Satellite.', 'NOUN')"
   ]
  },
  {
   "cell_type": "code",
   "execution_count": null,
   "metadata": {},
   "outputs": [],
   "source": []
  }
 ],
 "metadata": {
  "kernelspec": {
   "display_name": "Python 3",
   "language": "python",
   "name": "python3"
  },
  "language_info": {
   "codemirror_mode": {
    "name": "ipython",
    "version": 3
   },
   "file_extension": ".py",
   "mimetype": "text/x-python",
   "name": "python",
   "nbconvert_exporter": "python",
   "pygments_lexer": "ipython3",
   "version": "3.8.5"
  }
 },
 "nbformat": 4,
 "nbformat_minor": 2
}
